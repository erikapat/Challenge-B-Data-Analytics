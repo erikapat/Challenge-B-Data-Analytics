{
 "cells": [
  {
   "cell_type": "code",
   "execution_count": null,
   "metadata": {},
   "outputs": [],
   "source": []
  },
  {
   "cell_type": "markdown",
   "metadata": {},
   "source": [
    "## **BBVA CHALLENGE**\n",
    "\n",
    "In this notebook we do the following:\n",
    "\n",
    "* Extract data with pyspark\n",
    "* Text cleaning\n",
    "* Merge data\n",
    "* Data type transformation\n",
    "* Some feature engineering\n",
    "\n",
    "From this notebook we save two datasets.\n",
    "\n",
    "* treated_data.csv: merge data for topic modelling analysis.\n",
    "* eng_data.csv: features for predictive modelling."
   ]
  },
  {
   "cell_type": "markdown",
   "metadata": {},
   "source": [
    "### **Dataset**\n",
    "\n",
    "* **1.blog_scraping.json**: results of scraping the BBVA web. This contains title, url, timestamp of publication or content.\n",
    "* **2.blog_analytics.csv**: Google analytics data- This cointains information such as number of visits, page information, averaged time spent on each page, and so on. "
   ]
  },
  {
   "cell_type": "code",
   "execution_count": 1,
   "metadata": {},
   "outputs": [
    {
     "name": "stdout",
     "output_type": "stream",
     "text": [
      "Requirement already satisfied: tzlocal in /Users/erikapat/anaconda3/lib/python3.7/site-packages (2.0.0)\n",
      "Requirement already satisfied: pytz in /Users/erikapat/anaconda3/lib/python3.7/site-packages (from tzlocal) (2019.3)\n"
     ]
    }
   ],
   "source": [
    "#pending (create env)\n",
    "#conda install -c conda-forge rpy2\n",
    "#conda install -c r rpy2\n",
    "!pip install tzlocal"
   ]
  },
  {
   "cell_type": "code",
   "execution_count": 2,
   "metadata": {},
   "outputs": [],
   "source": [
    "## **LOAD PACKAGES**\n",
    "\n",
    "import pandas as pd\n",
    "import os\n",
    "from datetime import datetime\n",
    "import numpy as np\n",
    "\n",
    "#Sometimes I will use R functions (those I believe are the best ones)\n",
    "# Load in the r magic\n",
    "%load_ext rpy2.ipython"
   ]
  },
  {
   "cell_type": "code",
   "execution_count": 3,
   "metadata": {},
   "outputs": [],
   "source": [
    "# my own functions in python\n",
    "from utils.chi_squared import *"
   ]
  },
  {
   "cell_type": "code",
   "execution_count": 4,
   "metadata": {},
   "outputs": [
    {
     "name": "stdout",
     "output_type": "stream",
     "text": [
      "The rpy2.ipython extension is already loaded. To reload it, use:\n",
      "  %reload_ext rpy2.ipython\n"
     ]
    },
    {
     "name": "stderr",
     "output_type": "stream",
     "text": [
      "/Users/erikapat/anaconda3/lib/python3.7/site-packages/rpy2/rinterface/__init__.py:146: RRuntimeWarning: Loading required package: ggplot2\n",
      "\n",
      "  warnings.warn(x, RRuntimeWarning)\n",
      "/Users/erikapat/anaconda3/lib/python3.7/site-packages/rpy2/rinterface/__init__.py:146: RRuntimeWarning: Registered S3 methods overwritten by 'ggplot2':\n",
      "  method         from \n",
      "  [.quosures     rlang\n",
      "  c.quosures     rlang\n",
      "  print.quosures rlang\n",
      "\n",
      "  warnings.warn(x, RRuntimeWarning)\n",
      "/Users/erikapat/anaconda3/lib/python3.7/site-packages/rpy2/rinterface/__init__.py:146: RRuntimeWarning: Want to understand how all the pieces fit together? See the R for Data\n",
      "Science book: http://r4ds.had.co.nz/\n",
      "\n",
      "  warnings.warn(x, RRuntimeWarning)\n",
      "/Users/erikapat/anaconda3/lib/python3.7/site-packages/rpy2/rinterface/__init__.py:146: RRuntimeWarning: Loading required package: dplyr\n",
      "\n",
      "  warnings.warn(x, RRuntimeWarning)\n",
      "/Users/erikapat/anaconda3/lib/python3.7/site-packages/rpy2/rinterface/__init__.py:146: RRuntimeWarning: \n",
      "Attaching package: ‘dplyr’\n",
      "\n",
      "\n",
      "  warnings.warn(x, RRuntimeWarning)\n",
      "/Users/erikapat/anaconda3/lib/python3.7/site-packages/rpy2/rinterface/__init__.py:146: RRuntimeWarning: The following objects are masked from ‘package:stats’:\n",
      "\n",
      "    filter, lag\n",
      "\n",
      "\n",
      "  warnings.warn(x, RRuntimeWarning)\n",
      "/Users/erikapat/anaconda3/lib/python3.7/site-packages/rpy2/rinterface/__init__.py:146: RRuntimeWarning: The following objects are masked from ‘package:base’:\n",
      "\n",
      "    intersect, setdiff, setequal, union\n",
      "\n",
      "\n",
      "  warnings.warn(x, RRuntimeWarning)\n",
      "/Users/erikapat/anaconda3/lib/python3.7/site-packages/rpy2/rinterface/__init__.py:146: RRuntimeWarning: Loading required package: data.table\n",
      "\n",
      "  warnings.warn(x, RRuntimeWarning)\n",
      "/Users/erikapat/anaconda3/lib/python3.7/site-packages/rpy2/rinterface/__init__.py:146: RRuntimeWarning: data.table 1.12.2 using 8 threads (see ?getDTthreads).  Latest news: r-datatable.com\n",
      "\n",
      "  warnings.warn(x, RRuntimeWarning)\n",
      "/Users/erikapat/anaconda3/lib/python3.7/site-packages/rpy2/rinterface/__init__.py:146: RRuntimeWarning: \n",
      "Attaching package: ‘data.table’\n",
      "\n",
      "\n",
      "  warnings.warn(x, RRuntimeWarning)\n",
      "/Users/erikapat/anaconda3/lib/python3.7/site-packages/rpy2/rinterface/__init__.py:146: RRuntimeWarning: The following objects are masked from ‘package:dplyr’:\n",
      "\n",
      "    between, first, last\n",
      "\n",
      "\n",
      "  warnings.warn(x, RRuntimeWarning)\n",
      "/Users/erikapat/anaconda3/lib/python3.7/site-packages/rpy2/rinterface/__init__.py:146: RRuntimeWarning: Loading required package: cowplot\n",
      "\n",
      "  warnings.warn(x, RRuntimeWarning)\n"
     ]
    },
    {
     "data": {
      "text/html": [
       "\n",
       "    <span>ListVector with 2 elements.</span>\n",
       "    <table>\n",
       "      <tbody>\n",
       "      \n",
       "      <tr>\n",
       "      <th>\n",
       "        value\n",
       "      </th>\n",
       "      <td>\n",
       "        function(dd){\n",
       "  dt.values = as.data.table(cbind(row.names(dd), dd), row.names = NULL)\n",
       "  names(dt.values) = c('Var1', 'value')\n",
       "  dt.values = dt.values[order(value, decreasing = T),]\n",
       "  dt.values <- dt.values[value > 0]\n",
       "  \n",
       "  d <- ggplot(dt.values, aes(y = value, x = reorder(Var1, value))) +  geom_bar(stat = \"identity\", color = 'blue') + coord_flip()\n",
       "  d <- d + ylab('Mutual info') + xlab('Features') \n",
       "  #d <- d +  theme_tq() \n",
       "  d <- d + theme(axis.title.y = element_text(size = rel(1.5)))\n",
       "  d <- d + theme(axis.text.y = element_text(size = rel(1.8)))\n",
       "  d <- d + theme(axis.text.x = element_text(size = rel(1.8)))\n",
       "  d <- d + theme(axis.title.x = element_text(size = rel(1.5)))\n",
       "  d <- d + theme(legend.text = element_text(size = 15))\n",
       "  d <- d + theme(legend.title = element_text(size = 15))\n",
       "  d <- d +  theme(\n",
       "    panel.background = element_rect(fill=\"white\") ,\n",
       "    panel.grid.minor.y = element_line(size=3),\n",
       "    panel.grid.major = element_line(colour = \"lightgray\"),\n",
       "    plot.background = element_rect(fill=\"white\")\n",
       "  )\n",
       "  \n",
       "  return(d)\n",
       "}\n",
       "\n",
       "      </td>\n",
       "      </tr>\n",
       "      \n",
       "      <tr>\n",
       "      <th>\n",
       "        visible\n",
       "      </th>\n",
       "      <td>\n",
       "        \n",
       "    <span>BoolVector with 1 elements.</span>\n",
       "    <table>\n",
       "      <tbody>\n",
       "      <tr>\n",
       "      \n",
       "      <td>\n",
       "               0\n",
       "      </td>\n",
       "      \n",
       "      </tr>\n",
       "      </tbody>\n",
       "    </table>\n",
       "    \n",
       "      </td>\n",
       "      </tr>\n",
       "      \n",
       "      </tbody>\n",
       "    </table>\n",
       "    "
      ],
      "text/plain": [
       "R object with classes: ('list',) mapped to:\n",
       "<ListVector - Python:0x1a36089550 / R:0x7f9266f37208>\n",
       "[SignatureTranslatedFunc..., BoolVector]\n",
       "  value: <class 'rpy2.robjects.functions.SignatureTranslatedFunction'>\n",
       "  R object with classes: ('function',) mapped to:\n",
       "<SignatureTranslatedFunction - Python:0x1a36084140 / R:0x7f925fcc9508>\n",
       "  visible: <class 'rpy2.robjects.vectors.BoolVector'>\n",
       "  R object with classes: ('logical',) mapped to:\n",
       "<BoolVector - Python:0x1a360810a0 / R:0x7f92618536a8>\n",
       "[       0]"
      ]
     },
     "execution_count": 4,
     "metadata": {},
     "output_type": "execute_result"
    }
   ],
   "source": [
    "# Sometimes I will use R functions (those I believe are the best ones)\n",
    "# Load in the r magic\n",
    "%load_ext rpy2.ipython\n",
    "%R require(ggplot2)\n",
    "%R require(dplyr)\n",
    "%R require(data.table)\n",
    "%R require(cowplot)\n",
    "\n",
    "# own functions \n",
    "%R source('utils/Rgraphs.R')"
   ]
  },
  {
   "cell_type": "markdown",
   "metadata": {},
   "source": [
    "## **LOAD DATA WITH PYSPARK**\n",
    "\n",
    "### 1. **blog_scraping.json**"
   ]
  },
  {
   "cell_type": "code",
   "execution_count": 5,
   "metadata": {},
   "outputs": [],
   "source": [
    "from pyspark import SparkContext\n",
    "from pyspark.sql import SQLContext\n",
    "\n",
    "APP_NAME = 'pyspark_python'\n",
    "MASTER = 'local[*]'\n",
    "\n",
    "sc = SparkContext() \n",
    "sqlc = SQLContext(sc)"
   ]
  },
  {
   "cell_type": "code",
   "execution_count": 6,
   "metadata": {},
   "outputs": [
    {
     "name": "stdout",
     "output_type": "stream",
     "text": [
      "root\n",
      " |-- blog: array (nullable = true)\n",
      " |    |-- element: struct (containsNull = true)\n",
      " |    |    |-- content: string (nullable = true)\n",
      " |    |    |-- date: string (nullable = true)\n",
      " |    |    |-- title: string (nullable = true)\n",
      " |    |    |-- url: string (nullable = true)\n",
      "\n"
     ]
    }
   ],
   "source": [
    "df = sqlc.read.json(sc.wholeTextFiles(\"data/blog_scraping.json\").values())\n",
    "df.printSchema()"
   ]
  },
  {
   "cell_type": "code",
   "execution_count": 7,
   "metadata": {},
   "outputs": [],
   "source": [
    "# Explode blog into different rows\n",
    "from pyspark.sql.functions import explode, col\n",
    "df = df.select(explode(\"blog\").alias(\"blog\"))"
   ]
  },
  {
   "cell_type": "code",
   "execution_count": 8,
   "metadata": {},
   "outputs": [],
   "source": [
    "# Separate the columns\n",
    "df = df.select(\n",
    "   col(\"blog.content\").alias(\"content\"), col(\"blog.date\").alias(\"date\"), col(\"blog.title\").alias(\"title\"),\n",
    "col(\"blog.url\").alias(\"url\"))"
   ]
  },
  {
   "cell_type": "code",
   "execution_count": 9,
   "metadata": {},
   "outputs": [
    {
     "name": "stdout",
     "output_type": "stream",
     "text": [
      "+--------------------+------------------+--------------------+--------------------+\n",
      "|             content|              date|               title|                 url|\n",
      "+--------------------+------------------+--------------------+--------------------+\n",
      "|\n",
      "El año que estam...|26 diciembre, 2018|Lo más relevante ...|https://www.bbvad...|\n",
      "|\n",
      "El perfil profes...|23 noviembre, 2018|Los Mejores Curso...|https://www.bbvad...|\n",
      "|\n",
      "Durante los últi...| 6 noviembre, 2018|Clasificación de ...|https://www.bbvad...|\n",
      "|\n",
      "El reciente whit...|  24 octubre, 2018|Desarrollamos un ...|https://www.bbvad...|\n",
      "|\n",
      "Millones de acon...|  10 octubre, 2018|Cómo las Iniciati...|https://www.bbvad...|\n",
      "+--------------------+------------------+--------------------+--------------------+\n",
      "only showing top 5 rows\n",
      "\n"
     ]
    }
   ],
   "source": [
    "df.show(5)"
   ]
  },
  {
   "cell_type": "code",
   "execution_count": 10,
   "metadata": {},
   "outputs": [
    {
     "name": "stdout",
     "output_type": "stream",
     "text": [
      "(105, 4)\n"
     ]
    },
    {
     "data": {
      "text/html": [
       "<div>\n",
       "<style scoped>\n",
       "    .dataframe tbody tr th:only-of-type {\n",
       "        vertical-align: middle;\n",
       "    }\n",
       "\n",
       "    .dataframe tbody tr th {\n",
       "        vertical-align: top;\n",
       "    }\n",
       "\n",
       "    .dataframe thead th {\n",
       "        text-align: right;\n",
       "    }\n",
       "</style>\n",
       "<table border=\"1\" class=\"dataframe\">\n",
       "  <thead>\n",
       "    <tr style=\"text-align: right;\">\n",
       "      <th></th>\n",
       "      <th>content</th>\n",
       "      <th>date</th>\n",
       "      <th>title</th>\n",
       "      <th>url</th>\n",
       "    </tr>\n",
       "  </thead>\n",
       "  <tbody>\n",
       "    <tr>\n",
       "      <td>0</td>\n",
       "      <td>\\nEl año que estamos a punto de dar por finali...</td>\n",
       "      <td>26 diciembre, 2018</td>\n",
       "      <td>Lo más relevante de la ciencia de datos en 2018</td>\n",
       "      <td>https://www.bbvadata.com/es/the-most-important...</td>\n",
       "    </tr>\n",
       "    <tr>\n",
       "      <td>1</td>\n",
       "      <td>\\nEl perfil profesional del científico de dato...</td>\n",
       "      <td>23 noviembre, 2018</td>\n",
       "      <td>Los Mejores Cursos Online en Ciencia de Datos</td>\n",
       "      <td>https://www.bbvadata.com/es/the-best-online-co...</td>\n",
       "    </tr>\n",
       "    <tr>\n",
       "      <td>2</td>\n",
       "      <td>\\nDurante los últimos dos veranos he trabajado...</td>\n",
       "      <td>6 noviembre, 2018</td>\n",
       "      <td>Clasificación de Texto Financiero: un Análisis...</td>\n",
       "      <td>https://www.bbvadata.com/es/4062-2/</td>\n",
       "    </tr>\n",
       "    <tr>\n",
       "      <td>3</td>\n",
       "      <td>\\nEl reciente white paper publicado por BBVA D...</td>\n",
       "      <td>24 octubre, 2018</td>\n",
       "      <td>Desarrollamos un motor de predicción con incer...</td>\n",
       "      <td>https://www.bbvadata.com/es/bayesian-deep-lear...</td>\n",
       "    </tr>\n",
       "    <tr>\n",
       "      <td>4</td>\n",
       "      <td>\\nMillones de acontecimientos e historias ocur...</td>\n",
       "      <td>10 octubre, 2018</td>\n",
       "      <td>Cómo las Iniciativas Basadas en Datos pueden S...</td>\n",
       "      <td>https://www.bbvadata.com/es/how-data-driven-in...</td>\n",
       "    </tr>\n",
       "  </tbody>\n",
       "</table>\n",
       "</div>"
      ],
      "text/plain": [
       "                                             content                date  \\\n",
       "0  \\nEl año que estamos a punto de dar por finali...  26 diciembre, 2018   \n",
       "1  \\nEl perfil profesional del científico de dato...  23 noviembre, 2018   \n",
       "2  \\nDurante los últimos dos veranos he trabajado...   6 noviembre, 2018   \n",
       "3  \\nEl reciente white paper publicado por BBVA D...    24 octubre, 2018   \n",
       "4  \\nMillones de acontecimientos e historias ocur...    10 octubre, 2018   \n",
       "\n",
       "                                               title  \\\n",
       "0    Lo más relevante de la ciencia de datos en 2018   \n",
       "1      Los Mejores Cursos Online en Ciencia de Datos   \n",
       "2  Clasificación de Texto Financiero: un Análisis...   \n",
       "3  Desarrollamos un motor de predicción con incer...   \n",
       "4  Cómo las Iniciativas Basadas en Datos pueden S...   \n",
       "\n",
       "                                                 url  \n",
       "0  https://www.bbvadata.com/es/the-most-important...  \n",
       "1  https://www.bbvadata.com/es/the-best-online-co...  \n",
       "2                https://www.bbvadata.com/es/4062-2/  \n",
       "3  https://www.bbvadata.com/es/bayesian-deep-lear...  \n",
       "4  https://www.bbvadata.com/es/how-data-driven-in...  "
      ]
     },
     "execution_count": 10,
     "metadata": {},
     "output_type": "execute_result"
    }
   ],
   "source": [
    "#transform to pandas\n",
    "print(df.toPandas().shape)\n",
    "df = df.toPandas()\n",
    "df.head()"
   ]
  },
  {
   "cell_type": "code",
   "execution_count": 11,
   "metadata": {},
   "outputs": [],
   "source": [
    "def clean_text(text):\n",
    "    import re\n",
    "    text = re.sub(r\"https://www.bbvadata.com/es/\", \"\", text)\n",
    "    text = re.sub(r\"/\", \"\", text)\n",
    "    return text\n",
    "\n",
    "df['url_title'] = df['url'].map(lambda x : clean_text(x))"
   ]
  },
  {
   "cell_type": "code",
   "execution_count": 12,
   "metadata": {},
   "outputs": [],
   "source": [
    "#I need to check if all pages are from Spain\n",
    "import re\n",
    "transform_functions = [\n",
    "    lambda x: len(re.findall(\"/es/\", x)) \n",
    "]\n",
    "for func in transform_functions:\n",
    "     df = pd.concat([df, df['url'].apply(func)], axis=1)"
   ]
  },
  {
   "cell_type": "code",
   "execution_count": 13,
   "metadata": {},
   "outputs": [
    {
     "name": "stdout",
     "output_type": "stream",
     "text": [
      "         url\n",
      "count  105.0\n",
      "mean     1.0\n",
      "std      0.0\n",
      "min      1.0\n",
      "25%      1.0\n",
      "50%      1.0\n",
      "75%      1.0\n",
      "max      1.0\n"
     ]
    }
   ],
   "source": [
    "# yes, all the pages here are from spain\n",
    "print(df.describe())\n",
    "df = df.drop(columns = ['url'])"
   ]
  },
  {
   "cell_type": "code",
   "execution_count": 14,
   "metadata": {},
   "outputs": [],
   "source": [
    "# In the second dataset this articles appears, I want to check if in the first dataset we have the same titles. \n",
    "#It's seems that is correct.\n",
    "#df[df['url_title'] == 'the-best-data-science-masters-in-spain-and-online-to-consider-this-summer']\n",
    "#df[df['url_title'] == 'what-will-the-bank-of-the-future-look-like']\n",
    "#df[df['url_title'] == 'publications']\n",
    "#df[df['url_title'] == 'improving-customer-experience-forecasting-models']\n",
    "#df[df['url_title'] == 'rediscovering-cities-credit-card-data-3'] #no\n",
    "#df[df['url_title'] == 'rediscovering-cities-credit-card-data-1'] #no\n",
    "#df[df['url_title'] == 'rediscovering-cities-credit-card-data-2'] #yes\n",
    "#df[df['url_title'] == 'rediscovering-cities-credit-card-data']   #yes"
   ]
  },
  {
   "cell_type": "markdown",
   "metadata": {},
   "source": [
    "### 2. **blog_analytics.csv**\n",
    "\n",
    "* From the first dataset (loaded above) we have data from Spain, we could see that througt the url and the content. \n",
    "* We want to merge these two datasets, but it is not easy. My idea is to use the url title of the article obtained filtering the url, the proble is that not all the titles in the dataset 2 are availables or complete.\n"
   ]
  },
  {
   "cell_type": "code",
   "execution_count": 15,
   "metadata": {},
   "outputs": [],
   "source": [
    "df_analytics = sqlc.read\\\n",
    "  .format('org.apache.spark.sql.execution.datasources.csv.CSVFileFormat')\\\n",
    "  .option('header', 'true')\\\n",
    "  .option('inferSchema', 'true')\\\n",
    "  .load('data/blog_analytics.csv')"
   ]
  },
  {
   "cell_type": "code",
   "execution_count": 16,
   "metadata": {},
   "outputs": [
    {
     "name": "stdout",
     "output_type": "stream",
     "text": [
      "(17243, 11)\n"
     ]
    }
   ],
   "source": [
    "#transform to pandas\n",
    "print(df_analytics.toPandas().shape)\n",
    "df_analytics = df_analytics.toPandas()"
   ]
  },
  {
   "cell_type": "code",
   "execution_count": 17,
   "metadata": {},
   "outputs": [
    {
     "data": {
      "text/html": [
       "<div>\n",
       "<style scoped>\n",
       "    .dataframe tbody tr th:only-of-type {\n",
       "        vertical-align: middle;\n",
       "    }\n",
       "\n",
       "    .dataframe tbody tr th {\n",
       "        vertical-align: top;\n",
       "    }\n",
       "\n",
       "    .dataframe thead th {\n",
       "        text-align: right;\n",
       "    }\n",
       "</style>\n",
       "<table border=\"1\" class=\"dataframe\">\n",
       "  <thead>\n",
       "    <tr style=\"text-align: right;\">\n",
       "      <th></th>\n",
       "      <th>Page</th>\n",
       "      <th>Page Title</th>\n",
       "      <th>Source</th>\n",
       "      <th>Country</th>\n",
       "      <th>Device Category</th>\n",
       "      <th>Sessions</th>\n",
       "      <th>Avg. Time on Page</th>\n",
       "      <th>Bounce Rate</th>\n",
       "      <th>Page Views</th>\n",
       "      <th>Unique Page Views</th>\n",
       "      <th>Users</th>\n",
       "    </tr>\n",
       "  </thead>\n",
       "  <tbody>\n",
       "    <tr>\n",
       "      <td>0</td>\n",
       "      <td>/</td>\n",
       "      <td>Home - BBVA Data &amp; Analytics</td>\n",
       "      <td>google</td>\n",
       "      <td>Spain</td>\n",
       "      <td>desktop</td>\n",
       "      <td>997</td>\n",
       "      <td>00:01:11</td>\n",
       "      <td>32.30%</td>\n",
       "      <td>1,701</td>\n",
       "      <td>1,215</td>\n",
       "      <td>679</td>\n",
       "    </tr>\n",
       "    <tr>\n",
       "      <td>1</td>\n",
       "      <td>/</td>\n",
       "      <td>Home - BBVA Data &amp; Analytics</td>\n",
       "      <td>(direct)</td>\n",
       "      <td>United States</td>\n",
       "      <td>desktop</td>\n",
       "      <td>780</td>\n",
       "      <td>00:00:47</td>\n",
       "      <td>87.18%</td>\n",
       "      <td>851</td>\n",
       "      <td>793</td>\n",
       "      <td>774</td>\n",
       "    </tr>\n",
       "    <tr>\n",
       "      <td>2</td>\n",
       "      <td>/</td>\n",
       "      <td>Home - BBVA Data &amp; Analytics</td>\n",
       "      <td>(direct)</td>\n",
       "      <td>Spain</td>\n",
       "      <td>desktop</td>\n",
       "      <td>653</td>\n",
       "      <td>00:01:27</td>\n",
       "      <td>47.01%</td>\n",
       "      <td>923</td>\n",
       "      <td>712</td>\n",
       "      <td>526</td>\n",
       "    </tr>\n",
       "    <tr>\n",
       "      <td>3</td>\n",
       "      <td>/</td>\n",
       "      <td>Home - BBVA Data &amp; Analytics</td>\n",
       "      <td>(direct)</td>\n",
       "      <td>Spain</td>\n",
       "      <td>mobile</td>\n",
       "      <td>456</td>\n",
       "      <td>00:01:02</td>\n",
       "      <td>78.29%</td>\n",
       "      <td>540</td>\n",
       "      <td>471</td>\n",
       "      <td>415</td>\n",
       "    </tr>\n",
       "    <tr>\n",
       "      <td>4</td>\n",
       "      <td>/</td>\n",
       "      <td>Home - BBVA Data &amp; Analytics</td>\n",
       "      <td>google</td>\n",
       "      <td>United States</td>\n",
       "      <td>desktop</td>\n",
       "      <td>313</td>\n",
       "      <td>00:00:46</td>\n",
       "      <td>40.26%</td>\n",
       "      <td>488</td>\n",
       "      <td>366</td>\n",
       "      <td>326</td>\n",
       "    </tr>\n",
       "  </tbody>\n",
       "</table>\n",
       "</div>"
      ],
      "text/plain": [
       "  Page                    Page Title    Source        Country Device Category  \\\n",
       "0    /  Home - BBVA Data & Analytics    google          Spain         desktop   \n",
       "1    /  Home - BBVA Data & Analytics  (direct)  United States         desktop   \n",
       "2    /  Home - BBVA Data & Analytics  (direct)          Spain         desktop   \n",
       "3    /  Home - BBVA Data & Analytics  (direct)          Spain          mobile   \n",
       "4    /  Home - BBVA Data & Analytics    google  United States         desktop   \n",
       "\n",
       "  Sessions Avg. Time on Page Bounce Rate Page Views Unique Page Views Users  \n",
       "0      997          00:01:11      32.30%      1,701             1,215   679  \n",
       "1      780          00:00:47      87.18%        851               793   774  \n",
       "2      653          00:01:27      47.01%        923               712   526  \n",
       "3      456          00:01:02      78.29%        540               471   415  \n",
       "4      313          00:00:46      40.26%        488               366   326  "
      ]
     },
     "execution_count": 17,
     "metadata": {},
     "output_type": "execute_result"
    }
   ],
   "source": [
    "df_analytics.head()"
   ]
  },
  {
   "cell_type": "code",
   "execution_count": 18,
   "metadata": {},
   "outputs": [
    {
     "data": {
      "text/plain": [
       "17238                                         publications\n",
       "17239                                         publications\n",
       "17240    the-best-data-science-masters-in-spain-and-onl...\n",
       "17241           what-will-the-bank-of-the-future-look-like\n",
       "17242           what-will-the-bank-of-the-future-look-like\n",
       "Name: url_title, dtype: object"
      ]
     },
     "execution_count": 18,
     "metadata": {},
     "output_type": "execute_result"
    }
   ],
   "source": [
    "def clean_text(text):\n",
    "    import re\n",
    "    text = re.sub(r\"search?stq=\", \"\", text)\n",
    "    text = re.sub(r\"/www.bbvadata.com/es/\", \"\", text)\n",
    "    text = re.sub(r\"/www.bbvadata.com/\", \"\", text)\n",
    "    text = re.sub(r\"/es/\", \"\", text)\n",
    "    text = re.sub(r\"/\", \"\", text)\n",
    "    return text\n",
    "\n",
    "df_analytics['url_title'] = df_analytics['Page'].map(lambda x : clean_text(x))\n",
    "df_analytics['url_title'].tail()"
   ]
  },
  {
   "cell_type": "code",
   "execution_count": 19,
   "metadata": {},
   "outputs": [
    {
     "data": {
      "text/plain": [
       "Index(['Page', 'Page Title', 'Source', 'Country', 'Device Category',\n",
       "       'Sessions', 'Avg. Time on Page', 'Bounce Rate', 'Page Views',\n",
       "       'Unique Page Views', 'Users', 'url_title'],\n",
       "      dtype='object')"
      ]
     },
     "execution_count": 19,
     "metadata": {},
     "output_type": "execute_result"
    }
   ],
   "source": [
    "df_analytics.columns"
   ]
  },
  {
   "cell_type": "markdown",
   "metadata": {},
   "source": [
    "## **Merge**"
   ]
  },
  {
   "cell_type": "code",
   "execution_count": 20,
   "metadata": {},
   "outputs": [
    {
     "name": "stdout",
     "output_type": "stream",
     "text": [
      "(17243, 12)\n",
      "(105, 4)\n"
     ]
    }
   ],
   "source": [
    "print(df_analytics.shape)\n",
    "print(df.shape)"
   ]
  },
  {
   "cell_type": "code",
   "execution_count": 21,
   "metadata": {},
   "outputs": [
    {
     "name": "stdout",
     "output_type": "stream",
     "text": [
      "Inner merge:  (9860, 15)\n",
      "Left merge:  (17243, 15)\n"
     ]
    }
   ],
   "source": [
    "# Only 7077 have complete infomation about the title\n",
    "print('Inner merge: ', pd.merge(df_analytics, df, on = 'url_title', how = 'inner').shape)\n",
    "print('Left merge: ', pd.merge(df_analytics, df, on = 'url_title', how = 'left').shape)"
   ]
  },
  {
   "cell_type": "code",
   "execution_count": 22,
   "metadata": {},
   "outputs": [
    {
     "data": {
      "text/plain": [
       "(9860, 15)"
      ]
     },
     "execution_count": 22,
     "metadata": {},
     "output_type": "execute_result"
    }
   ],
   "source": [
    "df_merge = pd.merge(df_analytics, df, on = 'url_title', how = 'inner')\n",
    "df_merge.shape"
   ]
  },
  {
   "cell_type": "code",
   "execution_count": 23,
   "metadata": {},
   "outputs": [
    {
     "name": "stdout",
     "output_type": "stream",
     "text": [
      "(7383, 15)\n"
     ]
    },
    {
     "data": {
      "text/html": [
       "<div>\n",
       "<style scoped>\n",
       "    .dataframe tbody tr th:only-of-type {\n",
       "        vertical-align: middle;\n",
       "    }\n",
       "\n",
       "    .dataframe tbody tr th {\n",
       "        vertical-align: top;\n",
       "    }\n",
       "\n",
       "    .dataframe thead th {\n",
       "        text-align: right;\n",
       "    }\n",
       "</style>\n",
       "<table border=\"1\" class=\"dataframe\">\n",
       "  <thead>\n",
       "    <tr style=\"text-align: right;\">\n",
       "      <th></th>\n",
       "      <th>Page</th>\n",
       "      <th>Page Title</th>\n",
       "      <th>Source</th>\n",
       "      <th>Country</th>\n",
       "      <th>Device Category</th>\n",
       "      <th>Sessions</th>\n",
       "      <th>Avg. Time on Page</th>\n",
       "      <th>Bounce Rate</th>\n",
       "      <th>Page Views</th>\n",
       "      <th>Unique Page Views</th>\n",
       "      <th>Users</th>\n",
       "      <th>url_title</th>\n",
       "      <th>content</th>\n",
       "      <th>date</th>\n",
       "      <th>title</th>\n",
       "    </tr>\n",
       "  </thead>\n",
       "  <tbody>\n",
       "    <tr>\n",
       "      <td>16855</td>\n",
       "      <td>/search?stq=hurracane</td>\n",
       "      <td>Publicaciones</td>\n",
       "      <td>google</td>\n",
       "      <td>Mexico</td>\n",
       "      <td>desktop</td>\n",
       "      <td>0</td>\n",
       "      <td>00:00:11</td>\n",
       "      <td>0.00%</td>\n",
       "      <td>2</td>\n",
       "      <td>1</td>\n",
       "      <td>1</td>\n",
       "      <td>search?stq=hurracane</td>\n",
       "      <td>NaN</td>\n",
       "      <td>NaN</td>\n",
       "      <td>NaN</td>\n",
       "    </tr>\n",
       "    <tr>\n",
       "      <td>16856</td>\n",
       "      <td>/search?stq=Impacto económico de los grandes p...</td>\n",
       "      <td>Home - BBVA Data &amp; Analytics</td>\n",
       "      <td>bbva.com</td>\n",
       "      <td>United States</td>\n",
       "      <td>tablet</td>\n",
       "      <td>0</td>\n",
       "      <td>00:00:15</td>\n",
       "      <td>0.00%</td>\n",
       "      <td>1</td>\n",
       "      <td>1</td>\n",
       "      <td>1</td>\n",
       "      <td>search?stq=Impacto económico de los grandes pr...</td>\n",
       "      <td>NaN</td>\n",
       "      <td>NaN</td>\n",
       "      <td>NaN</td>\n",
       "    </tr>\n",
       "    <tr>\n",
       "      <td>16857</td>\n",
       "      <td>/search?stq=inteligencia</td>\n",
       "      <td>Join us - BBVA Data &amp; Analytics</td>\n",
       "      <td>(direct)</td>\n",
       "      <td>Italy</td>\n",
       "      <td>desktop</td>\n",
       "      <td>0</td>\n",
       "      <td>00:00:11</td>\n",
       "      <td>0.00%</td>\n",
       "      <td>1</td>\n",
       "      <td>1</td>\n",
       "      <td>1</td>\n",
       "      <td>search?stq=inteligencia</td>\n",
       "      <td>NaN</td>\n",
       "      <td>NaN</td>\n",
       "      <td>NaN</td>\n",
       "    </tr>\n",
       "    <tr>\n",
       "      <td>16858</td>\n",
       "      <td>/search?stq=intern</td>\n",
       "      <td>Join us - BBVA Data &amp; Analytics</td>\n",
       "      <td>google</td>\n",
       "      <td>Spain</td>\n",
       "      <td>desktop</td>\n",
       "      <td>0</td>\n",
       "      <td>00:00:00</td>\n",
       "      <td>0.00%</td>\n",
       "      <td>1</td>\n",
       "      <td>1</td>\n",
       "      <td>1</td>\n",
       "      <td>search?stq=intern</td>\n",
       "      <td>NaN</td>\n",
       "      <td>NaN</td>\n",
       "      <td>NaN</td>\n",
       "    </tr>\n",
       "    <tr>\n",
       "      <td>16859</td>\n",
       "      <td>/search?stq=intern</td>\n",
       "      <td>Join us - BBVA Data &amp; Analytics</td>\n",
       "      <td>google</td>\n",
       "      <td>United States</td>\n",
       "      <td>desktop</td>\n",
       "      <td>0</td>\n",
       "      <td>00:00:00</td>\n",
       "      <td>0.00%</td>\n",
       "      <td>1</td>\n",
       "      <td>1</td>\n",
       "      <td>1</td>\n",
       "      <td>search?stq=intern</td>\n",
       "      <td>NaN</td>\n",
       "      <td>NaN</td>\n",
       "      <td>NaN</td>\n",
       "    </tr>\n",
       "  </tbody>\n",
       "</table>\n",
       "</div>"
      ],
      "text/plain": [
       "                                                    Page  \\\n",
       "16855                              /search?stq=hurracane   \n",
       "16856  /search?stq=Impacto económico de los grandes p...   \n",
       "16857                           /search?stq=inteligencia   \n",
       "16858                                 /search?stq=intern   \n",
       "16859                                 /search?stq=intern   \n",
       "\n",
       "                            Page Title    Source        Country  \\\n",
       "16855                    Publicaciones    google         Mexico   \n",
       "16856     Home - BBVA Data & Analytics  bbva.com  United States   \n",
       "16857  Join us - BBVA Data & Analytics  (direct)          Italy   \n",
       "16858  Join us - BBVA Data & Analytics    google          Spain   \n",
       "16859  Join us - BBVA Data & Analytics    google  United States   \n",
       "\n",
       "      Device Category Sessions Avg. Time on Page Bounce Rate Page Views  \\\n",
       "16855         desktop        0          00:00:11       0.00%          2   \n",
       "16856          tablet        0          00:00:15       0.00%          1   \n",
       "16857         desktop        0          00:00:11       0.00%          1   \n",
       "16858         desktop        0          00:00:00       0.00%          1   \n",
       "16859         desktop        0          00:00:00       0.00%          1   \n",
       "\n",
       "      Unique Page Views Users  \\\n",
       "16855                 1     1   \n",
       "16856                 1     1   \n",
       "16857                 1     1   \n",
       "16858                 1     1   \n",
       "16859                 1     1   \n",
       "\n",
       "                                               url_title content date title  \n",
       "16855                               search?stq=hurracane     NaN  NaN   NaN  \n",
       "16856  search?stq=Impacto económico de los grandes pr...     NaN  NaN   NaN  \n",
       "16857                            search?stq=inteligencia     NaN  NaN   NaN  \n",
       "16858                                  search?stq=intern     NaN  NaN   NaN  \n",
       "16859                                  search?stq=intern     NaN  NaN   NaN  "
      ]
     },
     "execution_count": 23,
     "metadata": {},
     "output_type": "execute_result"
    }
   ],
   "source": [
    "df_out = pd.merge(df_analytics, df, on = 'url_title', how = 'outer')\n",
    "df_out = df_out[df_out['content'].isnull()]\n",
    "print(df_out.shape) # this are the pages that have no info ...\n",
    "df_out.head(7000).tail()"
   ]
  },
  {
   "cell_type": "code",
   "execution_count": 24,
   "metadata": {},
   "outputs": [
    {
     "data": {
      "text/html": [
       "<div>\n",
       "<style scoped>\n",
       "    .dataframe tbody tr th:only-of-type {\n",
       "        vertical-align: middle;\n",
       "    }\n",
       "\n",
       "    .dataframe tbody tr th {\n",
       "        vertical-align: top;\n",
       "    }\n",
       "\n",
       "    .dataframe thead th {\n",
       "        text-align: right;\n",
       "    }\n",
       "</style>\n",
       "<table border=\"1\" class=\"dataframe\">\n",
       "  <thead>\n",
       "    <tr style=\"text-align: right;\">\n",
       "      <th></th>\n",
       "      <th>Page</th>\n",
       "      <th>Page Title</th>\n",
       "      <th>Source</th>\n",
       "      <th>Country</th>\n",
       "      <th>Device Category</th>\n",
       "      <th>Sessions</th>\n",
       "      <th>Avg. Time on Page</th>\n",
       "      <th>Bounce Rate</th>\n",
       "      <th>Page Views</th>\n",
       "      <th>Unique Page Views</th>\n",
       "      <th>Users</th>\n",
       "      <th>url_title</th>\n",
       "      <th>content</th>\n",
       "      <th>date</th>\n",
       "      <th>title</th>\n",
       "    </tr>\n",
       "  </thead>\n",
       "  <tbody>\n",
       "    <tr>\n",
       "      <td>0</td>\n",
       "      <td>/4062-2/</td>\n",
       "      <td>Financial Text Classification: an Analysis of ...</td>\n",
       "      <td>(direct)</td>\n",
       "      <td>Spain</td>\n",
       "      <td>mobile</td>\n",
       "      <td>47</td>\n",
       "      <td>00:05:39</td>\n",
       "      <td>85.11%</td>\n",
       "      <td>64</td>\n",
       "      <td>50</td>\n",
       "      <td>28</td>\n",
       "      <td>4062-2</td>\n",
       "      <td>\\nDurante los últimos dos veranos he trabajado...</td>\n",
       "      <td>6 noviembre, 2018</td>\n",
       "      <td>Clasificación de Texto Financiero: un Análisis...</td>\n",
       "    </tr>\n",
       "    <tr>\n",
       "      <td>1</td>\n",
       "      <td>/4062-2/</td>\n",
       "      <td>Financial Text Classification: an Analysis of ...</td>\n",
       "      <td>(direct)</td>\n",
       "      <td>Spain</td>\n",
       "      <td>desktop</td>\n",
       "      <td>19</td>\n",
       "      <td>00:11:38</td>\n",
       "      <td>73.68%</td>\n",
       "      <td>30</td>\n",
       "      <td>25</td>\n",
       "      <td>20</td>\n",
       "      <td>4062-2</td>\n",
       "      <td>\\nDurante los últimos dos veranos he trabajado...</td>\n",
       "      <td>6 noviembre, 2018</td>\n",
       "      <td>Clasificación de Texto Financiero: un Análisis...</td>\n",
       "    </tr>\n",
       "    <tr>\n",
       "      <td>2</td>\n",
       "      <td>/4062-2/</td>\n",
       "      <td>Financial Text Classification: an Analysis of ...</td>\n",
       "      <td>t.co</td>\n",
       "      <td>Spain</td>\n",
       "      <td>mobile</td>\n",
       "      <td>14</td>\n",
       "      <td>00:00:00</td>\n",
       "      <td>100.00%</td>\n",
       "      <td>14</td>\n",
       "      <td>14</td>\n",
       "      <td>5</td>\n",
       "      <td>4062-2</td>\n",
       "      <td>\\nDurante los últimos dos veranos he trabajado...</td>\n",
       "      <td>6 noviembre, 2018</td>\n",
       "      <td>Clasificación de Texto Financiero: un Análisis...</td>\n",
       "    </tr>\n",
       "    <tr>\n",
       "      <td>3</td>\n",
       "      <td>/4062-2/</td>\n",
       "      <td>Financial Text Classification: an Analysis of ...</td>\n",
       "      <td>linkedin.com</td>\n",
       "      <td>Spain</td>\n",
       "      <td>desktop</td>\n",
       "      <td>13</td>\n",
       "      <td>00:11:25</td>\n",
       "      <td>84.62%</td>\n",
       "      <td>16</td>\n",
       "      <td>14</td>\n",
       "      <td>12</td>\n",
       "      <td>4062-2</td>\n",
       "      <td>\\nDurante los últimos dos veranos he trabajado...</td>\n",
       "      <td>6 noviembre, 2018</td>\n",
       "      <td>Clasificación de Texto Financiero: un Análisis...</td>\n",
       "    </tr>\n",
       "    <tr>\n",
       "      <td>4</td>\n",
       "      <td>/4062-2/</td>\n",
       "      <td>Financial Text Classification: an Analysis of ...</td>\n",
       "      <td>google</td>\n",
       "      <td>United States</td>\n",
       "      <td>desktop</td>\n",
       "      <td>9</td>\n",
       "      <td>00:03:12</td>\n",
       "      <td>88.89%</td>\n",
       "      <td>13</td>\n",
       "      <td>12</td>\n",
       "      <td>8</td>\n",
       "      <td>4062-2</td>\n",
       "      <td>\\nDurante los últimos dos veranos he trabajado...</td>\n",
       "      <td>6 noviembre, 2018</td>\n",
       "      <td>Clasificación de Texto Financiero: un Análisis...</td>\n",
       "    </tr>\n",
       "  </tbody>\n",
       "</table>\n",
       "</div>"
      ],
      "text/plain": [
       "       Page                                         Page Title        Source  \\\n",
       "0  /4062-2/  Financial Text Classification: an Analysis of ...      (direct)   \n",
       "1  /4062-2/  Financial Text Classification: an Analysis of ...      (direct)   \n",
       "2  /4062-2/  Financial Text Classification: an Analysis of ...          t.co   \n",
       "3  /4062-2/  Financial Text Classification: an Analysis of ...  linkedin.com   \n",
       "4  /4062-2/  Financial Text Classification: an Analysis of ...        google   \n",
       "\n",
       "         Country Device Category Sessions Avg. Time on Page Bounce Rate  \\\n",
       "0          Spain          mobile       47          00:05:39      85.11%   \n",
       "1          Spain         desktop       19          00:11:38      73.68%   \n",
       "2          Spain          mobile       14          00:00:00     100.00%   \n",
       "3          Spain         desktop       13          00:11:25      84.62%   \n",
       "4  United States         desktop        9          00:03:12      88.89%   \n",
       "\n",
       "  Page Views Unique Page Views Users url_title  \\\n",
       "0         64                50    28    4062-2   \n",
       "1         30                25    20    4062-2   \n",
       "2         14                14     5    4062-2   \n",
       "3         16                14    12    4062-2   \n",
       "4         13                12     8    4062-2   \n",
       "\n",
       "                                             content               date  \\\n",
       "0  \\nDurante los últimos dos veranos he trabajado...  6 noviembre, 2018   \n",
       "1  \\nDurante los últimos dos veranos he trabajado...  6 noviembre, 2018   \n",
       "2  \\nDurante los últimos dos veranos he trabajado...  6 noviembre, 2018   \n",
       "3  \\nDurante los últimos dos veranos he trabajado...  6 noviembre, 2018   \n",
       "4  \\nDurante los últimos dos veranos he trabajado...  6 noviembre, 2018   \n",
       "\n",
       "                                               title  \n",
       "0  Clasificación de Texto Financiero: un Análisis...  \n",
       "1  Clasificación de Texto Financiero: un Análisis...  \n",
       "2  Clasificación de Texto Financiero: un Análisis...  \n",
       "3  Clasificación de Texto Financiero: un Análisis...  \n",
       "4  Clasificación de Texto Financiero: un Análisis...  "
      ]
     },
     "execution_count": 24,
     "metadata": {},
     "output_type": "execute_result"
    }
   ],
   "source": [
    "df_merge.head()"
   ]
  },
  {
   "cell_type": "markdown",
   "metadata": {},
   "source": [
    "## **LowerCase**"
   ]
  },
  {
   "cell_type": "code",
   "execution_count": 25,
   "metadata": {},
   "outputs": [],
   "source": [
    "# all in lowercase\n",
    "df_merge[['Page', 'Page Title', 'Source', 'Country', 'Device Category', 'content', 'title']] = df_merge[['Page', 'Page Title', 'Source', 'Country', 'Device Category', 'content', 'title']].apply(lambda x: x.astype(str).str.lower())"
   ]
  },
  {
   "cell_type": "markdown",
   "metadata": {},
   "source": [
    "## **TRANSFORM DATA FOR FUTURE ANALYSIS**"
   ]
  },
  {
   "cell_type": "code",
   "execution_count": 26,
   "metadata": {},
   "outputs": [],
   "source": [
    "#convert HH:MM:SS into seconds in aggegate (csv file)\n",
    "import time, datetime\n",
    "def convertTime(t):\n",
    "    x = time.strptime(t,'%H:%M:%S')\n",
    "    return str(int(datetime.timedelta(hours=x.tm_hour,minutes=x.tm_min,seconds=x.tm_sec).total_seconds()))"
   ]
  },
  {
   "cell_type": "code",
   "execution_count": 27,
   "metadata": {},
   "outputs": [],
   "source": [
    "df_merge[\"Avg. Time on Page\"] = df_merge[\"Avg. Time on Page\"].apply(convertTime)"
   ]
  },
  {
   "cell_type": "code",
   "execution_count": 28,
   "metadata": {},
   "outputs": [],
   "source": [
    "df_merge[\"Avg. Time on Page\"] = pd.to_numeric(df_merge[\"Avg. Time on Page\"])"
   ]
  },
  {
   "cell_type": "code",
   "execution_count": 29,
   "metadata": {},
   "outputs": [],
   "source": [
    "df_merge[\"Sessions\"] = pd.to_numeric(df_merge.Sessions, errors='coerce') #.fillna(np.nan).astype(int)\n",
    "df_merge[\"Users\"] = pd.to_numeric(df_merge.Users, errors='coerce') #.fillna(np.nan).astype(int)"
   ]
  },
  {
   "cell_type": "code",
   "execution_count": 30,
   "metadata": {},
   "outputs": [],
   "source": [
    "df_merge[\"Page Views\"] = pd.to_numeric(df_merge['Page Views'], errors='coerce') #.fillna(np.nan).astype(int)\n",
    "df_merge[\"Unique Page Views\"] = pd.to_numeric(df_merge['Unique Page Views'], errors='coerce') #.fillna(np.nan).astype(int)"
   ]
  },
  {
   "cell_type": "code",
   "execution_count": 31,
   "metadata": {},
   "outputs": [],
   "source": [
    "import datetime\n",
    "import locale\n",
    "locale.setlocale(locale.LC_TIME, \"es_ES\") #in order to work in mac\n",
    "\n",
    "df_merge['date'] = list(map(lambda x: datetime.datetime.strptime(x,'%d %B, %Y').strftime('%d/%m/%Y'), df_merge['date']))"
   ]
  },
  {
   "cell_type": "code",
   "execution_count": 32,
   "metadata": {},
   "outputs": [],
   "source": [
    "df_merge['date'] = pd.to_datetime(df_merge['date'])"
   ]
  },
  {
   "cell_type": "code",
   "execution_count": 33,
   "metadata": {},
   "outputs": [],
   "source": [
    "#Bounce Rate: the percentage of visitors to a particular website who navigate away from the site after viewing only one page.\n",
    "df_merge['Bounce Rate'] = df_merge['Bounce Rate'].str.rstrip('%').astype('float') / 100.0"
   ]
  },
  {
   "cell_type": "code",
   "execution_count": 34,
   "metadata": {},
   "outputs": [],
   "source": [
    "df_merge = df_merge.drop(columns = ['Page'])"
   ]
  },
  {
   "cell_type": "markdown",
   "metadata": {},
   "source": [
    "## **CHECK DATA**"
   ]
  },
  {
   "cell_type": "code",
   "execution_count": 35,
   "metadata": {},
   "outputs": [
    {
     "data": {
      "text/plain": [
       "Page Title                   object\n",
       "Source                       object\n",
       "Country                      object\n",
       "Device Category              object\n",
       "Sessions                    float64\n",
       "Avg. Time on Page             int64\n",
       "Bounce Rate                 float64\n",
       "Page Views                  float64\n",
       "Unique Page Views           float64\n",
       "Users                       float64\n",
       "url_title                    object\n",
       "content                      object\n",
       "date                 datetime64[ns]\n",
       "title                        object\n",
       "dtype: object"
      ]
     },
     "execution_count": 35,
     "metadata": {},
     "output_type": "execute_result"
    }
   ],
   "source": [
    "df_merge.dtypes"
   ]
  },
  {
   "cell_type": "markdown",
   "metadata": {},
   "source": [
    "## **LENGHT OF CONTENT**"
   ]
  },
  {
   "cell_type": "code",
   "execution_count": 36,
   "metadata": {},
   "outputs": [],
   "source": [
    "df_merge['content_length'] = df_merge['content'].apply(len)"
   ]
  },
  {
   "cell_type": "code",
   "execution_count": 37,
   "metadata": {},
   "outputs": [
    {
     "data": {
      "text/html": [
       "<div>\n",
       "<style scoped>\n",
       "    .dataframe tbody tr th:only-of-type {\n",
       "        vertical-align: middle;\n",
       "    }\n",
       "\n",
       "    .dataframe tbody tr th {\n",
       "        vertical-align: top;\n",
       "    }\n",
       "\n",
       "    .dataframe thead th {\n",
       "        text-align: right;\n",
       "    }\n",
       "</style>\n",
       "<table border=\"1\" class=\"dataframe\">\n",
       "  <thead>\n",
       "    <tr style=\"text-align: right;\">\n",
       "      <th></th>\n",
       "      <th>Page Title</th>\n",
       "      <th>Source</th>\n",
       "      <th>Country</th>\n",
       "      <th>Device Category</th>\n",
       "      <th>Sessions</th>\n",
       "      <th>Avg. Time on Page</th>\n",
       "      <th>Bounce Rate</th>\n",
       "      <th>Page Views</th>\n",
       "      <th>Unique Page Views</th>\n",
       "      <th>Users</th>\n",
       "      <th>url_title</th>\n",
       "      <th>content</th>\n",
       "      <th>date</th>\n",
       "      <th>title</th>\n",
       "      <th>content_length</th>\n",
       "    </tr>\n",
       "  </thead>\n",
       "  <tbody>\n",
       "    <tr>\n",
       "      <td>7414</td>\n",
       "      <td>los mejores másteres de ciencia de datos para ...</td>\n",
       "      <td>(direct)</td>\n",
       "      <td>spain</td>\n",
       "      <td>mobile</td>\n",
       "      <td>220.0</td>\n",
       "      <td>291</td>\n",
       "      <td>0.8636</td>\n",
       "      <td>258.0</td>\n",
       "      <td>224.0</td>\n",
       "      <td>168.0</td>\n",
       "      <td>the-best-data-science-masters-in-spain-and-onl...</td>\n",
       "      <td>\\nsi te dedicas a las tic sabes que estar actu...</td>\n",
       "      <td>2018-07-19</td>\n",
       "      <td>los mejores másteres de ciencia de datos para ...</td>\n",
       "      <td>12373</td>\n",
       "    </tr>\n",
       "    <tr>\n",
       "      <td>7413</td>\n",
       "      <td>los mejores másteres de ciencia de datos para ...</td>\n",
       "      <td>t.co</td>\n",
       "      <td>spain</td>\n",
       "      <td>mobile</td>\n",
       "      <td>341.0</td>\n",
       "      <td>396</td>\n",
       "      <td>0.8974</td>\n",
       "      <td>374.0</td>\n",
       "      <td>342.0</td>\n",
       "      <td>287.0</td>\n",
       "      <td>the-best-data-science-masters-in-spain-and-onl...</td>\n",
       "      <td>\\nsi te dedicas a las tic sabes que estar actu...</td>\n",
       "      <td>2018-07-19</td>\n",
       "      <td>los mejores másteres de ciencia de datos para ...</td>\n",
       "      <td>12373</td>\n",
       "    </tr>\n",
       "    <tr>\n",
       "      <td>7412</td>\n",
       "      <td>los mejores másteres de ciencia de datos para ...</td>\n",
       "      <td>t.co</td>\n",
       "      <td>spain</td>\n",
       "      <td>desktop</td>\n",
       "      <td>364.0</td>\n",
       "      <td>636</td>\n",
       "      <td>0.9423</td>\n",
       "      <td>382.0</td>\n",
       "      <td>367.0</td>\n",
       "      <td>79.0</td>\n",
       "      <td>the-best-data-science-masters-in-spain-and-onl...</td>\n",
       "      <td>\\nsi te dedicas a las tic sabes que estar actu...</td>\n",
       "      <td>2018-07-19</td>\n",
       "      <td>los mejores másteres de ciencia de datos para ...</td>\n",
       "      <td>12373</td>\n",
       "    </tr>\n",
       "    <tr>\n",
       "      <td>7411</td>\n",
       "      <td>los mejores másteres de ciencia de datos para ...</td>\n",
       "      <td>google</td>\n",
       "      <td>spain</td>\n",
       "      <td>mobile</td>\n",
       "      <td>967.0</td>\n",
       "      <td>250</td>\n",
       "      <td>0.8128</td>\n",
       "      <td>NaN</td>\n",
       "      <td>NaN</td>\n",
       "      <td>755.0</td>\n",
       "      <td>the-best-data-science-masters-in-spain-and-onl...</td>\n",
       "      <td>\\nsi te dedicas a las tic sabes que estar actu...</td>\n",
       "      <td>2018-07-19</td>\n",
       "      <td>los mejores másteres de ciencia de datos para ...</td>\n",
       "      <td>12373</td>\n",
       "    </tr>\n",
       "    <tr>\n",
       "      <td>7410</td>\n",
       "      <td>los mejores másteres de ciencia de datos para ...</td>\n",
       "      <td>google</td>\n",
       "      <td>spain</td>\n",
       "      <td>desktop</td>\n",
       "      <td>NaN</td>\n",
       "      <td>280</td>\n",
       "      <td>0.8120</td>\n",
       "      <td>NaN</td>\n",
       "      <td>NaN</td>\n",
       "      <td>NaN</td>\n",
       "      <td>the-best-data-science-masters-in-spain-and-onl...</td>\n",
       "      <td>\\nsi te dedicas a las tic sabes que estar actu...</td>\n",
       "      <td>2018-07-19</td>\n",
       "      <td>los mejores másteres de ciencia de datos para ...</td>\n",
       "      <td>12373</td>\n",
       "    </tr>\n",
       "  </tbody>\n",
       "</table>\n",
       "</div>"
      ],
      "text/plain": [
       "                                             Page Title    Source Country  \\\n",
       "7414  los mejores másteres de ciencia de datos para ...  (direct)   spain   \n",
       "7413  los mejores másteres de ciencia de datos para ...      t.co   spain   \n",
       "7412  los mejores másteres de ciencia de datos para ...      t.co   spain   \n",
       "7411  los mejores másteres de ciencia de datos para ...    google   spain   \n",
       "7410  los mejores másteres de ciencia de datos para ...    google   spain   \n",
       "\n",
       "     Device Category  Sessions  Avg. Time on Page  Bounce Rate  Page Views  \\\n",
       "7414          mobile     220.0                291       0.8636       258.0   \n",
       "7413          mobile     341.0                396       0.8974       374.0   \n",
       "7412         desktop     364.0                636       0.9423       382.0   \n",
       "7411          mobile     967.0                250       0.8128         NaN   \n",
       "7410         desktop       NaN                280       0.8120         NaN   \n",
       "\n",
       "      Unique Page Views  Users  \\\n",
       "7414              224.0  168.0   \n",
       "7413              342.0  287.0   \n",
       "7412              367.0   79.0   \n",
       "7411                NaN  755.0   \n",
       "7410                NaN    NaN   \n",
       "\n",
       "                                              url_title  \\\n",
       "7414  the-best-data-science-masters-in-spain-and-onl...   \n",
       "7413  the-best-data-science-masters-in-spain-and-onl...   \n",
       "7412  the-best-data-science-masters-in-spain-and-onl...   \n",
       "7411  the-best-data-science-masters-in-spain-and-onl...   \n",
       "7410  the-best-data-science-masters-in-spain-and-onl...   \n",
       "\n",
       "                                                content       date  \\\n",
       "7414  \\nsi te dedicas a las tic sabes que estar actu... 2018-07-19   \n",
       "7413  \\nsi te dedicas a las tic sabes que estar actu... 2018-07-19   \n",
       "7412  \\nsi te dedicas a las tic sabes que estar actu... 2018-07-19   \n",
       "7411  \\nsi te dedicas a las tic sabes que estar actu... 2018-07-19   \n",
       "7410  \\nsi te dedicas a las tic sabes que estar actu... 2018-07-19   \n",
       "\n",
       "                                                  title  content_length  \n",
       "7414  los mejores másteres de ciencia de datos para ...           12373  \n",
       "7413  los mejores másteres de ciencia de datos para ...           12373  \n",
       "7412  los mejores másteres de ciencia de datos para ...           12373  \n",
       "7411  los mejores másteres de ciencia de datos para ...           12373  \n",
       "7410  los mejores másteres de ciencia de datos para ...           12373  "
      ]
     },
     "execution_count": 37,
     "metadata": {},
     "output_type": "execute_result"
    }
   ],
   "source": [
    "df_merge.sort_values(by=['Sessions', 'Avg. Time on Page']).tail()"
   ]
  },
  {
   "cell_type": "code",
   "execution_count": 38,
   "metadata": {},
   "outputs": [
    {
     "name": "stdout",
     "output_type": "stream",
     "text": [
      "(9860, 15)\n"
     ]
    }
   ],
   "source": [
    "print(df_merge.shape)"
   ]
  },
  {
   "cell_type": "markdown",
   "metadata": {},
   "source": [
    "## **MISSING VALUES**\n",
    "\n",
    "We can see that there is an small percentage of missings. We can eliminate them or fill this with zeros."
   ]
  },
  {
   "cell_type": "code",
   "execution_count": 39,
   "metadata": {},
   "outputs": [
    {
     "data": {
      "text/html": [
       "<div>\n",
       "<style scoped>\n",
       "    .dataframe tbody tr th:only-of-type {\n",
       "        vertical-align: middle;\n",
       "    }\n",
       "\n",
       "    .dataframe tbody tr th {\n",
       "        vertical-align: top;\n",
       "    }\n",
       "\n",
       "    .dataframe thead th {\n",
       "        text-align: right;\n",
       "    }\n",
       "</style>\n",
       "<table border=\"1\" class=\"dataframe\">\n",
       "  <thead>\n",
       "    <tr style=\"text-align: right;\">\n",
       "      <th></th>\n",
       "      <th>0</th>\n",
       "    </tr>\n",
       "  </thead>\n",
       "  <tbody>\n",
       "    <tr>\n",
       "      <td>Page Title</td>\n",
       "      <td>0</td>\n",
       "    </tr>\n",
       "    <tr>\n",
       "      <td>Source</td>\n",
       "      <td>0</td>\n",
       "    </tr>\n",
       "    <tr>\n",
       "      <td>Country</td>\n",
       "      <td>0</td>\n",
       "    </tr>\n",
       "    <tr>\n",
       "      <td>Device Category</td>\n",
       "      <td>0</td>\n",
       "    </tr>\n",
       "    <tr>\n",
       "      <td>Sessions</td>\n",
       "      <td>1</td>\n",
       "    </tr>\n",
       "    <tr>\n",
       "      <td>Avg. Time on Page</td>\n",
       "      <td>0</td>\n",
       "    </tr>\n",
       "    <tr>\n",
       "      <td>Bounce Rate</td>\n",
       "      <td>0</td>\n",
       "    </tr>\n",
       "    <tr>\n",
       "      <td>Page Views</td>\n",
       "      <td>2</td>\n",
       "    </tr>\n",
       "    <tr>\n",
       "      <td>Unique Page Views</td>\n",
       "      <td>2</td>\n",
       "    </tr>\n",
       "    <tr>\n",
       "      <td>Users</td>\n",
       "      <td>1</td>\n",
       "    </tr>\n",
       "    <tr>\n",
       "      <td>url_title</td>\n",
       "      <td>0</td>\n",
       "    </tr>\n",
       "    <tr>\n",
       "      <td>content</td>\n",
       "      <td>0</td>\n",
       "    </tr>\n",
       "    <tr>\n",
       "      <td>date</td>\n",
       "      <td>0</td>\n",
       "    </tr>\n",
       "    <tr>\n",
       "      <td>title</td>\n",
       "      <td>0</td>\n",
       "    </tr>\n",
       "    <tr>\n",
       "      <td>content_length</td>\n",
       "      <td>0</td>\n",
       "    </tr>\n",
       "  </tbody>\n",
       "</table>\n",
       "</div>"
      ],
      "text/plain": [
       "                   0\n",
       "Page Title         0\n",
       "Source             0\n",
       "Country            0\n",
       "Device Category    0\n",
       "Sessions           1\n",
       "Avg. Time on Page  0\n",
       "Bounce Rate        0\n",
       "Page Views         2\n",
       "Unique Page Views  2\n",
       "Users              1\n",
       "url_title          0\n",
       "content            0\n",
       "date               0\n",
       "title              0\n",
       "content_length     0"
      ]
     },
     "execution_count": 39,
     "metadata": {},
     "output_type": "execute_result"
    }
   ],
   "source": [
    "# Percentage of missings in each variables\n",
    "missing = (df_merge.isnull().sum(axis = 0)/df_merge.shape[0])*100\n",
    "missing = df_merge.isnull().sum(axis = 0)\n",
    "\n",
    "missing = missing.apply(pd.to_numeric)\n",
    "missing= pd.DataFrame(missing)\n",
    "missing"
   ]
  },
  {
   "cell_type": "code",
   "execution_count": 40,
   "metadata": {},
   "outputs": [],
   "source": [
    "## **FILL NA'S**\n",
    "\n",
    "s = df_merge.groupby(['Country', 'Device Category'])['Sessions'].transform('mean')\n",
    "df_merge['Sessions'].fillna(s, inplace=True)\n",
    "s = df_merge.groupby(['Country', 'Device Category'])['Page Views'].transform('mean')\n",
    "df_merge['Page Views'].fillna(s, inplace=True)\n",
    "s = df_merge.groupby(['Country', 'Device Category'])['Page Views'].transform('mean')\n",
    "df_merge['Page Views'].fillna(s, inplace=True)\n",
    "s = df_merge.groupby(['Country', 'Device Category'])['Unique Page Views'].transform('mean')\n",
    "df_merge['Unique Page Views'].fillna(s, inplace=True)\n",
    "s = df_merge.groupby(['Country', 'Device Category'])['Users'].transform('mean')\n",
    "df_merge['Users'].fillna(s, inplace=True)"
   ]
  },
  {
   "cell_type": "markdown",
   "metadata": {},
   "source": [
    "## **SAVE TREATED DATA**"
   ]
  },
  {
   "cell_type": "code",
   "execution_count": 41,
   "metadata": {},
   "outputs": [],
   "source": [
    "df_merge.to_csv(r'data/treated_data.csv', index = False)"
   ]
  },
  {
   "cell_type": "code",
   "execution_count": 42,
   "metadata": {},
   "outputs": [
    {
     "data": {
      "text/plain": [
       "(9860, 15)"
      ]
     },
     "execution_count": 42,
     "metadata": {},
     "output_type": "execute_result"
    }
   ],
   "source": [
    "df_merge.shape"
   ]
  },
  {
   "cell_type": "markdown",
   "metadata": {},
   "source": [
    "## **FEATURE ENGIENIERING**\n",
    "\n",
    "Some treatments were necessary for predictive modelling. We use the notebook: 2_Some_Graphs for the analysis and decisisons."
   ]
  },
  {
   "cell_type": "code",
   "execution_count": 43,
   "metadata": {},
   "outputs": [],
   "source": [
    "#in order to simplify we only consider spain\n",
    "#df_merge = df_merge[df_merge['Country'] == 'spain']"
   ]
  },
  {
   "cell_type": "code",
   "execution_count": 44,
   "metadata": {},
   "outputs": [],
   "source": [
    "df_merge['month'] = df_merge['date'].dt.month"
   ]
  },
  {
   "cell_type": "markdown",
   "metadata": {},
   "source": [
    "## **clean Source variables**"
   ]
  },
  {
   "cell_type": "code",
   "execution_count": 45,
   "metadata": {},
   "outputs": [],
   "source": [
    "def clean_text(text):\n",
    "    import re\n",
    "    text = re.sub(r\".com\", \"\", text)\n",
    "    text = re.sub(r\".org\", \"\", text)\n",
    "    text = re.sub(r\".net\", \"\", text)\n",
    "    text = re.sub(r\".es\", \"\", text)\n",
    "    text = re.sub(r\".io\", \"\", text)\n",
    "    text = re.sub(r\".ru\", \"\", text)\n",
    "    text = re.sub(r\".biz\", \"\", text)\n",
    "    text = re.sub(r\"lm.\", \"\", text)\n",
    "    text = re.sub(r\".ai\", \"\", text)\n",
    "    text = re.sub(r\".pw\", \"\", text)\n",
    "    text = re.sub(r\".edu\", \"\", text)\n",
    "    text = re.sub(r\"keep.\", \"\", text)\n",
    "    text = re.sub(r\"eu.\", \"\", text)\n",
    "    text = re.sub(r\"es.\", \"\", text)\n",
    "    text = re.sub(r\".ca\", \"\", text)\n",
    "    text = re.sub(r\".au\", \"\", text)\n",
    "    text = re.sub(r\"au.\", \"\", text) #\n",
    "    text = re.sub(r\"m.\", \"\", text) #\n",
    "    text = re.sub(r\"l.\", \"\", text)\n",
    "    text = re.sub(r\".ch\", \"\", text)\n",
    "    text = re.sub(r\".vk\", \"\", text)\n",
    "    text = re.sub(r\"ps.\", \"\", text) \n",
    "    text = re.sub(r\".sck \", \"\", text) \n",
    "    return text\n",
    "\n",
    "df_merge['Source'] = df_merge['Source'].map(lambda x : clean_text(x))"
   ]
  },
  {
   "cell_type": "markdown",
   "metadata": {},
   "source": [
    "## **One hot encoding**"
   ]
  },
  {
   "cell_type": "code",
   "execution_count": 46,
   "metadata": {},
   "outputs": [],
   "source": [
    "df_merge_device = pd.get_dummies(df_merge['Device Category'],drop_first=True)\n",
    "df_merge_Source = pd.get_dummies(df_merge['Source'],drop_first=False)\n",
    "df_merge_Country = pd.get_dummies(df_merge['Country'],drop_first=False)"
   ]
  },
  {
   "cell_type": "code",
   "execution_count": 47,
   "metadata": {},
   "outputs": [
    {
     "name": "stdout",
     "output_type": "stream",
     "text": [
      "(9860, 180)\n",
      "(9860, 4)\n"
     ]
    }
   ],
   "source": [
    "# Drop columns in Dataframe if more than x% of the values in the column are 0's\n",
    "print(df_merge_Source.shape)\n",
    "df_merge_Source = df_merge_Source.drop(columns=df_merge_Source.columns[((df_merge_Source==0).mean()>0.95)],axis=1)\n",
    "print(df_merge_Source.shape)\n",
    "df_merge_Source_columns = df_merge_Source.columns"
   ]
  },
  {
   "cell_type": "code",
   "execution_count": 48,
   "metadata": {},
   "outputs": [
    {
     "name": "stdout",
     "output_type": "stream",
     "text": [
      "(9860, 151)\n",
      "(9860, 2)\n"
     ]
    },
    {
     "data": {
      "text/html": [
       "<div>\n",
       "<style scoped>\n",
       "    .dataframe tbody tr th:only-of-type {\n",
       "        vertical-align: middle;\n",
       "    }\n",
       "\n",
       "    .dataframe tbody tr th {\n",
       "        vertical-align: top;\n",
       "    }\n",
       "\n",
       "    .dataframe thead th {\n",
       "        text-align: right;\n",
       "    }\n",
       "</style>\n",
       "<table border=\"1\" class=\"dataframe\">\n",
       "  <thead>\n",
       "    <tr style=\"text-align: right;\">\n",
       "      <th></th>\n",
       "      <th>spain</th>\n",
       "      <th>united states</th>\n",
       "    </tr>\n",
       "  </thead>\n",
       "  <tbody>\n",
       "    <tr>\n",
       "      <td>0</td>\n",
       "      <td>1</td>\n",
       "      <td>0</td>\n",
       "    </tr>\n",
       "    <tr>\n",
       "      <td>1</td>\n",
       "      <td>1</td>\n",
       "      <td>0</td>\n",
       "    </tr>\n",
       "    <tr>\n",
       "      <td>2</td>\n",
       "      <td>1</td>\n",
       "      <td>0</td>\n",
       "    </tr>\n",
       "    <tr>\n",
       "      <td>3</td>\n",
       "      <td>1</td>\n",
       "      <td>0</td>\n",
       "    </tr>\n",
       "    <tr>\n",
       "      <td>4</td>\n",
       "      <td>0</td>\n",
       "      <td>1</td>\n",
       "    </tr>\n",
       "  </tbody>\n",
       "</table>\n",
       "</div>"
      ],
      "text/plain": [
       "   spain  united states\n",
       "0      1              0\n",
       "1      1              0\n",
       "2      1              0\n",
       "3      1              0\n",
       "4      0              1"
      ]
     },
     "execution_count": 48,
     "metadata": {},
     "output_type": "execute_result"
    }
   ],
   "source": [
    "# Drop columns in Dataframe if more than x% of the values in the column are 0's\n",
    "print(df_merge_Country.shape)\n",
    "df_merge_Country = df_merge_Country.drop(columns=df_merge_Country.columns[((df_merge_Country==0).mean()>0.95)],axis=1)\n",
    "print(df_merge_Country.shape)\n",
    "df_merge_Country.head()"
   ]
  },
  {
   "cell_type": "markdown",
   "metadata": {},
   "source": [
    "## **Cocantenate data**"
   ]
  },
  {
   "cell_type": "code",
   "execution_count": 49,
   "metadata": {},
   "outputs": [],
   "source": [
    "# concatenate data.frames\n",
    "frames = [df_merge, df_merge_device, df_merge_Source, df_merge_Country]\n",
    "result = pd.concat(frames, axis = 1) #, sort= True\n",
    "result = result.drop(columns = ['date', 'Source', 'Device Category', 'Country'])"
   ]
  },
  {
   "cell_type": "code",
   "execution_count": 50,
   "metadata": {},
   "outputs": [
    {
     "data": {
      "text/plain": [
       "(9860, 20)"
      ]
     },
     "execution_count": 50,
     "metadata": {},
     "output_type": "execute_result"
    }
   ],
   "source": [
    "result.shape"
   ]
  },
  {
   "cell_type": "code",
   "execution_count": 51,
   "metadata": {},
   "outputs": [],
   "source": [
    "for col in df_merge_Source_columns:\n",
    "    result[col] = result[col].astype('category')"
   ]
  },
  {
   "cell_type": "markdown",
   "metadata": {},
   "source": [
    "## **FILL NA's**"
   ]
  },
  {
   "cell_type": "code",
   "execution_count": 52,
   "metadata": {},
   "outputs": [],
   "source": [
    "result = result.fillna(0)"
   ]
  },
  {
   "cell_type": "code",
   "execution_count": 53,
   "metadata": {},
   "outputs": [
    {
     "data": {
      "text/plain": [
       "Index(['Page Title', 'Sessions', 'Avg. Time on Page', 'Bounce Rate',\n",
       "       'Page Views', 'Unique Page Views', 'Users', 'url_title', 'content',\n",
       "       'title', 'content_length', 'month', 'mobile', 'tablet', '(direct)',\n",
       "       'goog', 'nkedin', 't.co', 'spain', 'united states'],\n",
       "      dtype='object')"
      ]
     },
     "execution_count": 53,
     "metadata": {},
     "output_type": "execute_result"
    }
   ],
   "source": [
    "result.columns"
   ]
  },
  {
   "cell_type": "code",
   "execution_count": 54,
   "metadata": {},
   "outputs": [
    {
     "data": {
      "text/plain": [
       "(9860, 20)"
      ]
     },
     "execution_count": 54,
     "metadata": {},
     "output_type": "execute_result"
    }
   ],
   "source": [
    "#we have to reduce this\n",
    "result.shape"
   ]
  },
  {
   "cell_type": "code",
   "execution_count": 55,
   "metadata": {},
   "outputs": [
    {
     "data": {
      "text/plain": [
       "Page Title             object\n",
       "Sessions              float64\n",
       "Avg. Time on Page       int64\n",
       "Bounce Rate           float64\n",
       "Page Views            float64\n",
       "Unique Page Views     float64\n",
       "Users                 float64\n",
       "url_title              object\n",
       "content                object\n",
       "title                  object\n",
       "content_length          int64\n",
       "month                   int64\n",
       "mobile                  uint8\n",
       "tablet                  uint8\n",
       "(direct)             category\n",
       "goog                 category\n",
       "nkedin               category\n",
       "t.co                 category\n",
       "spain                   uint8\n",
       "united states           uint8\n",
       "dtype: object"
      ]
     },
     "execution_count": 55,
     "metadata": {},
     "output_type": "execute_result"
    }
   ],
   "source": [
    "result.dtypes"
   ]
  },
  {
   "cell_type": "markdown",
   "metadata": {},
   "source": [
    "## **Save feature engineering data**"
   ]
  },
  {
   "cell_type": "code",
   "execution_count": 56,
   "metadata": {},
   "outputs": [],
   "source": [
    "result.to_csv(r'data/eng_data.csv', index = False)"
   ]
  },
  {
   "cell_type": "code",
   "execution_count": 57,
   "metadata": {},
   "outputs": [
    {
     "data": {
      "text/plain": [
       "(9860, 20)"
      ]
     },
     "execution_count": 57,
     "metadata": {},
     "output_type": "execute_result"
    }
   ],
   "source": [
    "result.shape"
   ]
  },
  {
   "cell_type": "code",
   "execution_count": 58,
   "metadata": {},
   "outputs": [
    {
     "data": {
      "text/html": [
       "<div>\n",
       "<style scoped>\n",
       "    .dataframe tbody tr th:only-of-type {\n",
       "        vertical-align: middle;\n",
       "    }\n",
       "\n",
       "    .dataframe tbody tr th {\n",
       "        vertical-align: top;\n",
       "    }\n",
       "\n",
       "    .dataframe thead th {\n",
       "        text-align: right;\n",
       "    }\n",
       "</style>\n",
       "<table border=\"1\" class=\"dataframe\">\n",
       "  <thead>\n",
       "    <tr style=\"text-align: right;\">\n",
       "      <th></th>\n",
       "      <th>Page Title</th>\n",
       "      <th>Sessions</th>\n",
       "      <th>Avg. Time on Page</th>\n",
       "      <th>Bounce Rate</th>\n",
       "      <th>Page Views</th>\n",
       "      <th>Unique Page Views</th>\n",
       "      <th>Users</th>\n",
       "      <th>url_title</th>\n",
       "      <th>content</th>\n",
       "      <th>title</th>\n",
       "      <th>content_length</th>\n",
       "      <th>month</th>\n",
       "      <th>mobile</th>\n",
       "      <th>tablet</th>\n",
       "      <th>(direct)</th>\n",
       "      <th>goog</th>\n",
       "      <th>nkedin</th>\n",
       "      <th>t.co</th>\n",
       "      <th>spain</th>\n",
       "      <th>united states</th>\n",
       "    </tr>\n",
       "  </thead>\n",
       "  <tbody>\n",
       "    <tr>\n",
       "      <td>0</td>\n",
       "      <td>financial text classification: an analysis of ...</td>\n",
       "      <td>47.0</td>\n",
       "      <td>339</td>\n",
       "      <td>0.8511</td>\n",
       "      <td>64.0</td>\n",
       "      <td>50.0</td>\n",
       "      <td>28.0</td>\n",
       "      <td>4062-2</td>\n",
       "      <td>\\ndurante los últimos dos veranos he trabajado...</td>\n",
       "      <td>clasificación de texto financiero: un análisis...</td>\n",
       "      <td>15966</td>\n",
       "      <td>6</td>\n",
       "      <td>1</td>\n",
       "      <td>0</td>\n",
       "      <td>1</td>\n",
       "      <td>0</td>\n",
       "      <td>0</td>\n",
       "      <td>0</td>\n",
       "      <td>1</td>\n",
       "      <td>0</td>\n",
       "    </tr>\n",
       "    <tr>\n",
       "      <td>1</td>\n",
       "      <td>financial text classification: an analysis of ...</td>\n",
       "      <td>19.0</td>\n",
       "      <td>698</td>\n",
       "      <td>0.7368</td>\n",
       "      <td>30.0</td>\n",
       "      <td>25.0</td>\n",
       "      <td>20.0</td>\n",
       "      <td>4062-2</td>\n",
       "      <td>\\ndurante los últimos dos veranos he trabajado...</td>\n",
       "      <td>clasificación de texto financiero: un análisis...</td>\n",
       "      <td>15966</td>\n",
       "      <td>6</td>\n",
       "      <td>0</td>\n",
       "      <td>0</td>\n",
       "      <td>1</td>\n",
       "      <td>0</td>\n",
       "      <td>0</td>\n",
       "      <td>0</td>\n",
       "      <td>1</td>\n",
       "      <td>0</td>\n",
       "    </tr>\n",
       "    <tr>\n",
       "      <td>2</td>\n",
       "      <td>financial text classification: an analysis of ...</td>\n",
       "      <td>14.0</td>\n",
       "      <td>0</td>\n",
       "      <td>1.0000</td>\n",
       "      <td>14.0</td>\n",
       "      <td>14.0</td>\n",
       "      <td>5.0</td>\n",
       "      <td>4062-2</td>\n",
       "      <td>\\ndurante los últimos dos veranos he trabajado...</td>\n",
       "      <td>clasificación de texto financiero: un análisis...</td>\n",
       "      <td>15966</td>\n",
       "      <td>6</td>\n",
       "      <td>1</td>\n",
       "      <td>0</td>\n",
       "      <td>0</td>\n",
       "      <td>0</td>\n",
       "      <td>0</td>\n",
       "      <td>1</td>\n",
       "      <td>1</td>\n",
       "      <td>0</td>\n",
       "    </tr>\n",
       "    <tr>\n",
       "      <td>3</td>\n",
       "      <td>financial text classification: an analysis of ...</td>\n",
       "      <td>13.0</td>\n",
       "      <td>685</td>\n",
       "      <td>0.8462</td>\n",
       "      <td>16.0</td>\n",
       "      <td>14.0</td>\n",
       "      <td>12.0</td>\n",
       "      <td>4062-2</td>\n",
       "      <td>\\ndurante los últimos dos veranos he trabajado...</td>\n",
       "      <td>clasificación de texto financiero: un análisis...</td>\n",
       "      <td>15966</td>\n",
       "      <td>6</td>\n",
       "      <td>0</td>\n",
       "      <td>0</td>\n",
       "      <td>0</td>\n",
       "      <td>0</td>\n",
       "      <td>1</td>\n",
       "      <td>0</td>\n",
       "      <td>1</td>\n",
       "      <td>0</td>\n",
       "    </tr>\n",
       "    <tr>\n",
       "      <td>4</td>\n",
       "      <td>financial text classification: an analysis of ...</td>\n",
       "      <td>9.0</td>\n",
       "      <td>192</td>\n",
       "      <td>0.8889</td>\n",
       "      <td>13.0</td>\n",
       "      <td>12.0</td>\n",
       "      <td>8.0</td>\n",
       "      <td>4062-2</td>\n",
       "      <td>\\ndurante los últimos dos veranos he trabajado...</td>\n",
       "      <td>clasificación de texto financiero: un análisis...</td>\n",
       "      <td>15966</td>\n",
       "      <td>6</td>\n",
       "      <td>0</td>\n",
       "      <td>0</td>\n",
       "      <td>0</td>\n",
       "      <td>1</td>\n",
       "      <td>0</td>\n",
       "      <td>0</td>\n",
       "      <td>0</td>\n",
       "      <td>1</td>\n",
       "    </tr>\n",
       "  </tbody>\n",
       "</table>\n",
       "</div>"
      ],
      "text/plain": [
       "                                          Page Title  Sessions  \\\n",
       "0  financial text classification: an analysis of ...      47.0   \n",
       "1  financial text classification: an analysis of ...      19.0   \n",
       "2  financial text classification: an analysis of ...      14.0   \n",
       "3  financial text classification: an analysis of ...      13.0   \n",
       "4  financial text classification: an analysis of ...       9.0   \n",
       "\n",
       "   Avg. Time on Page  Bounce Rate  Page Views  Unique Page Views  Users  \\\n",
       "0                339       0.8511        64.0               50.0   28.0   \n",
       "1                698       0.7368        30.0               25.0   20.0   \n",
       "2                  0       1.0000        14.0               14.0    5.0   \n",
       "3                685       0.8462        16.0               14.0   12.0   \n",
       "4                192       0.8889        13.0               12.0    8.0   \n",
       "\n",
       "  url_title                                            content  \\\n",
       "0    4062-2  \\ndurante los últimos dos veranos he trabajado...   \n",
       "1    4062-2  \\ndurante los últimos dos veranos he trabajado...   \n",
       "2    4062-2  \\ndurante los últimos dos veranos he trabajado...   \n",
       "3    4062-2  \\ndurante los últimos dos veranos he trabajado...   \n",
       "4    4062-2  \\ndurante los últimos dos veranos he trabajado...   \n",
       "\n",
       "                                               title  content_length  month  \\\n",
       "0  clasificación de texto financiero: un análisis...           15966      6   \n",
       "1  clasificación de texto financiero: un análisis...           15966      6   \n",
       "2  clasificación de texto financiero: un análisis...           15966      6   \n",
       "3  clasificación de texto financiero: un análisis...           15966      6   \n",
       "4  clasificación de texto financiero: un análisis...           15966      6   \n",
       "\n",
       "   mobile  tablet (direct) goog nkedin t.co  spain  united states  \n",
       "0       1       0        1    0      0    0      1              0  \n",
       "1       0       0        1    0      0    0      1              0  \n",
       "2       1       0        0    0      0    1      1              0  \n",
       "3       0       0        0    0      1    0      1              0  \n",
       "4       0       0        0    1      0    0      0              1  "
      ]
     },
     "execution_count": 58,
     "metadata": {},
     "output_type": "execute_result"
    }
   ],
   "source": [
    "result.head()"
   ]
  },
  {
   "cell_type": "markdown",
   "metadata": {},
   "source": [
    "## References used\n",
    "\n",
    "* https://adatis.co.uk/parsing-nested-json-lists-in-databricks-using-python/\n",
    "* https://s3.amazonaws.com/assets.datacamp.com/production/course_3161/slides/ch4_slides.pdf"
   ]
  },
  {
   "cell_type": "code",
   "execution_count": null,
   "metadata": {},
   "outputs": [],
   "source": []
  }
 ],
 "metadata": {
  "kernelspec": {
   "display_name": "Python 3",
   "language": "python",
   "name": "python3"
  },
  "language_info": {
   "codemirror_mode": {
    "name": "ipython",
    "version": 3
   },
   "file_extension": ".py",
   "mimetype": "text/x-python",
   "name": "python",
   "nbconvert_exporter": "python",
   "pygments_lexer": "ipython3",
   "version": "3.7.4"
  }
 },
 "nbformat": 4,
 "nbformat_minor": 4
}
