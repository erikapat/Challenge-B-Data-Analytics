{
 "cells": [
  {
   "cell_type": "markdown",
   "metadata": {},
   "source": [
    "## **TOPIC MODELLING AND RECOMENDATION**"
   ]
  },
  {
   "cell_type": "code",
   "execution_count": null,
   "metadata": {},
   "outputs": [],
   "source": [
    "#install (env pending)\n",
    "#!pip install langdetect\n",
    "#install NLTK\n",
    "#python -m nltk.downloader all"
   ]
  },
  {
   "cell_type": "code",
   "execution_count": 2,
   "metadata": {},
   "outputs": [],
   "source": [
    "## **LOAD PACKAGES**\n",
    "\n",
    "import pandas as pd\n",
    "import os\n",
    "from datetime import datetime\n",
    "import numpy as np\n",
    "\n",
    "#Sometimes I will use R functions (those I believe are the best ones)\n",
    "# Load in the r magic\n",
    "%load_ext rpy2.ipython"
   ]
  },
  {
   "cell_type": "code",
   "execution_count": 3,
   "metadata": {},
   "outputs": [
    {
     "name": "stdout",
     "output_type": "stream",
     "text": [
      "(9860, 15)\n"
     ]
    }
   ],
   "source": [
    "#load treated and aggregated datas\n",
    "df = pd.read_csv('data/treated_data.csv') \n",
    "print(df.shape)"
   ]
  },
  {
   "cell_type": "code",
   "execution_count": 4,
   "metadata": {},
   "outputs": [
    {
     "data": {
      "text/plain": [
       "Page Title            object\n",
       "Source                object\n",
       "Country               object\n",
       "Device Category       object\n",
       "Sessions             float64\n",
       "Avg. Time on Page      int64\n",
       "Bounce Rate          float64\n",
       "Page Views           float64\n",
       "Unique Page Views    float64\n",
       "Users                float64\n",
       "url_title             object\n",
       "content               object\n",
       "date                  object\n",
       "title                 object\n",
       "content_length         int64\n",
       "dtype: object"
      ]
     },
     "execution_count": 4,
     "metadata": {},
     "output_type": "execute_result"
    }
   ],
   "source": [
    "df.dtypes"
   ]
  },
  {
   "cell_type": "code",
   "execution_count": 5,
   "metadata": {},
   "outputs": [],
   "source": [
    "## We will keep only topics in spanish, but filtering by country does not work\n",
    "#df = df[df['Country'] == 'spain']"
   ]
  },
  {
   "cell_type": "code",
   "execution_count": 6,
   "metadata": {},
   "outputs": [
    {
     "data": {
      "text/html": [
       "<div>\n",
       "<style scoped>\n",
       "    .dataframe tbody tr th:only-of-type {\n",
       "        vertical-align: middle;\n",
       "    }\n",
       "\n",
       "    .dataframe tbody tr th {\n",
       "        vertical-align: top;\n",
       "    }\n",
       "\n",
       "    .dataframe thead th {\n",
       "        text-align: right;\n",
       "    }\n",
       "</style>\n",
       "<table border=\"1\" class=\"dataframe\">\n",
       "  <thead>\n",
       "    <tr style=\"text-align: right;\">\n",
       "      <th></th>\n",
       "      <th>Page Title</th>\n",
       "      <th>Source</th>\n",
       "      <th>Country</th>\n",
       "      <th>Device Category</th>\n",
       "      <th>Sessions</th>\n",
       "      <th>Avg. Time on Page</th>\n",
       "      <th>Bounce Rate</th>\n",
       "      <th>Page Views</th>\n",
       "      <th>Unique Page Views</th>\n",
       "      <th>Users</th>\n",
       "      <th>url_title</th>\n",
       "      <th>content</th>\n",
       "      <th>date</th>\n",
       "      <th>title</th>\n",
       "      <th>content_length</th>\n",
       "    </tr>\n",
       "  </thead>\n",
       "  <tbody>\n",
       "    <tr>\n",
       "      <td>0</td>\n",
       "      <td>financial text classification: an analysis of ...</td>\n",
       "      <td>(direct)</td>\n",
       "      <td>spain</td>\n",
       "      <td>mobile</td>\n",
       "      <td>47.0</td>\n",
       "      <td>339</td>\n",
       "      <td>0.8511</td>\n",
       "      <td>64.0</td>\n",
       "      <td>50.0</td>\n",
       "      <td>28.0</td>\n",
       "      <td>4062-2</td>\n",
       "      <td>\\ndurante los últimos dos veranos he trabajado...</td>\n",
       "      <td>2018-06-11</td>\n",
       "      <td>clasificación de texto financiero: un análisis...</td>\n",
       "      <td>15966</td>\n",
       "    </tr>\n",
       "    <tr>\n",
       "      <td>1</td>\n",
       "      <td>financial text classification: an analysis of ...</td>\n",
       "      <td>(direct)</td>\n",
       "      <td>spain</td>\n",
       "      <td>desktop</td>\n",
       "      <td>19.0</td>\n",
       "      <td>698</td>\n",
       "      <td>0.7368</td>\n",
       "      <td>30.0</td>\n",
       "      <td>25.0</td>\n",
       "      <td>20.0</td>\n",
       "      <td>4062-2</td>\n",
       "      <td>\\ndurante los últimos dos veranos he trabajado...</td>\n",
       "      <td>2018-06-11</td>\n",
       "      <td>clasificación de texto financiero: un análisis...</td>\n",
       "      <td>15966</td>\n",
       "    </tr>\n",
       "    <tr>\n",
       "      <td>2</td>\n",
       "      <td>financial text classification: an analysis of ...</td>\n",
       "      <td>t.co</td>\n",
       "      <td>spain</td>\n",
       "      <td>mobile</td>\n",
       "      <td>14.0</td>\n",
       "      <td>0</td>\n",
       "      <td>1.0000</td>\n",
       "      <td>14.0</td>\n",
       "      <td>14.0</td>\n",
       "      <td>5.0</td>\n",
       "      <td>4062-2</td>\n",
       "      <td>\\ndurante los últimos dos veranos he trabajado...</td>\n",
       "      <td>2018-06-11</td>\n",
       "      <td>clasificación de texto financiero: un análisis...</td>\n",
       "      <td>15966</td>\n",
       "    </tr>\n",
       "    <tr>\n",
       "      <td>3</td>\n",
       "      <td>financial text classification: an analysis of ...</td>\n",
       "      <td>linkedin.com</td>\n",
       "      <td>spain</td>\n",
       "      <td>desktop</td>\n",
       "      <td>13.0</td>\n",
       "      <td>685</td>\n",
       "      <td>0.8462</td>\n",
       "      <td>16.0</td>\n",
       "      <td>14.0</td>\n",
       "      <td>12.0</td>\n",
       "      <td>4062-2</td>\n",
       "      <td>\\ndurante los últimos dos veranos he trabajado...</td>\n",
       "      <td>2018-06-11</td>\n",
       "      <td>clasificación de texto financiero: un análisis...</td>\n",
       "      <td>15966</td>\n",
       "    </tr>\n",
       "    <tr>\n",
       "      <td>4</td>\n",
       "      <td>financial text classification: an analysis of ...</td>\n",
       "      <td>google</td>\n",
       "      <td>united states</td>\n",
       "      <td>desktop</td>\n",
       "      <td>9.0</td>\n",
       "      <td>192</td>\n",
       "      <td>0.8889</td>\n",
       "      <td>13.0</td>\n",
       "      <td>12.0</td>\n",
       "      <td>8.0</td>\n",
       "      <td>4062-2</td>\n",
       "      <td>\\ndurante los últimos dos veranos he trabajado...</td>\n",
       "      <td>2018-06-11</td>\n",
       "      <td>clasificación de texto financiero: un análisis...</td>\n",
       "      <td>15966</td>\n",
       "    </tr>\n",
       "  </tbody>\n",
       "</table>\n",
       "</div>"
      ],
      "text/plain": [
       "                                          Page Title        Source  \\\n",
       "0  financial text classification: an analysis of ...      (direct)   \n",
       "1  financial text classification: an analysis of ...      (direct)   \n",
       "2  financial text classification: an analysis of ...          t.co   \n",
       "3  financial text classification: an analysis of ...  linkedin.com   \n",
       "4  financial text classification: an analysis of ...        google   \n",
       "\n",
       "         Country Device Category  Sessions  Avg. Time on Page  Bounce Rate  \\\n",
       "0          spain          mobile      47.0                339       0.8511   \n",
       "1          spain         desktop      19.0                698       0.7368   \n",
       "2          spain          mobile      14.0                  0       1.0000   \n",
       "3          spain         desktop      13.0                685       0.8462   \n",
       "4  united states         desktop       9.0                192       0.8889   \n",
       "\n",
       "   Page Views  Unique Page Views  Users url_title  \\\n",
       "0        64.0               50.0   28.0    4062-2   \n",
       "1        30.0               25.0   20.0    4062-2   \n",
       "2        14.0               14.0    5.0    4062-2   \n",
       "3        16.0               14.0   12.0    4062-2   \n",
       "4        13.0               12.0    8.0    4062-2   \n",
       "\n",
       "                                             content        date  \\\n",
       "0  \\ndurante los últimos dos veranos he trabajado...  2018-06-11   \n",
       "1  \\ndurante los últimos dos veranos he trabajado...  2018-06-11   \n",
       "2  \\ndurante los últimos dos veranos he trabajado...  2018-06-11   \n",
       "3  \\ndurante los últimos dos veranos he trabajado...  2018-06-11   \n",
       "4  \\ndurante los últimos dos veranos he trabajado...  2018-06-11   \n",
       "\n",
       "                                               title  content_length  \n",
       "0  clasificación de texto financiero: un análisis...           15966  \n",
       "1  clasificación de texto financiero: un análisis...           15966  \n",
       "2  clasificación de texto financiero: un análisis...           15966  \n",
       "3  clasificación de texto financiero: un análisis...           15966  \n",
       "4  clasificación de texto financiero: un análisis...           15966  "
      ]
     },
     "execution_count": 6,
     "metadata": {},
     "output_type": "execute_result"
    }
   ],
   "source": [
    "df.head()"
   ]
  },
  {
   "cell_type": "code",
   "execution_count": 7,
   "metadata": {},
   "outputs": [
    {
     "name": "stdout",
     "output_type": "stream",
     "text": [
      "(9860, 3)\n",
      "(105, 3)\n"
     ]
    }
   ],
   "source": [
    "# there are duplicated information for topic modelling, so it would be nice to eliminate duplicated for this.\n",
    "columns_val = ['content', 'url_title', 'Country']\n",
    "df_topic = df[columns_val]\n",
    "print(df_topic.shape)\n",
    "df_topic = df_topic.drop_duplicates(subset ='content')\n",
    "print(df_topic.shape)"
   ]
  },
  {
   "cell_type": "code",
   "execution_count": 8,
   "metadata": {},
   "outputs": [
    {
     "data": {
      "text/html": [
       "<div>\n",
       "<style scoped>\n",
       "    .dataframe tbody tr th:only-of-type {\n",
       "        vertical-align: middle;\n",
       "    }\n",
       "\n",
       "    .dataframe tbody tr th {\n",
       "        vertical-align: top;\n",
       "    }\n",
       "\n",
       "    .dataframe thead th {\n",
       "        text-align: right;\n",
       "    }\n",
       "</style>\n",
       "<table border=\"1\" class=\"dataframe\">\n",
       "  <thead>\n",
       "    <tr style=\"text-align: right;\">\n",
       "      <th></th>\n",
       "      <th>content</th>\n",
       "      <th>url_title</th>\n",
       "      <th>Country</th>\n",
       "    </tr>\n",
       "  </thead>\n",
       "  <tbody>\n",
       "    <tr>\n",
       "      <td>0</td>\n",
       "      <td>\\ndurante los últimos dos veranos he trabajado...</td>\n",
       "      <td>4062-2</td>\n",
       "      <td>spain</td>\n",
       "    </tr>\n",
       "    <tr>\n",
       "      <td>113</td>\n",
       "      <td>\\nla economía global digital continuará expand...</td>\n",
       "      <td>7-challenges-for-the-global-digital-economy</td>\n",
       "      <td>india</td>\n",
       "    </tr>\n",
       "    <tr>\n",
       "      <td>339</td>\n",
       "      <td>\\nhay increíbles introducciones, cursos y entr...</td>\n",
       "      <td>a-weird-introduction-to-deep-learning</td>\n",
       "      <td>united states</td>\n",
       "    </tr>\n",
       "    <tr>\n",
       "      <td>521</td>\n",
       "      <td>\\nmaximizar las ganancias es una premisa que s...</td>\n",
       "      <td>adding-fairness-to-dynamic-pricing-with-reinfo...</td>\n",
       "      <td>spain</td>\n",
       "    </tr>\n",
       "    <tr>\n",
       "      <td>665</td>\n",
       "      <td>\\nmuchas consideraciones juegan un papel impor...</td>\n",
       "      <td>an-international-football-story-how-to-analyze...</td>\n",
       "      <td>spain</td>\n",
       "    </tr>\n",
       "    <tr>\n",
       "      <td>...</td>\n",
       "      <td>...</td>\n",
       "      <td>...</td>\n",
       "      <td>...</td>\n",
       "    </tr>\n",
       "    <tr>\n",
       "      <td>9515</td>\n",
       "      <td>\\nin our recent collaboration with united nati...</td>\n",
       "      <td>what-does-wind-look-like</td>\n",
       "      <td>hong kong</td>\n",
       "    </tr>\n",
       "    <tr>\n",
       "      <td>9543</td>\n",
       "      <td>\\nla huella digital derivada de nuestra activi...</td>\n",
       "      <td>what-does-your-bank-know-about-you</td>\n",
       "      <td>uruguay</td>\n",
       "    </tr>\n",
       "    <tr>\n",
       "      <td>9647</td>\n",
       "      <td>\\nno hace mucho tiempo, mucha gente todavía se...</td>\n",
       "      <td>what-will-the-bank-of-the-future-look-like</td>\n",
       "      <td>spain</td>\n",
       "    </tr>\n",
       "    <tr>\n",
       "      <td>9846</td>\n",
       "      <td>\\nwe are proud to be part of bbva’s technologi...</td>\n",
       "      <td>part-of-bbvas-technological-progress-and-trans...</td>\n",
       "      <td>united states</td>\n",
       "    </tr>\n",
       "    <tr>\n",
       "      <td>9849</td>\n",
       "      <td>\\nadmittedly, i always find it difficult to na...</td>\n",
       "      <td>scaling-to-lots-of-problems</td>\n",
       "      <td>united arab emirates</td>\n",
       "    </tr>\n",
       "  </tbody>\n",
       "</table>\n",
       "<p>105 rows × 3 columns</p>\n",
       "</div>"
      ],
      "text/plain": [
       "                                                content  \\\n",
       "0     \\ndurante los últimos dos veranos he trabajado...   \n",
       "113   \\nla economía global digital continuará expand...   \n",
       "339   \\nhay increíbles introducciones, cursos y entr...   \n",
       "521   \\nmaximizar las ganancias es una premisa que s...   \n",
       "665   \\nmuchas consideraciones juegan un papel impor...   \n",
       "...                                                 ...   \n",
       "9515  \\nin our recent collaboration with united nati...   \n",
       "9543  \\nla huella digital derivada de nuestra activi...   \n",
       "9647  \\nno hace mucho tiempo, mucha gente todavía se...   \n",
       "9846  \\nwe are proud to be part of bbva’s technologi...   \n",
       "9849  \\nadmittedly, i always find it difficult to na...   \n",
       "\n",
       "                                              url_title               Country  \n",
       "0                                                4062-2                 spain  \n",
       "113         7-challenges-for-the-global-digital-economy                 india  \n",
       "339               a-weird-introduction-to-deep-learning         united states  \n",
       "521   adding-fairness-to-dynamic-pricing-with-reinfo...                 spain  \n",
       "665   an-international-football-story-how-to-analyze...                 spain  \n",
       "...                                                 ...                   ...  \n",
       "9515                           what-does-wind-look-like             hong kong  \n",
       "9543                 what-does-your-bank-know-about-you               uruguay  \n",
       "9647         what-will-the-bank-of-the-future-look-like                 spain  \n",
       "9846  part-of-bbvas-technological-progress-and-trans...         united states  \n",
       "9849                        scaling-to-lots-of-problems  united arab emirates  \n",
       "\n",
       "[105 rows x 3 columns]"
      ]
     },
     "execution_count": 8,
     "metadata": {},
     "output_type": "execute_result"
    }
   ],
   "source": [
    "df_topic"
   ]
  },
  {
   "cell_type": "markdown",
   "metadata": {},
   "source": [
    "## **DETECT LANGUAGE**"
   ]
  },
  {
   "cell_type": "code",
   "execution_count": 9,
   "metadata": {},
   "outputs": [],
   "source": [
    "from langdetect import detect\n",
    "df_topic['language'] = df_topic['content'].apply(detect)"
   ]
  },
  {
   "cell_type": "code",
   "execution_count": 10,
   "metadata": {},
   "outputs": [
    {
     "data": {
      "text/html": [
       "<div>\n",
       "<style scoped>\n",
       "    .dataframe tbody tr th:only-of-type {\n",
       "        vertical-align: middle;\n",
       "    }\n",
       "\n",
       "    .dataframe tbody tr th {\n",
       "        vertical-align: top;\n",
       "    }\n",
       "\n",
       "    .dataframe thead th {\n",
       "        text-align: right;\n",
       "    }\n",
       "</style>\n",
       "<table border=\"1\" class=\"dataframe\">\n",
       "  <thead>\n",
       "    <tr style=\"text-align: right;\">\n",
       "      <th></th>\n",
       "      <th>content</th>\n",
       "      <th>url_title</th>\n",
       "      <th>Country</th>\n",
       "      <th>language</th>\n",
       "    </tr>\n",
       "  </thead>\n",
       "  <tbody>\n",
       "    <tr>\n",
       "      <td>9515</td>\n",
       "      <td>\\nin our recent collaboration with united nati...</td>\n",
       "      <td>what-does-wind-look-like</td>\n",
       "      <td>hong kong</td>\n",
       "      <td>en</td>\n",
       "    </tr>\n",
       "    <tr>\n",
       "      <td>9543</td>\n",
       "      <td>\\nla huella digital derivada de nuestra activi...</td>\n",
       "      <td>what-does-your-bank-know-about-you</td>\n",
       "      <td>uruguay</td>\n",
       "      <td>es</td>\n",
       "    </tr>\n",
       "    <tr>\n",
       "      <td>9647</td>\n",
       "      <td>\\nno hace mucho tiempo, mucha gente todavía se...</td>\n",
       "      <td>what-will-the-bank-of-the-future-look-like</td>\n",
       "      <td>spain</td>\n",
       "      <td>es</td>\n",
       "    </tr>\n",
       "    <tr>\n",
       "      <td>9846</td>\n",
       "      <td>\\nwe are proud to be part of bbva’s technologi...</td>\n",
       "      <td>part-of-bbvas-technological-progress-and-trans...</td>\n",
       "      <td>united states</td>\n",
       "      <td>en</td>\n",
       "    </tr>\n",
       "    <tr>\n",
       "      <td>9849</td>\n",
       "      <td>\\nadmittedly, i always find it difficult to na...</td>\n",
       "      <td>scaling-to-lots-of-problems</td>\n",
       "      <td>united arab emirates</td>\n",
       "      <td>en</td>\n",
       "    </tr>\n",
       "  </tbody>\n",
       "</table>\n",
       "</div>"
      ],
      "text/plain": [
       "                                                content  \\\n",
       "9515  \\nin our recent collaboration with united nati...   \n",
       "9543  \\nla huella digital derivada de nuestra activi...   \n",
       "9647  \\nno hace mucho tiempo, mucha gente todavía se...   \n",
       "9846  \\nwe are proud to be part of bbva’s technologi...   \n",
       "9849  \\nadmittedly, i always find it difficult to na...   \n",
       "\n",
       "                                              url_title               Country  \\\n",
       "9515                           what-does-wind-look-like             hong kong   \n",
       "9543                 what-does-your-bank-know-about-you               uruguay   \n",
       "9647         what-will-the-bank-of-the-future-look-like                 spain   \n",
       "9846  part-of-bbvas-technological-progress-and-trans...         united states   \n",
       "9849                        scaling-to-lots-of-problems  united arab emirates   \n",
       "\n",
       "     language  \n",
       "9515       en  \n",
       "9543       es  \n",
       "9647       es  \n",
       "9846       en  \n",
       "9849       en  "
      ]
     },
     "execution_count": 10,
     "metadata": {},
     "output_type": "execute_result"
    }
   ],
   "source": [
    "df_topic.tail()"
   ]
  },
  {
   "cell_type": "code",
   "execution_count": 11,
   "metadata": {},
   "outputs": [],
   "source": [
    "#TextBlob(df.iloc[1,1]).detect_language()"
   ]
  },
  {
   "cell_type": "code",
   "execution_count": 12,
   "metadata": {},
   "outputs": [],
   "source": [
    "#df_topic[\"content\"].apply(language_txt)"
   ]
  },
  {
   "cell_type": "code",
   "execution_count": 13,
   "metadata": {},
   "outputs": [
    {
     "name": "stdout",
     "output_type": "stream",
     "text": [
      "(68, 4)\n"
     ]
    }
   ],
   "source": [
    "df_topic = df_topic[df_topic[\"language\"] != 'en']\n",
    "df_topic.tail()\n",
    "print(df_topic.shape)"
   ]
  },
  {
   "cell_type": "markdown",
   "metadata": {},
   "source": [
    "## **Data treatment**"
   ]
  },
  {
   "cell_type": "markdown",
   "metadata": {},
   "source": [
    "## **STOPWORDS**"
   ]
  },
  {
   "cell_type": "code",
   "execution_count": 14,
   "metadata": {},
   "outputs": [
    {
     "name": "stderr",
     "output_type": "stream",
     "text": [
      "/Users/erikapat/anaconda3/lib/python3.7/site-packages/pandas/core/indexing.py:576: SettingWithCopyWarning: \n",
      "A value is trying to be set on a copy of a slice from a DataFrame.\n",
      "Try using .loc[row_indexer,col_indexer] = value instead\n",
      "\n",
      "See the caveats in the documentation: http://pandas.pydata.org/pandas-docs/stable/user_guide/indexing.html#returning-a-view-versus-a-copy\n",
      "  self.obj[item_labels[indexer[info_axis]]] = value\n"
     ]
    }
   ],
   "source": [
    "from nltk.corpus import stopwords\n",
    "stop = stopwords.words('spanish')\n",
    "# Exclude stopwords with Python's list comprehension and pandas.DataFrame.apply.\n",
    "df_topic.loc[:,'content'] = df_topic['content'].apply(lambda x: ' '.join([word for word in x.split() if word not in (stop)]))"
   ]
  },
  {
   "cell_type": "markdown",
   "metadata": {},
   "source": [
    "## **LEMMATIZATION**"
   ]
  },
  {
   "cell_type": "code",
   "execution_count": 15,
   "metadata": {},
   "outputs": [],
   "source": [
    "## lematization\n",
    "import nltk\n",
    "from nltk.stem.wordnet import WordNetLemmatizer\n",
    "from nltk.tokenize import ToktokTokenizer\n",
    "lemma=WordNetLemmatizer()\n",
    "token=nltk.data.load('tokenizers/punkt/spanish.pickle')\n",
    "\n",
    "def lemitizeWords(text):\n",
    "    words=token.tokenize(text)\n",
    "    listLemma=[]\n",
    "    for w in words:\n",
    "        x=lemma.lemmatize(w,'v')\n",
    "        listLemma.append(x)\n",
    "    return text\n",
    "df_topic.loc[:,'content'] = df_topic['content'].map(lambda x : lemitizeWords(x))"
   ]
  },
  {
   "cell_type": "code",
   "execution_count": 16,
   "metadata": {},
   "outputs": [
    {
     "data": {
      "text/html": [
       "<div>\n",
       "<style scoped>\n",
       "    .dataframe tbody tr th:only-of-type {\n",
       "        vertical-align: middle;\n",
       "    }\n",
       "\n",
       "    .dataframe tbody tr th {\n",
       "        vertical-align: top;\n",
       "    }\n",
       "\n",
       "    .dataframe thead th {\n",
       "        text-align: right;\n",
       "    }\n",
       "</style>\n",
       "<table border=\"1\" class=\"dataframe\">\n",
       "  <thead>\n",
       "    <tr style=\"text-align: right;\">\n",
       "      <th></th>\n",
       "      <th>content</th>\n",
       "      <th>url_title</th>\n",
       "      <th>Country</th>\n",
       "      <th>language</th>\n",
       "    </tr>\n",
       "  </thead>\n",
       "  <tbody>\n",
       "    <tr>\n",
       "      <td>0</td>\n",
       "      <td>últimos dos veranos trabajado becario bbva dat...</td>\n",
       "      <td>4062-2</td>\n",
       "      <td>spain</td>\n",
       "      <td>es</td>\n",
       "    </tr>\n",
       "    <tr>\n",
       "      <td>113</td>\n",
       "      <td>economía global digital continuará expandiéndo...</td>\n",
       "      <td>7-challenges-for-the-global-digital-economy</td>\n",
       "      <td>india</td>\n",
       "      <td>es</td>\n",
       "    </tr>\n",
       "    <tr>\n",
       "      <td>339</td>\n",
       "      <td>increíbles introducciones, cursos entradas blo...</td>\n",
       "      <td>a-weird-introduction-to-deep-learning</td>\n",
       "      <td>united states</td>\n",
       "      <td>es</td>\n",
       "    </tr>\n",
       "    <tr>\n",
       "      <td>521</td>\n",
       "      <td>maximizar ganancias premisa siempre presente m...</td>\n",
       "      <td>adding-fairness-to-dynamic-pricing-with-reinfo...</td>\n",
       "      <td>spain</td>\n",
       "      <td>es</td>\n",
       "    </tr>\n",
       "    <tr>\n",
       "      <td>665</td>\n",
       "      <td>muchas consideraciones juegan papel importante...</td>\n",
       "      <td>an-international-football-story-how-to-analyze...</td>\n",
       "      <td>spain</td>\n",
       "      <td>es</td>\n",
       "    </tr>\n",
       "    <tr>\n",
       "      <td>...</td>\n",
       "      <td>...</td>\n",
       "      <td>...</td>\n",
       "      <td>...</td>\n",
       "      <td>...</td>\n",
       "    </tr>\n",
       "    <tr>\n",
       "      <td>9243</td>\n",
       "      <td>aplicaciones física estadística teoría grafos ...</td>\n",
       "      <td>untangle-cascade-effects-complex-systems</td>\n",
       "      <td>spain</td>\n",
       "      <td>es</td>\n",
       "    </tr>\n",
       "    <tr>\n",
       "      <td>9348</td>\n",
       "      <td>ciudades hardware físico sirve soporte múltipl...</td>\n",
       "      <td>urban-analytics-to-measure-the-economic-impact...</td>\n",
       "      <td>spain</td>\n",
       "      <td>es</td>\n",
       "    </tr>\n",
       "    <tr>\n",
       "      <td>9395</td>\n",
       "      <td>finales año pasado, urban discovery mostró nue...</td>\n",
       "      <td>urban-discovery-a-vision-to-rethink-cities</td>\n",
       "      <td>spain</td>\n",
       "      <td>es</td>\n",
       "    </tr>\n",
       "    <tr>\n",
       "      <td>9543</td>\n",
       "      <td>huella digital derivada actividad bancaria (tr...</td>\n",
       "      <td>what-does-your-bank-know-about-you</td>\n",
       "      <td>uruguay</td>\n",
       "      <td>es</td>\n",
       "    </tr>\n",
       "    <tr>\n",
       "      <td>9647</td>\n",
       "      <td>hace tiempo, mucha gente todavía presentaba of...</td>\n",
       "      <td>what-will-the-bank-of-the-future-look-like</td>\n",
       "      <td>spain</td>\n",
       "      <td>es</td>\n",
       "    </tr>\n",
       "  </tbody>\n",
       "</table>\n",
       "<p>68 rows × 4 columns</p>\n",
       "</div>"
      ],
      "text/plain": [
       "                                                content  \\\n",
       "0     últimos dos veranos trabajado becario bbva dat...   \n",
       "113   economía global digital continuará expandiéndo...   \n",
       "339   increíbles introducciones, cursos entradas blo...   \n",
       "521   maximizar ganancias premisa siempre presente m...   \n",
       "665   muchas consideraciones juegan papel importante...   \n",
       "...                                                 ...   \n",
       "9243  aplicaciones física estadística teoría grafos ...   \n",
       "9348  ciudades hardware físico sirve soporte múltipl...   \n",
       "9395  finales año pasado, urban discovery mostró nue...   \n",
       "9543  huella digital derivada actividad bancaria (tr...   \n",
       "9647  hace tiempo, mucha gente todavía presentaba of...   \n",
       "\n",
       "                                              url_title        Country  \\\n",
       "0                                                4062-2          spain   \n",
       "113         7-challenges-for-the-global-digital-economy          india   \n",
       "339               a-weird-introduction-to-deep-learning  united states   \n",
       "521   adding-fairness-to-dynamic-pricing-with-reinfo...          spain   \n",
       "665   an-international-football-story-how-to-analyze...          spain   \n",
       "...                                                 ...            ...   \n",
       "9243           untangle-cascade-effects-complex-systems          spain   \n",
       "9348  urban-analytics-to-measure-the-economic-impact...          spain   \n",
       "9395         urban-discovery-a-vision-to-rethink-cities          spain   \n",
       "9543                 what-does-your-bank-know-about-you        uruguay   \n",
       "9647         what-will-the-bank-of-the-future-look-like          spain   \n",
       "\n",
       "     language  \n",
       "0          es  \n",
       "113        es  \n",
       "339        es  \n",
       "521        es  \n",
       "665        es  \n",
       "...       ...  \n",
       "9243       es  \n",
       "9348       es  \n",
       "9395       es  \n",
       "9543       es  \n",
       "9647       es  \n",
       "\n",
       "[68 rows x 4 columns]"
      ]
     },
     "execution_count": 16,
     "metadata": {},
     "output_type": "execute_result"
    }
   ],
   "source": [
    "df_topic"
   ]
  },
  {
   "cell_type": "markdown",
   "metadata": {},
   "source": [
    "## **TOPIC MODELLING**"
   ]
  },
  {
   "cell_type": "code",
   "execution_count": 17,
   "metadata": {},
   "outputs": [],
   "source": [
    "from sklearn.feature_extraction.text import TfidfVectorizer\n",
    "tfidf = TfidfVectorizer(max_df=0.95, min_df=2, stop_words=None)\n",
    "dtm = tfidf.fit_transform(df_topic['content'])"
   ]
  },
  {
   "cell_type": "code",
   "execution_count": 18,
   "metadata": {},
   "outputs": [
    {
     "data": {
      "text/plain": [
       "<68x3579 sparse matrix of type '<class 'numpy.float64'>'\n",
       "\twith 18351 stored elements in Compressed Sparse Row format>"
      ]
     },
     "execution_count": 18,
     "metadata": {},
     "output_type": "execute_result"
    }
   ],
   "source": [
    "dtm"
   ]
  },
  {
   "cell_type": "markdown",
   "metadata": {},
   "source": [
    "## **NMF: Non-Negative Matrix Factorization (NMF)**"
   ]
  },
  {
   "cell_type": "code",
   "execution_count": 19,
   "metadata": {},
   "outputs": [
    {
     "data": {
      "text/plain": [
       "NMF(alpha=0.0, beta_loss='frobenius', init=None, l1_ratio=0.0, max_iter=200,\n",
       "  n_components=7, random_state=42, shuffle=False, solver='cd', tol=0.0001,\n",
       "  verbose=0)"
      ]
     },
     "execution_count": 19,
     "metadata": {},
     "output_type": "execute_result"
    }
   ],
   "source": [
    "from sklearn.decomposition import NMF\n",
    "nmf_model = NMF(n_components=7,random_state=42)\n",
    "# This can take awhile, we're dealing with a large amount of documents!\n",
    "nmf_model.fit(dtm)"
   ]
  },
  {
   "cell_type": "code",
   "execution_count": 20,
   "metadata": {},
   "outputs": [
    {
     "data": {
      "text/plain": [
       "3579"
      ]
     },
     "execution_count": 20,
     "metadata": {},
     "output_type": "execute_result"
    }
   ],
   "source": [
    "len(tfidf.get_feature_names())"
   ]
  },
  {
   "cell_type": "code",
   "execution_count": 21,
   "metadata": {},
   "outputs": [
    {
     "name": "stdout",
     "output_type": "stream",
     "text": [
      "potencialmente\n",
      "nacional\n",
      "imprevistos\n",
      "industrial\n",
      "señales\n",
      "volumen\n",
      "enormemente\n",
      "facilita\n",
      "normalización\n",
      "continuous\n"
     ]
    }
   ],
   "source": [
    "import random\n",
    "for i in range(10):\n",
    "    random_word_id = random.randint(0,len(tfidf.get_feature_names()))\n",
    "    print(tfidf.get_feature_names()[random_word_id])"
   ]
  },
  {
   "cell_type": "code",
   "execution_count": 22,
   "metadata": {},
   "outputs": [
    {
     "name": "stdout",
     "output_type": "stream",
     "text": [
      "de\n",
      "pública\n",
      "nos\n",
      "gráficos\n",
      "introducir\n",
      "sirven\n",
      "analizó\n",
      "lisboa\n",
      "flujos\n",
      "peatones\n"
     ]
    }
   ],
   "source": [
    "for i in range(10):\n",
    "    random_word_id = random.randint(0,len(tfidf.get_feature_names()))\n",
    "    print(tfidf.get_feature_names()[random_word_id])"
   ]
  },
  {
   "cell_type": "code",
   "execution_count": 23,
   "metadata": {},
   "outputs": [
    {
     "data": {
      "text/plain": [
       "7"
      ]
     },
     "execution_count": 23,
     "metadata": {},
     "output_type": "execute_result"
    }
   ],
   "source": [
    "len(nmf_model.components_)"
   ]
  },
  {
   "cell_type": "code",
   "execution_count": 24,
   "metadata": {},
   "outputs": [
    {
     "data": {
      "text/plain": [
       "array([[0.00237331, 0.0165615 , 0.003207  , ..., 0.00165877, 0.02820496,\n",
       "        0.01253705],\n",
       "       [0.        , 0.        , 0.        , ..., 0.        , 0.00596934,\n",
       "        0.        ],\n",
       "       [0.05247358, 0.01669061, 0.00704786, ..., 0.        , 0.        ,\n",
       "        0.00264694],\n",
       "       ...,\n",
       "       [0.03125727, 0.03293669, 0.01791406, ..., 0.00544971, 0.03280384,\n",
       "        0.01276598],\n",
       "       [0.012201  , 0.        , 0.00057586, ..., 0.        , 0.00445837,\n",
       "        0.01603016],\n",
       "       [0.        , 0.        , 0.01139958, ..., 0.00206193, 0.01009385,\n",
       "        0.0131604 ]])"
      ]
     },
     "execution_count": 24,
     "metadata": {},
     "output_type": "execute_result"
    }
   ],
   "source": [
    "nmf_model.components_"
   ]
  },
  {
   "cell_type": "code",
   "execution_count": 25,
   "metadata": {},
   "outputs": [
    {
     "data": {
      "text/plain": [
       "3579"
      ]
     },
     "execution_count": 25,
     "metadata": {},
     "output_type": "execute_result"
    }
   ],
   "source": [
    "len(nmf_model.components_[0])"
   ]
  },
  {
   "cell_type": "code",
   "execution_count": 26,
   "metadata": {},
   "outputs": [],
   "source": [
    "single_topic = nmf_model.components_[0]"
   ]
  },
  {
   "cell_type": "code",
   "execution_count": 27,
   "metadata": {},
   "outputs": [
    {
     "data": {
      "text/plain": [
       "array([1789, 2222, 2227, ...,  943,  267, 1992])"
      ]
     },
     "execution_count": 27,
     "metadata": {},
     "output_type": "execute_result"
    }
   ],
   "source": [
    "# Returns the indices that would sort this array.\n",
    "single_topic.argsort()"
   ]
  },
  {
   "cell_type": "code",
   "execution_count": 28,
   "metadata": {},
   "outputs": [
    {
     "data": {
      "text/plain": [
       "array([2302,  888,  711,  916, 2960, 2909, 2062,  943,  267, 1992])"
      ]
     },
     "execution_count": 28,
     "metadata": {},
     "output_type": "execute_result"
    }
   ],
   "source": [
    "# Top 10 words for this topic:\n",
    "single_topic.argsort()[-10:]"
   ]
  },
  {
   "cell_type": "code",
   "execution_count": 29,
   "metadata": {},
   "outputs": [],
   "source": [
    "top_word_indices = single_topic.argsort()[-10:]"
   ]
  },
  {
   "cell_type": "code",
   "execution_count": 30,
   "metadata": {},
   "outputs": [
    {
     "name": "stdout",
     "output_type": "stream",
     "text": [
      "neuronales\n",
      "cursos\n",
      "concepto\n",
      "datos\n",
      "representación\n",
      "redes\n",
      "machine\n",
      "deep\n",
      "aprendizaje\n",
      "learning\n"
     ]
    }
   ],
   "source": [
    "for index in top_word_indices:\n",
    "    print(tfidf.get_feature_names()[index])"
   ]
  },
  {
   "cell_type": "code",
   "execution_count": 31,
   "metadata": {},
   "outputs": [
    {
     "name": "stdout",
     "output_type": "stream",
     "text": [
      "THE TOP 15 WORDS FOR TOPIC #0\n",
      "['charla', 'modelos', 'and', 'conferencia', 'automático', 'neuronales', 'cursos', 'concepto', 'datos', 'representación', 'redes', 'machine', 'deep', 'aprendizaje', 'learning']\n",
      "\n",
      "\n",
      "THE TOP 15 WORDS FOR TOPIC #1\n",
      "['permite', 'talento', 'entorno', 'fabien', 'digital', 'responsable', 'commerce360', 'science', 'clientes', 'big', 'datos', 'banco', 'entrevista', 'bbva', 'data']\n",
      "\n",
      "\n",
      "THE TOP 15 WORDS FOR TOPIC #2\n",
      "['atributos', 'urbana', 'urban', 'barrios', 'zona', 'áreas', 'méxico', 'actividad', 'datos', 'comercial', 'barcelona', 'madrid', 'zonas', 'ciudades', 'ciudad']\n",
      "\n",
      "\n",
      "THE TOP 15 WORDS FOR TOPIC #3\n",
      "['uso', 'datos', 'microsoft', 'deep', 'tensorflow', 'machine', 'sql', 'summit', 'comunidad', 'gpu', 'streaming', 'learning', 'docker', 'apache', 'spark']\n",
      "\n",
      "\n",
      "THE TOP 15 WORDS FOR TOPIC #4\n",
      "['logística', 'financiera', 'ingresos', 'modelo', 'comentarios', 'transacción', 'motor', 'datos', 'predicción', 'transacciones', 'gastos', 'incertidumbre', 'bbva', 'cliente', 'clientes']\n",
      "\n",
      "\n",
      "THE TOP 15 WORDS FOR TOPIC #5\n",
      "['puede', 'mundo', 'aprendizaje', 'tiempo', 'decisiones', 'precios', 'modelos', 'autónomo', 'sociedad', 'equidad', 'máquinas', 'ia', 'ser', 'inteligencia', 'artificial']\n",
      "\n",
      "\n",
      "THE TOP 15 WORDS FOR TOPIC #6\n",
      "['servicios', 'europea', 'digitales', 'privacidad', 'protección', 'nuevos', 'empresas', 'cómo', 'limpieza', 'proyectos', 'información', 'fines', 'personas', 'personales', 'datos']\n",
      "\n",
      "\n"
     ]
    }
   ],
   "source": [
    "for index,topic in enumerate(nmf_model.components_):\n",
    "    print(f'THE TOP 15 WORDS FOR TOPIC #{index}')\n",
    "    print([tfidf.get_feature_names()[i] for i in topic.argsort()[-15:]])\n",
    "    print('\\n')"
   ]
  },
  {
   "cell_type": "code",
   "execution_count": 32,
   "metadata": {},
   "outputs": [
    {
     "name": "stdout",
     "output_type": "stream",
     "text": [
      "(68, 7)\n"
     ]
    }
   ],
   "source": [
    "topic_results = nmf_model.transform(dtm)\n",
    "print(topic_results.shape)"
   ]
  },
  {
   "cell_type": "code",
   "execution_count": 33,
   "metadata": {},
   "outputs": [
    {
     "data": {
      "text/plain": [
       "scipy.sparse.csr.csr_matrix"
      ]
     },
     "execution_count": 33,
     "metadata": {},
     "output_type": "execute_result"
    }
   ],
   "source": [
    "type(dtm)"
   ]
  },
  {
   "cell_type": "code",
   "execution_count": 34,
   "metadata": {},
   "outputs": [
    {
     "name": "stderr",
     "output_type": "stream",
     "text": [
      "/Users/erikapat/anaconda3/lib/python3.7/site-packages/ipykernel_launcher.py:1: SettingWithCopyWarning: \n",
      "A value is trying to be set on a copy of a slice from a DataFrame.\n",
      "Try using .loc[row_indexer,col_indexer] = value instead\n",
      "\n",
      "See the caveats in the documentation: http://pandas.pydata.org/pandas-docs/stable/user_guide/indexing.html#returning-a-view-versus-a-copy\n",
      "  \"\"\"Entry point for launching an IPython kernel.\n"
     ]
    }
   ],
   "source": [
    "df_topic['Topic'] = topic_results.argmax(axis=1)"
   ]
  },
  {
   "cell_type": "code",
   "execution_count": 56,
   "metadata": {},
   "outputs": [],
   "source": [
    "\n",
    "from sklearn.decomposition import PCA, TruncatedSVD\n",
    "import matplotlib\n",
    "import matplotlib.patches as mpatches\n",
    "import matplotlib.pyplot as plt\n",
    "\n",
    "\n",
    "def plot_LSA(data, text_labels, plot = True):\n",
    "    '''\n",
    "    Dimensionality reduction using truncated SVD (aka LSA).\n",
    "\n",
    "    This transformer performs linear dimensionality reduction by means of truncated singular value decomposition (SVD). \n",
    "    Contrary to PCA, this estimator does not center the data before computing the singular value decomposition. \n",
    "    This means it can work with scipy.sparse matrices efficiently.\n",
    "    '''\n",
    "    lsa = TruncatedSVD(n_components=2)\n",
    "    lsa.fit(data)\n",
    "    lsa_scores = lsa.transform(data)\n",
    "    color_mapper = {label:idx for idx,label in enumerate(set(text_labels))}\n",
    "    color_column = [color_mapper[label] for label in text_labels]\n",
    "    colors = ['orange','blue','red', 'gray', 'purple', 'black', 'green']\n",
    "    if plot:\n",
    "        plt.scatter(lsa_scores[:,0], lsa_scores[:,1], s=75, alpha=.1, c=text_labels, cmap=matplotlib.colors.ListedColormap(colors))\n",
    "        orange_patch = mpatches.Patch(color='orange', label='0')\n",
    "        blue_patch = mpatches.Patch(color='blue', label='1')\n",
    "        red_patch = mpatches.Patch(color='red', label='2')\n",
    "        gray_patch = mpatches.Patch(color='gray', label='3')\n",
    "        purple_patch = mpatches.Patch(color='purple', label='4')\n",
    "        black_patch = mpatches.Patch(color='black', label='5')\n",
    "        green_patch = mpatches.Patch(color='green', label='6')\n",
    "        plt.legend(handles=[orange_patch, blue_patch, red_patch, gray_patch, purple_patch,\n",
    "                            black_patch, green_patch], \n",
    "                   prop={'size': 30})\n",
    "\n",
    "  "
   ]
  },
  {
   "cell_type": "code",
   "execution_count": 57,
   "metadata": {},
   "outputs": [
    {
     "data": {
      "image/png": "[encoded data removed]",
      "text/plain": [
       "<Figure size 720x720 with 1 Axes>"
      ]
     },
     "metadata": {
      "needs_background": "light"
     },
     "output_type": "display_data"
    }
   ],
   "source": [
    "fig = plt.figure(figsize=(10, 10))          \n",
    "plot_LSA(dtm, df_topic.Topic)\n",
    "plt.show()"
   ]
  },
  {
   "cell_type": "markdown",
   "metadata": {},
   "source": [
    "## **UNDERSTAND THE TOPICS**"
   ]
  },
  {
   "cell_type": "code",
   "execution_count": 37,
   "metadata": {},
   "outputs": [],
   "source": [
    "pd.set_option('display.max_colwidth', 199)  # or 199\n",
    "df_topic = df_topic.sort_values(by=['Topic'])\n",
    "df =df_topic[['url_title', 'content', 'Topic']]"
   ]
  },
  {
   "cell_type": "code",
   "execution_count": 38,
   "metadata": {},
   "outputs": [
    {
     "name": "stdout",
     "output_type": "stream",
     "text": [
      "(10, 3)\n"
     ]
    },
    {
     "data": {
      "text/html": [
       "<div>\n",
       "<style scoped>\n",
       "    .dataframe tbody tr th:only-of-type {\n",
       "        vertical-align: middle;\n",
       "    }\n",
       "\n",
       "    .dataframe tbody tr th {\n",
       "        vertical-align: top;\n",
       "    }\n",
       "\n",
       "    .dataframe thead th {\n",
       "        text-align: right;\n",
       "    }\n",
       "</style>\n",
       "<table border=\"1\" class=\"dataframe\">\n",
       "  <thead>\n",
       "    <tr style=\"text-align: right;\">\n",
       "      <th></th>\n",
       "      <th>url_title</th>\n",
       "      <th>content</th>\n",
       "      <th>Topic</th>\n",
       "    </tr>\n",
       "  </thead>\n",
       "  <tbody>\n",
       "    <tr>\n",
       "      <td>6930</td>\n",
       "      <td>saw-open-data-science-conference-europe-2017</td>\n",
       "      <td>odsc londres 2017 mostró asombrosa variedad herramientas, librerías, notebooks aplicaciones ciencia datos. 75 ponentes, 1.500 asistentes literalmente espacio más. importa si prefieres python, r i...</td>\n",
       "      <td>0</td>\n",
       "    </tr>\n",
       "    <tr>\n",
       "      <td>6497</td>\n",
       "      <td>saw-ecml-pkdd-2017</td>\n",
       "      <td>pasado septiembre placer asistir european conference on machine learning (ecml), venido celebrando simultáneamente junto conferencia principles and practice of knowledge discovery in databases (p...</td>\n",
       "      <td>0</td>\n",
       "    </tr>\n",
       "    <tr>\n",
       "      <td>5049</td>\n",
       "      <td>not-deep-learning-learning-represent</td>\n",
       "      <td>recientemente, creado grupo trabajo dedicado deep learning (aprendizaje profundo). grupos trabajo ofrecen oportunidades compartir internamente ideas, conceptos, recursos, código, etc. además, pre...</td>\n",
       "      <td>0</td>\n",
       "    </tr>\n",
       "    <tr>\n",
       "      <td>6789</td>\n",
       "      <td>saw-liked-2017</td>\n",
       "      <td>bbva data &amp; analytics encanta compartir artículos, blogs noticias inteligencia artificial (ai) aprendizaje automático (ml) mantener día compromiso pasión utilización aprendizaje automático campo ...</td>\n",
       "      <td>0</td>\n",
       "    </tr>\n",
       "    <tr>\n",
       "      <td>6997</td>\n",
       "      <td>saw-recsys-2017-conference</td>\n",
       "      <td>recsys, lugar pasado 27 agosto 2017, mayores jornadas académicas sistemas recomendación (recsys) alcanzado año undécima edición récord histórico asistentes (627), demuestra creciente importancia ...</td>\n",
       "      <td>0</td>\n",
       "    </tr>\n",
       "  </tbody>\n",
       "</table>\n",
       "</div>"
      ],
      "text/plain": [
       "                                         url_title  \\\n",
       "6930  saw-open-data-science-conference-europe-2017   \n",
       "6497                            saw-ecml-pkdd-2017   \n",
       "5049          not-deep-learning-learning-represent   \n",
       "6789                                saw-liked-2017   \n",
       "6997                    saw-recsys-2017-conference   \n",
       "\n",
       "                                                                                                                                                                                                     content  \\\n",
       "6930  odsc londres 2017 mostró asombrosa variedad herramientas, librerías, notebooks aplicaciones ciencia datos. 75 ponentes, 1.500 asistentes literalmente espacio más. importa si prefieres python, r i...   \n",
       "6497  pasado septiembre placer asistir european conference on machine learning (ecml), venido celebrando simultáneamente junto conferencia principles and practice of knowledge discovery in databases (p...   \n",
       "5049  recientemente, creado grupo trabajo dedicado deep learning (aprendizaje profundo). grupos trabajo ofrecen oportunidades compartir internamente ideas, conceptos, recursos, código, etc. además, pre...   \n",
       "6789  bbva data & analytics encanta compartir artículos, blogs noticias inteligencia artificial (ai) aprendizaje automático (ml) mantener día compromiso pasión utilización aprendizaje automático campo ...   \n",
       "6997  recsys, lugar pasado 27 agosto 2017, mayores jornadas académicas sistemas recomendación (recsys) alcanzado año undécima edición récord histórico asistentes (627), demuestra creciente importancia ...   \n",
       "\n",
       "      Topic  \n",
       "6930      0  \n",
       "6497      0  \n",
       "5049      0  \n",
       "6789      0  \n",
       "6997      0  "
      ]
     },
     "execution_count": 38,
     "metadata": {},
     "output_type": "execute_result"
    }
   ],
   "source": [
    "print(df[df['Topic'] == 0].shape)\n",
    "df[df['Topic'] == 0].head()"
   ]
  },
  {
   "cell_type": "code",
   "execution_count": 39,
   "metadata": {},
   "outputs": [
    {
     "name": "stdout",
     "output_type": "stream",
     "text": [
      "(8, 3)\n"
     ]
    },
    {
     "data": {
      "text/html": [
       "<div>\n",
       "<style scoped>\n",
       "    .dataframe tbody tr th:only-of-type {\n",
       "        vertical-align: middle;\n",
       "    }\n",
       "\n",
       "    .dataframe tbody tr th {\n",
       "        vertical-align: top;\n",
       "    }\n",
       "\n",
       "    .dataframe thead th {\n",
       "        text-align: right;\n",
       "    }\n",
       "</style>\n",
       "<table border=\"1\" class=\"dataframe\">\n",
       "  <thead>\n",
       "    <tr style=\"text-align: right;\">\n",
       "      <th></th>\n",
       "      <th>url_title</th>\n",
       "      <th>content</th>\n",
       "      <th>Topic</th>\n",
       "    </tr>\n",
       "  </thead>\n",
       "  <tbody>\n",
       "    <tr>\n",
       "      <td>1476</td>\n",
       "      <td>big-data-volume-is-not-the-problem-but-the-generation-of-value-in-an-environment-with-such-diversity</td>\n",
       "      <td>jon ander beracoechea — co-ceo bbva data &amp; analytics jon doctorado ingeniería eléctrica publicado múltiples trabajos campo procesamiento adaptativo señales. hace 9 años aplica técnicas avanzadas ...</td>\n",
       "      <td>1</td>\n",
       "    </tr>\n",
       "    <tr>\n",
       "      <td>3785</td>\n",
       "      <td>first-look-back-look-forward</td>\n",
       "      <td>medida finaliza 2017, momento ideal elaborar lista logros alcanzados período y, supuesto, discutir nuevos retos avecinan. co-ceos fabien girardin jon ander beracoechea acaban cerrar revisión obje...</td>\n",
       "      <td>1</td>\n",
       "    </tr>\n",
       "    <tr>\n",
       "      <td>1287</td>\n",
       "      <td>big-data-transformed-bbva-way-things</td>\n",
       "      <td>fabien girardin, co-ceo bbva data &amp; analytics, concedió entrevista publicada recientemente revista knowmadas analiza aplicación avanzada técnicas análisis big data banca principales componentes s...</td>\n",
       "      <td>1</td>\n",
       "    </tr>\n",
       "    <tr>\n",
       "      <td>9543</td>\n",
       "      <td>what-does-your-bank-know-about-you</td>\n",
       "      <td>huella digital derivada actividad bancaria (transferencias realizadas, movimientos tarjetas, etc.), supone fuente información rica actualización permanente, permite banco desarrollar productos se...</td>\n",
       "      <td>1</td>\n",
       "    </tr>\n",
       "    <tr>\n",
       "      <td>2742</td>\n",
       "      <td>digital-transformation-big-data-companies</td>\n",
       "      <td>pasado simposio internacional innovación aplicada imat, celebrado 28 30 junio valencia, compañero josep amorós, responsable commerce360, participó ponente charla dedicada transformación digital b...</td>\n",
       "      <td>1</td>\n",
       "    </tr>\n",
       "  </tbody>\n",
       "</table>\n",
       "</div>"
      ],
      "text/plain": [
       "                                                                                                 url_title  \\\n",
       "1476  big-data-volume-is-not-the-problem-but-the-generation-of-value-in-an-environment-with-such-diversity   \n",
       "3785                                                                          first-look-back-look-forward   \n",
       "1287                                                                  big-data-transformed-bbva-way-things   \n",
       "9543                                                                    what-does-your-bank-know-about-you   \n",
       "2742                                                             digital-transformation-big-data-companies   \n",
       "\n",
       "                                                                                                                                                                                                     content  \\\n",
       "1476  jon ander beracoechea — co-ceo bbva data & analytics jon doctorado ingeniería eléctrica publicado múltiples trabajos campo procesamiento adaptativo señales. hace 9 años aplica técnicas avanzadas ...   \n",
       "3785  medida finaliza 2017, momento ideal elaborar lista logros alcanzados período y, supuesto, discutir nuevos retos avecinan. co-ceos fabien girardin jon ander beracoechea acaban cerrar revisión obje...   \n",
       "1287  fabien girardin, co-ceo bbva data & analytics, concedió entrevista publicada recientemente revista knowmadas analiza aplicación avanzada técnicas análisis big data banca principales componentes s...   \n",
       "9543  huella digital derivada actividad bancaria (transferencias realizadas, movimientos tarjetas, etc.), supone fuente información rica actualización permanente, permite banco desarrollar productos se...   \n",
       "2742  pasado simposio internacional innovación aplicada imat, celebrado 28 30 junio valencia, compañero josep amorós, responsable commerce360, participó ponente charla dedicada transformación digital b...   \n",
       "\n",
       "      Topic  \n",
       "1476      1  \n",
       "3785      1  \n",
       "1287      1  \n",
       "9543      1  \n",
       "2742      1  "
      ]
     },
     "execution_count": 39,
     "metadata": {},
     "output_type": "execute_result"
    }
   ],
   "source": [
    "print(df[df['Topic'] == 1].shape)\n",
    "df[df['Topic'] == 1].head()"
   ]
  },
  {
   "cell_type": "code",
   "execution_count": 40,
   "metadata": {},
   "outputs": [
    {
     "name": "stdout",
     "output_type": "stream",
     "text": [
      "(8, 3)\n"
     ]
    },
    {
     "data": {
      "text/html": [
       "<div>\n",
       "<style scoped>\n",
       "    .dataframe tbody tr th:only-of-type {\n",
       "        vertical-align: middle;\n",
       "    }\n",
       "\n",
       "    .dataframe tbody tr th {\n",
       "        vertical-align: top;\n",
       "    }\n",
       "\n",
       "    .dataframe thead th {\n",
       "        text-align: right;\n",
       "    }\n",
       "</style>\n",
       "<table border=\"1\" class=\"dataframe\">\n",
       "  <thead>\n",
       "    <tr style=\"text-align: right;\">\n",
       "      <th></th>\n",
       "      <th>url_title</th>\n",
       "      <th>content</th>\n",
       "      <th>Topic</th>\n",
       "    </tr>\n",
       "  </thead>\n",
       "  <tbody>\n",
       "    <tr>\n",
       "      <td>2389</td>\n",
       "      <td>creating-value-from-geolocated-financial-data</td>\n",
       "      <td>recientemente, lugar carto locations 2017, conferencia inmersiva 2 días últimos desarrollos industria, innovación ideas mundo inteligencia localización. junto profesionales expertos industria, el...</td>\n",
       "      <td>2</td>\n",
       "    </tr>\n",
       "    <tr>\n",
       "      <td>9348</td>\n",
       "      <td>urban-analytics-to-measure-the-economic-impact-of-traffic-calming</td>\n",
       "      <td>ciudades hardware físico sirve soporte múltiples dinámicas superpuestas, resultado superposición sistema extremadamente complejo. cualquier cambio condiciones produce efectos positivos negativos ...</td>\n",
       "      <td>2</td>\n",
       "    </tr>\n",
       "    <tr>\n",
       "      <td>9395</td>\n",
       "      <td>urban-discovery-a-vision-to-rethink-cities</td>\n",
       "      <td>finales año pasado, urban discovery mostró nueva forma representar ciudades basada comportamiento compra. enfoque permitió bbva data &amp; analytics examinar madrid, barcelona ciudad méxico bajo nuev...</td>\n",
       "      <td>2</td>\n",
       "    </tr>\n",
       "    <tr>\n",
       "      <td>5913</td>\n",
       "      <td>rediscovering-cities-credit-card-data-2</td>\n",
       "      <td>— lectura resultados perspectiva urbanística antecedentes artículo anterior descrito metodología, modelos herramientas analíticas representación empleados proyecto urban discovery, desarrollado j...</td>\n",
       "      <td>2</td>\n",
       "    </tr>\n",
       "    <tr>\n",
       "      <td>9243</td>\n",
       "      <td>untangle-cascade-effects-complex-systems</td>\n",
       "      <td>aplicaciones física estadística teoría grafos fenómenos sociales ayudando descubrir patrones comportamiento inesperados permiten reaccionar manera efectiva eventos desestabilizadores redes comple...</td>\n",
       "      <td>2</td>\n",
       "    </tr>\n",
       "  </tbody>\n",
       "</table>\n",
       "</div>"
      ],
      "text/plain": [
       "                                                              url_title  \\\n",
       "2389                      creating-value-from-geolocated-financial-data   \n",
       "9348  urban-analytics-to-measure-the-economic-impact-of-traffic-calming   \n",
       "9395                         urban-discovery-a-vision-to-rethink-cities   \n",
       "5913                            rediscovering-cities-credit-card-data-2   \n",
       "9243                           untangle-cascade-effects-complex-systems   \n",
       "\n",
       "                                                                                                                                                                                                     content  \\\n",
       "2389  recientemente, lugar carto locations 2017, conferencia inmersiva 2 días últimos desarrollos industria, innovación ideas mundo inteligencia localización. junto profesionales expertos industria, el...   \n",
       "9348  ciudades hardware físico sirve soporte múltiples dinámicas superpuestas, resultado superposición sistema extremadamente complejo. cualquier cambio condiciones produce efectos positivos negativos ...   \n",
       "9395  finales año pasado, urban discovery mostró nueva forma representar ciudades basada comportamiento compra. enfoque permitió bbva data & analytics examinar madrid, barcelona ciudad méxico bajo nuev...   \n",
       "5913  — lectura resultados perspectiva urbanística antecedentes artículo anterior descrito metodología, modelos herramientas analíticas representación empleados proyecto urban discovery, desarrollado j...   \n",
       "9243  aplicaciones física estadística teoría grafos fenómenos sociales ayudando descubrir patrones comportamiento inesperados permiten reaccionar manera efectiva eventos desestabilizadores redes comple...   \n",
       "\n",
       "      Topic  \n",
       "2389      2  \n",
       "9348      2  \n",
       "9395      2  \n",
       "5913      2  \n",
       "9243      2  "
      ]
     },
     "execution_count": 40,
     "metadata": {},
     "output_type": "execute_result"
    }
   ],
   "source": [
    "print(df[df['Topic'] == 2].shape)\n",
    "df[df['Topic'] == 2].head()"
   ]
  },
  {
   "cell_type": "code",
   "execution_count": 41,
   "metadata": {},
   "outputs": [
    {
     "name": "stdout",
     "output_type": "stream",
     "text": [
      "(4, 3)\n"
     ]
    },
    {
     "data": {
      "text/html": [
       "<div>\n",
       "<style scoped>\n",
       "    .dataframe tbody tr th:only-of-type {\n",
       "        vertical-align: middle;\n",
       "    }\n",
       "\n",
       "    .dataframe tbody tr th {\n",
       "        vertical-align: top;\n",
       "    }\n",
       "\n",
       "    .dataframe thead th {\n",
       "        text-align: right;\n",
       "    }\n",
       "</style>\n",
       "<table border=\"1\" class=\"dataframe\">\n",
       "  <thead>\n",
       "    <tr style=\"text-align: right;\">\n",
       "      <th></th>\n",
       "      <th>url_title</th>\n",
       "      <th>content</th>\n",
       "      <th>Topic</th>\n",
       "    </tr>\n",
       "  </thead>\n",
       "  <tbody>\n",
       "    <tr>\n",
       "      <td>7068</td>\n",
       "      <td>saw-spark-summit-2017-spark-embraces-deep-learning</td>\n",
       "      <td>conferencia spark summit 2017, lugar san francisco pasado mes junio, atrajo 3000 miembros distintos sectores participaron 170 sesiones discutir tendencias construirán productos basados datos futu...</td>\n",
       "      <td>3</td>\n",
       "    </tr>\n",
       "    <tr>\n",
       "      <td>7142</td>\n",
       "      <td>saw-spark-summit-europe-2017-spark-libraries-real-machine-learning-systems-production-reality-deep-learning-spark</td>\n",
       "      <td>hace mes lugar último spark summit europe, evento grande mundo comunidad apache spark™, participaron 1200 desarrolladores, ingenieros, científicos datos, investigadores profesionales negocio. jos...</td>\n",
       "      <td>3</td>\n",
       "    </tr>\n",
       "    <tr>\n",
       "      <td>2804</td>\n",
       "      <td>environment-spark-less-30-seconds-thanks-docker</td>\n",
       "      <td>seguro alguna vez querido “cacharrear” alguna tecnología, afán aprender seguro visto mermado dificultad instalar necesario sistema operativo. artículo explicaremos cómo empezar jugar spark import...</td>\n",
       "      <td>3</td>\n",
       "    </tr>\n",
       "    <tr>\n",
       "      <td>2165</td>\n",
       "      <td>cost-effective-scalable-collaborative-filtering-based-recommender-system</td>\n",
       "      <td>pasado jueves (26 septiembre) oportunidad presentar colaboración bbva data &amp; analytics beeva theatre of partners aws summit madrid 2017. conferencia, presentamos enfoque rentable sistemas recomen...</td>\n",
       "      <td>3</td>\n",
       "    </tr>\n",
       "  </tbody>\n",
       "</table>\n",
       "</div>"
      ],
      "text/plain": [
       "                                                                                                              url_title  \\\n",
       "7068                                                                 saw-spark-summit-2017-spark-embraces-deep-learning   \n",
       "7142  saw-spark-summit-europe-2017-spark-libraries-real-machine-learning-systems-production-reality-deep-learning-spark   \n",
       "2804                                                                    environment-spark-less-30-seconds-thanks-docker   \n",
       "2165                                           cost-effective-scalable-collaborative-filtering-based-recommender-system   \n",
       "\n",
       "                                                                                                                                                                                                     content  \\\n",
       "7068  conferencia spark summit 2017, lugar san francisco pasado mes junio, atrajo 3000 miembros distintos sectores participaron 170 sesiones discutir tendencias construirán productos basados datos futu...   \n",
       "7142  hace mes lugar último spark summit europe, evento grande mundo comunidad apache spark™, participaron 1200 desarrolladores, ingenieros, científicos datos, investigadores profesionales negocio. jos...   \n",
       "2804  seguro alguna vez querido “cacharrear” alguna tecnología, afán aprender seguro visto mermado dificultad instalar necesario sistema operativo. artículo explicaremos cómo empezar jugar spark import...   \n",
       "2165  pasado jueves (26 septiembre) oportunidad presentar colaboración bbva data & analytics beeva theatre of partners aws summit madrid 2017. conferencia, presentamos enfoque rentable sistemas recomen...   \n",
       "\n",
       "      Topic  \n",
       "7068      3  \n",
       "7142      3  \n",
       "2804      3  \n",
       "2165      3  "
      ]
     },
     "execution_count": 41,
     "metadata": {},
     "output_type": "execute_result"
    }
   ],
   "source": [
    "print(df[df['Topic'] == 3].shape)\n",
    "df[df['Topic'] == 3].head()"
   ]
  },
  {
   "cell_type": "code",
   "execution_count": 42,
   "metadata": {},
   "outputs": [
    {
     "name": "stdout",
     "output_type": "stream",
     "text": [
      "(12, 3)\n"
     ]
    },
    {
     "data": {
      "text/html": [
       "<div>\n",
       "<style scoped>\n",
       "    .dataframe tbody tr th:only-of-type {\n",
       "        vertical-align: middle;\n",
       "    }\n",
       "\n",
       "    .dataframe tbody tr th {\n",
       "        vertical-align: top;\n",
       "    }\n",
       "\n",
       "    .dataframe thead th {\n",
       "        text-align: right;\n",
       "    }\n",
       "</style>\n",
       "<table border=\"1\" class=\"dataframe\">\n",
       "  <thead>\n",
       "    <tr style=\"text-align: right;\">\n",
       "      <th></th>\n",
       "      <th>url_title</th>\n",
       "      <th>content</th>\n",
       "      <th>Topic</th>\n",
       "    </tr>\n",
       "  </thead>\n",
       "  <tbody>\n",
       "    <tr>\n",
       "      <td>5154</td>\n",
       "      <td>one-click-closer-to-an-ai-powered-account-manager</td>\n",
       "      <td>mientras preparas café mañana, corres junto río justo subirte coche. ahora puedes completar transferencia pago, administrar salud cuenta perder vista rutina, llenar tediosa lista números formular...</td>\n",
       "      <td>4</td>\n",
       "    </tr>\n",
       "    <tr>\n",
       "      <td>5336</td>\n",
       "      <td>personalizing-banking-services-advanced-data-analytics</td>\n",
       "      <td>modelo bancario tradicional, datos producidos cliente procesados analistas datos. ingresos gastos clientes utilizaron comprender tendencias globales diseñar productos servicios atractivos segment...</td>\n",
       "      <td>4</td>\n",
       "    </tr>\n",
       "    <tr>\n",
       "      <td>0</td>\n",
       "      <td>4062-2</td>\n",
       "      <td>últimos dos veranos trabajado becario bbva data &amp; analytics, tiempo desarrollado trabajo gustaría explorar artículo. sigue resumen técnico aprendizajes adquiridos trabajando embedding palabras ca...</td>\n",
       "      <td>4</td>\n",
       "    </tr>\n",
       "    <tr>\n",
       "      <td>4592</td>\n",
       "      <td>kitties-helped-bbva-detect-credit-card-fraud</td>\n",
       "      <td>grupo científicos datos bbva data &amp; analytics desarrollado modelo aprendizaje profundo utiliza novedoso enfoque detección fraudes tarjetas crédito. metodología sido aplicada científicos datos bbv...</td>\n",
       "      <td>4</td>\n",
       "    </tr>\n",
       "    <tr>\n",
       "      <td>4359</td>\n",
       "      <td>improving-response-rate-non-customer-campaigns-smote-algorithm</td>\n",
       "      <td>antecedentes atraer nuevos clientes reto cualquier empresa, tasa respuesta campañas marketing generalmente baja no-clientes. algoritmos tradicionales aprendizaje automático, regresión logística, ...</td>\n",
       "      <td>4</td>\n",
       "    </tr>\n",
       "  </tbody>\n",
       "</table>\n",
       "</div>"
      ],
      "text/plain": [
       "                                                           url_title  \\\n",
       "5154               one-click-closer-to-an-ai-powered-account-manager   \n",
       "5336          personalizing-banking-services-advanced-data-analytics   \n",
       "0                                                             4062-2   \n",
       "4592                    kitties-helped-bbva-detect-credit-card-fraud   \n",
       "4359  improving-response-rate-non-customer-campaigns-smote-algorithm   \n",
       "\n",
       "                                                                                                                                                                                                     content  \\\n",
       "5154  mientras preparas café mañana, corres junto río justo subirte coche. ahora puedes completar transferencia pago, administrar salud cuenta perder vista rutina, llenar tediosa lista números formular...   \n",
       "5336  modelo bancario tradicional, datos producidos cliente procesados analistas datos. ingresos gastos clientes utilizaron comprender tendencias globales diseñar productos servicios atractivos segment...   \n",
       "0     últimos dos veranos trabajado becario bbva data & analytics, tiempo desarrollado trabajo gustaría explorar artículo. sigue resumen técnico aprendizajes adquiridos trabajando embedding palabras ca...   \n",
       "4592  grupo científicos datos bbva data & analytics desarrollado modelo aprendizaje profundo utiliza novedoso enfoque detección fraudes tarjetas crédito. metodología sido aplicada científicos datos bbv...   \n",
       "4359  antecedentes atraer nuevos clientes reto cualquier empresa, tasa respuesta campañas marketing generalmente baja no-clientes. algoritmos tradicionales aprendizaje automático, regresión logística, ...   \n",
       "\n",
       "      Topic  \n",
       "5154      4  \n",
       "5336      4  \n",
       "0         4  \n",
       "4592      4  \n",
       "4359      4  "
      ]
     },
     "execution_count": 42,
     "metadata": {},
     "output_type": "execute_result"
    }
   ],
   "source": [
    "print(df[df['Topic'] == 4].shape)\n",
    "df[df['Topic'] == 4].head()"
   ]
  },
  {
   "cell_type": "code",
   "execution_count": 43,
   "metadata": {},
   "outputs": [
    {
     "name": "stdout",
     "output_type": "stream",
     "text": [
      "(10, 3)\n"
     ]
    },
    {
     "data": {
      "text/html": [
       "<div>\n",
       "<style scoped>\n",
       "    .dataframe tbody tr th:only-of-type {\n",
       "        vertical-align: middle;\n",
       "    }\n",
       "\n",
       "    .dataframe tbody tr th {\n",
       "        vertical-align: top;\n",
       "    }\n",
       "\n",
       "    .dataframe thead th {\n",
       "        text-align: right;\n",
       "    }\n",
       "</style>\n",
       "<table border=\"1\" class=\"dataframe\">\n",
       "  <thead>\n",
       "    <tr style=\"text-align: right;\">\n",
       "      <th></th>\n",
       "      <th>url_title</th>\n",
       "      <th>content</th>\n",
       "      <th>Topic</th>\n",
       "    </tr>\n",
       "  </thead>\n",
       "  <tbody>\n",
       "    <tr>\n",
       "      <td>6722</td>\n",
       "      <td>saw-liked-2017-part-3</td>\n",
       "      <td>campo amplio machine learning: análisis redes nuevas interacciones máquinas interacciones máquinas humanos — iskra velitchkova ciencia, tradicionalmente vivido cómoda complejidad, exige, parte so...</td>\n",
       "      <td>5</td>\n",
       "    </tr>\n",
       "    <tr>\n",
       "      <td>7322</td>\n",
       "      <td>stephen-hawking-genius-saw-potential-responsible-development-artificial-intelligence</td>\n",
       "      <td>stephen hawking (1942-2018) dejó mundo dedicarse estrellas pi day, celebrado matemáticos físicos mundo. leyeron “una breve historia tiempo” decidieron explorar mundo través números ojos científic...</td>\n",
       "      <td>5</td>\n",
       "    </tr>\n",
       "    <tr>\n",
       "      <td>8435</td>\n",
       "      <td>the-most-important-developments-in-data-science-of-2018</td>\n",
       "      <td>año punto dar finalizado sido importantes cuanto desarrollo tecnologías aprendizaje autónomo (machine learning). 2018, gran parte debate centrado cómo seguir perfeccionando tecnologías pasar simp...</td>\n",
       "      <td>5</td>\n",
       "    </tr>\n",
       "    <tr>\n",
       "      <td>4899</td>\n",
       "      <td>nips-chronicles-saw</td>\n",
       "      <td>puede convertido tradición: diciembre momento muestran frutos maduros 12 meses investigación global aprendizaje automático definen perfilan tendencias futuras parece haberse convertido reunión im...</td>\n",
       "      <td>5</td>\n",
       "    </tr>\n",
       "    <tr>\n",
       "      <td>9647</td>\n",
       "      <td>what-will-the-bank-of-the-future-look-like</td>\n",
       "      <td>hace tiempo, mucha gente todavía presentaba oficina bancaria cheque pago empleador, recogía dinero iba nueva pila facturas, nunca veía columnas gigantesco edificio siguiente día pago. vieron caso...</td>\n",
       "      <td>5</td>\n",
       "    </tr>\n",
       "    <tr>\n",
       "      <td>521</td>\n",
       "      <td>adding-fairness-to-dynamic-pricing-with-reinforcement-learning</td>\n",
       "      <td>maximizar ganancias premisa siempre presente mente cada comerciante vendedor primeros días comercio; pensaban. realidad, cada actor busca ganancias intercambio bienes servicios tiende inconscient...</td>\n",
       "      <td>5</td>\n",
       "    </tr>\n",
       "    <tr>\n",
       "      <td>4753</td>\n",
       "      <td>lifting-the-veil-of-interpretability-in-a-world-controlled-by-algorithms</td>\n",
       "      <td>cada vez rápida adopción inteligencia artificial (ai) aprendizaje autónomo (machine learning) importantes ámbitos sociedad, falta transparencia torno procesos convertido preocupación perceptible ...</td>\n",
       "      <td>5</td>\n",
       "    </tr>\n",
       "  </tbody>\n",
       "</table>\n",
       "</div>"
      ],
      "text/plain": [
       "                                                                                 url_title  \\\n",
       "6722                                                                 saw-liked-2017-part-3   \n",
       "7322  stephen-hawking-genius-saw-potential-responsible-development-artificial-intelligence   \n",
       "8435                               the-most-important-developments-in-data-science-of-2018   \n",
       "4899                                                                   nips-chronicles-saw   \n",
       "9647                                            what-will-the-bank-of-the-future-look-like   \n",
       "521                         adding-fairness-to-dynamic-pricing-with-reinforcement-learning   \n",
       "4753              lifting-the-veil-of-interpretability-in-a-world-controlled-by-algorithms   \n",
       "\n",
       "                                                                                                                                                                                                     content  \\\n",
       "6722  campo amplio machine learning: análisis redes nuevas interacciones máquinas interacciones máquinas humanos — iskra velitchkova ciencia, tradicionalmente vivido cómoda complejidad, exige, parte so...   \n",
       "7322  stephen hawking (1942-2018) dejó mundo dedicarse estrellas pi day, celebrado matemáticos físicos mundo. leyeron “una breve historia tiempo” decidieron explorar mundo través números ojos científic...   \n",
       "8435  año punto dar finalizado sido importantes cuanto desarrollo tecnologías aprendizaje autónomo (machine learning). 2018, gran parte debate centrado cómo seguir perfeccionando tecnologías pasar simp...   \n",
       "4899  puede convertido tradición: diciembre momento muestran frutos maduros 12 meses investigación global aprendizaje automático definen perfilan tendencias futuras parece haberse convertido reunión im...   \n",
       "9647  hace tiempo, mucha gente todavía presentaba oficina bancaria cheque pago empleador, recogía dinero iba nueva pila facturas, nunca veía columnas gigantesco edificio siguiente día pago. vieron caso...   \n",
       "521   maximizar ganancias premisa siempre presente mente cada comerciante vendedor primeros días comercio; pensaban. realidad, cada actor busca ganancias intercambio bienes servicios tiende inconscient...   \n",
       "4753  cada vez rápida adopción inteligencia artificial (ai) aprendizaje autónomo (machine learning) importantes ámbitos sociedad, falta transparencia torno procesos convertido preocupación perceptible ...   \n",
       "\n",
       "      Topic  \n",
       "6722      5  \n",
       "7322      5  \n",
       "8435      5  \n",
       "4899      5  \n",
       "9647      5  \n",
       "521       5  \n",
       "4753      5  "
      ]
     },
     "execution_count": 43,
     "metadata": {},
     "output_type": "execute_result"
    }
   ],
   "source": [
    "print(df[df['Topic'] == 5].shape)\n",
    "df[df['Topic'] == 5].head(7)"
   ]
  },
  {
   "cell_type": "code",
   "execution_count": 44,
   "metadata": {},
   "outputs": [
    {
     "name": "stdout",
     "output_type": "stream",
     "text": [
      "(16, 3)\n"
     ]
    },
    {
     "data": {
      "text/html": [
       "<div>\n",
       "<style scoped>\n",
       "    .dataframe tbody tr th:only-of-type {\n",
       "        vertical-align: middle;\n",
       "    }\n",
       "\n",
       "    .dataframe tbody tr th {\n",
       "        vertical-align: top;\n",
       "    }\n",
       "\n",
       "    .dataframe thead th {\n",
       "        text-align: right;\n",
       "    }\n",
       "</style>\n",
       "<table border=\"1\" class=\"dataframe\">\n",
       "  <thead>\n",
       "    <tr style=\"text-align: right;\">\n",
       "      <th></th>\n",
       "      <th>url_title</th>\n",
       "      <th>content</th>\n",
       "      <th>Topic</th>\n",
       "    </tr>\n",
       "  </thead>\n",
       "  <tbody>\n",
       "    <tr>\n",
       "      <td>113</td>\n",
       "      <td>7-challenges-for-the-global-digital-economy</td>\n",
       "      <td>economía global digital continuará expandiéndose diversificándose 2017. nuevas tecnologías, clientes nuevos hábitos amenazas globales abrirán oportunidades amenazas empresas diferentes sectores. ...</td>\n",
       "      <td>6</td>\n",
       "    </tr>\n",
       "    <tr>\n",
       "      <td>665</td>\n",
       "      <td>an-international-football-story-how-to-analyze-a-collective-game-individually</td>\n",
       "      <td>muchas consideraciones juegan papel importante largo sinuoso camino hacia historia fútbol internacional. solo jugador -el astuto maradona, enérgico pelé elegante johan cruyff- puede cambiar desti...</td>\n",
       "      <td>6</td>\n",
       "    </tr>\n",
       "    <tr>\n",
       "      <td>1104</td>\n",
       "      <td>bbva-data-analytics-awarded-by-the-banker-technology-projects-of-the-year-award</td>\n",
       "      <td>entrevista francisco javier lópez peñalver jordi nin jordi nin — científico datos bbva data &amp; analytics jordi doctor ciencias computación, 75 publicaciones investigación revistas, conferencias ca...</td>\n",
       "      <td>6</td>\n",
       "    </tr>\n",
       "    <tr>\n",
       "      <td>8653</td>\n",
       "      <td>training-an-essential-perk-to-retain-a-data-scientist-profile</td>\n",
       "      <td>primer hito bbva data &amp; analytics alcanzó 2011, unidad innovación bbva creó pequeño equipo investigación, comprometido uso fuentes datos existentes resolver retos negocio. varias colaboraciones e...</td>\n",
       "      <td>6</td>\n",
       "    </tr>\n",
       "    <tr>\n",
       "      <td>1697</td>\n",
       "      <td>building-open-source-software-in-a-large-corporation</td>\n",
       "      <td>mundo funciona datos, naturaleza dinámica, accesible adaptable software código abierto (oss, siglas inglés — open source software), ritmo explotación campos ricos datos dolorosamente lento. imagi...</td>\n",
       "      <td>6</td>\n",
       "    </tr>\n",
       "    <tr>\n",
       "      <td>5829</td>\n",
       "      <td>recsys-debate-widen-world-find-new-ones</td>\n",
       "      <td>bbva data &amp; analytics creemos futuro tecnología debe ser continuamente cuestionado, debatido considerado diferentes puntos vista. filosofía, organizamos semana encuentro convencional artistas, ju...</td>\n",
       "      <td>6</td>\n",
       "    </tr>\n",
       "    <tr>\n",
       "      <td>6288</td>\n",
       "      <td>research-and-innovation-what-the-future-looks-like-for-the-eu</td>\n",
       "      <td>¿cuáles tecnologías perfilarán futuro unión europea?¿quiénes jugadores implicados creación innovaciones llegar? propósito dar respuesta preguntas analizado fuentes datos abiertos comisión europea...</td>\n",
       "      <td>6</td>\n",
       "    </tr>\n",
       "  </tbody>\n",
       "</table>\n",
       "</div>"
      ],
      "text/plain": [
       "                                                                            url_title  \\\n",
       "113                                       7-challenges-for-the-global-digital-economy   \n",
       "665     an-international-football-story-how-to-analyze-a-collective-game-individually   \n",
       "1104  bbva-data-analytics-awarded-by-the-banker-technology-projects-of-the-year-award   \n",
       "8653                    training-an-essential-perk-to-retain-a-data-scientist-profile   \n",
       "1697                             building-open-source-software-in-a-large-corporation   \n",
       "5829                                          recsys-debate-widen-world-find-new-ones   \n",
       "6288                    research-and-innovation-what-the-future-looks-like-for-the-eu   \n",
       "\n",
       "                                                                                                                                                                                                     content  \\\n",
       "113   economía global digital continuará expandiéndose diversificándose 2017. nuevas tecnologías, clientes nuevos hábitos amenazas globales abrirán oportunidades amenazas empresas diferentes sectores. ...   \n",
       "665   muchas consideraciones juegan papel importante largo sinuoso camino hacia historia fútbol internacional. solo jugador -el astuto maradona, enérgico pelé elegante johan cruyff- puede cambiar desti...   \n",
       "1104  entrevista francisco javier lópez peñalver jordi nin jordi nin — científico datos bbva data & analytics jordi doctor ciencias computación, 75 publicaciones investigación revistas, conferencias ca...   \n",
       "8653  primer hito bbva data & analytics alcanzó 2011, unidad innovación bbva creó pequeño equipo investigación, comprometido uso fuentes datos existentes resolver retos negocio. varias colaboraciones e...   \n",
       "1697  mundo funciona datos, naturaleza dinámica, accesible adaptable software código abierto (oss, siglas inglés — open source software), ritmo explotación campos ricos datos dolorosamente lento. imagi...   \n",
       "5829  bbva data & analytics creemos futuro tecnología debe ser continuamente cuestionado, debatido considerado diferentes puntos vista. filosofía, organizamos semana encuentro convencional artistas, ju...   \n",
       "6288  ¿cuáles tecnologías perfilarán futuro unión europea?¿quiénes jugadores implicados creación innovaciones llegar? propósito dar respuesta preguntas analizado fuentes datos abiertos comisión europea...   \n",
       "\n",
       "      Topic  \n",
       "113       6  \n",
       "665       6  \n",
       "1104      6  \n",
       "8653      6  \n",
       "1697      6  \n",
       "5829      6  \n",
       "6288      6  "
      ]
     },
     "execution_count": 44,
     "metadata": {},
     "output_type": "execute_result"
    }
   ],
   "source": [
    "print(df[df['Topic'] == 6].shape)\n",
    "df[df['Topic'] == 6].head(7)"
   ]
  },
  {
   "cell_type": "code",
   "execution_count": 45,
   "metadata": {},
   "outputs": [],
   "source": [
    "# 0: aprendizaje data science machine learning\n",
    "# 1: digital change in companies/companies and machine learning\n",
    "# 2: SMART CITIES\n",
    "# 3: TOOLS FOR MACHINE LEARNING/TECH\n",
    "# 4: PERSONALIZATION\n",
    "# 5: FUTURE/ADVANCE/THE FUTURE AND PAST OF SCIENCE\n",
    "# 6: RESEARCH"
   ]
  },
  {
   "cell_type": "code",
   "execution_count": 46,
   "metadata": {},
   "outputs": [
    {
     "data": {
      "text/html": [
       "<div>\n",
       "<style scoped>\n",
       "    .dataframe tbody tr th:only-of-type {\n",
       "        vertical-align: middle;\n",
       "    }\n",
       "\n",
       "    .dataframe tbody tr th {\n",
       "        vertical-align: top;\n",
       "    }\n",
       "\n",
       "    .dataframe thead th {\n",
       "        text-align: right;\n",
       "    }\n",
       "</style>\n",
       "<table border=\"1\" class=\"dataframe\">\n",
       "  <thead>\n",
       "    <tr style=\"text-align: right;\">\n",
       "      <th></th>\n",
       "      <th>url_title</th>\n",
       "      <th>content</th>\n",
       "      <th>Topic</th>\n",
       "    </tr>\n",
       "  </thead>\n",
       "  <tbody>\n",
       "    <tr>\n",
       "      <td>6930</td>\n",
       "      <td>saw-open-data-science-conference-europe-2017</td>\n",
       "      <td>odsc londres 2017 mostró asombrosa variedad herramientas, librerías, notebooks aplicaciones ciencia datos. 75 ponentes, 1.500 asistentes literalmente espacio más. importa si prefieres python, r i...</td>\n",
       "      <td>0</td>\n",
       "    </tr>\n",
       "    <tr>\n",
       "      <td>6497</td>\n",
       "      <td>saw-ecml-pkdd-2017</td>\n",
       "      <td>pasado septiembre placer asistir european conference on machine learning (ecml), venido celebrando simultáneamente junto conferencia principles and practice of knowledge discovery in databases (p...</td>\n",
       "      <td>0</td>\n",
       "    </tr>\n",
       "    <tr>\n",
       "      <td>5049</td>\n",
       "      <td>not-deep-learning-learning-represent</td>\n",
       "      <td>recientemente, creado grupo trabajo dedicado deep learning (aprendizaje profundo). grupos trabajo ofrecen oportunidades compartir internamente ideas, conceptos, recursos, código, etc. además, pre...</td>\n",
       "      <td>0</td>\n",
       "    </tr>\n",
       "    <tr>\n",
       "      <td>6789</td>\n",
       "      <td>saw-liked-2017</td>\n",
       "      <td>bbva data &amp; analytics encanta compartir artículos, blogs noticias inteligencia artificial (ai) aprendizaje automático (ml) mantener día compromiso pasión utilización aprendizaje automático campo ...</td>\n",
       "      <td>0</td>\n",
       "    </tr>\n",
       "    <tr>\n",
       "      <td>6997</td>\n",
       "      <td>saw-recsys-2017-conference</td>\n",
       "      <td>recsys, lugar pasado 27 agosto 2017, mayores jornadas académicas sistemas recomendación (recsys) alcanzado año undécima edición récord histórico asistentes (627), demuestra creciente importancia ...</td>\n",
       "      <td>0</td>\n",
       "    </tr>\n",
       "  </tbody>\n",
       "</table>\n",
       "</div>"
      ],
      "text/plain": [
       "                                         url_title  \\\n",
       "6930  saw-open-data-science-conference-europe-2017   \n",
       "6497                            saw-ecml-pkdd-2017   \n",
       "5049          not-deep-learning-learning-represent   \n",
       "6789                                saw-liked-2017   \n",
       "6997                    saw-recsys-2017-conference   \n",
       "\n",
       "                                                                                                                                                                                                     content  \\\n",
       "6930  odsc londres 2017 mostró asombrosa variedad herramientas, librerías, notebooks aplicaciones ciencia datos. 75 ponentes, 1.500 asistentes literalmente espacio más. importa si prefieres python, r i...   \n",
       "6497  pasado septiembre placer asistir european conference on machine learning (ecml), venido celebrando simultáneamente junto conferencia principles and practice of knowledge discovery in databases (p...   \n",
       "5049  recientemente, creado grupo trabajo dedicado deep learning (aprendizaje profundo). grupos trabajo ofrecen oportunidades compartir internamente ideas, conceptos, recursos, código, etc. además, pre...   \n",
       "6789  bbva data & analytics encanta compartir artículos, blogs noticias inteligencia artificial (ai) aprendizaje automático (ml) mantener día compromiso pasión utilización aprendizaje automático campo ...   \n",
       "6997  recsys, lugar pasado 27 agosto 2017, mayores jornadas académicas sistemas recomendación (recsys) alcanzado año undécima edición récord histórico asistentes (627), demuestra creciente importancia ...   \n",
       "\n",
       "      Topic  \n",
       "6930      0  \n",
       "6497      0  \n",
       "5049      0  \n",
       "6789      0  \n",
       "6997      0  "
      ]
     },
     "execution_count": 46,
     "metadata": {},
     "output_type": "execute_result"
    }
   ],
   "source": [
    "df.head()"
   ]
  },
  {
   "cell_type": "code",
   "execution_count": 47,
   "metadata": {},
   "outputs": [
    {
     "data": {
      "text/plain": [
       "<68x3579 sparse matrix of type '<class 'numpy.float64'>'\n",
       "\twith 18351 stored elements in Compressed Sparse Row format>"
      ]
     },
     "execution_count": 47,
     "metadata": {},
     "output_type": "execute_result"
    }
   ],
   "source": [
    "dtm"
   ]
  },
  {
   "cell_type": "code",
   "execution_count": 48,
   "metadata": {},
   "outputs": [],
   "source": [
    "df = df[['url_title', 'Topic']]\n",
    "df.to_csv(r'data/topic_data.csv', index = False)"
   ]
  },
  {
   "cell_type": "code",
   "execution_count": 49,
   "metadata": {},
   "outputs": [],
   "source": [
    "dth =df_topic['content']"
   ]
  },
  {
   "cell_type": "markdown",
   "metadata": {},
   "source": [
    "## **RECOMEND SIMILAR ARTICLES**"
   ]
  },
  {
   "cell_type": "code",
   "execution_count": 50,
   "metadata": {},
   "outputs": [],
   "source": [
    "#nmf_model = NMF(n_components=7,random_state=42)\n",
    "nmf_features = nmf_model.fit_transform(dtm)\n",
    "from sklearn.preprocessing import normalize\n",
    "norm_features = normalize(nmf_features)\n",
    "df = pd.DataFrame(norm_features)\n",
    "current_article = df.iloc[1, :]\n",
    "similarities = df.dot(current_article)"
   ]
  },
  {
   "cell_type": "code",
   "execution_count": 51,
   "metadata": {},
   "outputs": [
    {
     "name": "stdout",
     "output_type": "stream",
     "text": [
      "1     1.000000\n",
      "45    0.998987\n",
      "12    0.997596\n",
      "19    0.997435\n",
      "11    0.996199\n",
      "dtype: float64\n"
     ]
    }
   ],
   "source": [
    "print(similarities.nlargest()) "
   ]
  },
  {
   "cell_type": "code",
   "execution_count": 52,
   "metadata": {},
   "outputs": [
    {
     "data": {
      "text/plain": [
       "pandas.core.frame.DataFrame"
      ]
     },
     "execution_count": 52,
     "metadata": {},
     "output_type": "execute_result"
    }
   ],
   "source": [
    "type(df_topic)"
   ]
  },
  {
   "cell_type": "code",
   "execution_count": 53,
   "metadata": {},
   "outputs": [
    {
     "data": {
      "text/plain": [
       "content    pasado septiembre placer asistir european conference on machine learning (ecml), venido celebrando simultáneamente junto conferencia principles and practice of knowledge discovery in databases (p...\n",
       "Topic                                                                                                                                                                                                           0\n",
       "Name: 6497, dtype: object"
      ]
     },
     "execution_count": 53,
     "metadata": {},
     "output_type": "execute_result"
    }
   ],
   "source": [
    "d_t = pd.DataFrame(df_topic)\n",
    "d_t = d_t[['content', 'Topic']]\n",
    "d_t.iloc[1,:]"
   ]
  },
  {
   "cell_type": "markdown",
   "metadata": {},
   "source": [
    "## **EX: RECOMEND SIMILAR ARTICLES**"
   ]
  },
  {
   "cell_type": "code",
   "execution_count": 54,
   "metadata": {},
   "outputs": [],
   "source": [
    "#similar articles are: the same article and other 3."
   ]
  },
  {
   "cell_type": "code",
   "execution_count": 55,
   "metadata": {},
   "outputs": [
    {
     "data": {
      "text/html": [
       "<div>\n",
       "<style scoped>\n",
       "    .dataframe tbody tr th:only-of-type {\n",
       "        vertical-align: middle;\n",
       "    }\n",
       "\n",
       "    .dataframe tbody tr th {\n",
       "        vertical-align: top;\n",
       "    }\n",
       "\n",
       "    .dataframe thead th {\n",
       "        text-align: right;\n",
       "    }\n",
       "</style>\n",
       "<table border=\"1\" class=\"dataframe\">\n",
       "  <thead>\n",
       "    <tr style=\"text-align: right;\">\n",
       "      <th></th>\n",
       "      <th>content</th>\n",
       "      <th>Topic</th>\n",
       "    </tr>\n",
       "  </thead>\n",
       "  <tbody>\n",
       "    <tr>\n",
       "      <td>6497</td>\n",
       "      <td>pasado septiembre placer asistir european conference on machine learning (ecml), venido celebrando simultáneamente junto conferencia principles and practice of knowledge discovery in databases (p...</td>\n",
       "      <td>0</td>\n",
       "    </tr>\n",
       "    <tr>\n",
       "      <td>4899</td>\n",
       "      <td>puede convertido tradición: diciembre momento muestran frutos maduros 12 meses investigación global aprendizaje automático definen perfilan tendencias futuras parece haberse convertido reunión im...</td>\n",
       "      <td>5</td>\n",
       "    </tr>\n",
       "    <tr>\n",
       "      <td>1287</td>\n",
       "      <td>fabien girardin, co-ceo bbva data &amp; analytics, concedió entrevista publicada recientemente revista knowmadas analiza aplicación avanzada técnicas análisis big data banca principales componentes s...</td>\n",
       "      <td>1</td>\n",
       "    </tr>\n",
       "    <tr>\n",
       "      <td>9348</td>\n",
       "      <td>ciudades hardware físico sirve soporte múltiples dinámicas superpuestas, resultado superposición sistema extremadamente complejo. cualquier cambio condiciones produce efectos positivos negativos ...</td>\n",
       "      <td>2</td>\n",
       "    </tr>\n",
       "    <tr>\n",
       "      <td>3785</td>\n",
       "      <td>medida finaliza 2017, momento ideal elaborar lista logros alcanzados período y, supuesto, discutir nuevos retos avecinan. co-ceos fabien girardin jon ander beracoechea acaban cerrar revisión obje...</td>\n",
       "      <td>1</td>\n",
       "    </tr>\n",
       "  </tbody>\n",
       "</table>\n",
       "</div>"
      ],
      "text/plain": [
       "                                                                                                                                                                                                     content  \\\n",
       "6497  pasado septiembre placer asistir european conference on machine learning (ecml), venido celebrando simultáneamente junto conferencia principles and practice of knowledge discovery in databases (p...   \n",
       "4899  puede convertido tradición: diciembre momento muestran frutos maduros 12 meses investigación global aprendizaje automático definen perfilan tendencias futuras parece haberse convertido reunión im...   \n",
       "1287  fabien girardin, co-ceo bbva data & analytics, concedió entrevista publicada recientemente revista knowmadas analiza aplicación avanzada técnicas análisis big data banca principales componentes s...   \n",
       "9348  ciudades hardware físico sirve soporte múltiples dinámicas superpuestas, resultado superposición sistema extremadamente complejo. cualquier cambio condiciones produce efectos positivos negativos ...   \n",
       "3785  medida finaliza 2017, momento ideal elaborar lista logros alcanzados período y, supuesto, discutir nuevos retos avecinan. co-ceos fabien girardin jon ander beracoechea acaban cerrar revisión obje...   \n",
       "\n",
       "      Topic  \n",
       "6497      0  \n",
       "4899      5  \n",
       "1287      1  \n",
       "9348      2  \n",
       "3785      1  "
      ]
     },
     "execution_count": 55,
     "metadata": {},
     "output_type": "execute_result"
    }
   ],
   "source": [
    "d_t.iloc[list(pd.DataFrame(similarities.nlargest()).index),:]"
   ]
  },
  {
   "cell_type": "code",
   "execution_count": null,
   "metadata": {},
   "outputs": [],
   "source": []
  }
 ],
 "metadata": {
  "kernelspec": {
   "display_name": "Python 3",
   "language": "python",
   "name": "python3"
  },
  "language_info": {
   "codemirror_mode": {
    "name": "ipython",
    "version": 3
   },
   "file_extension": ".py",
   "mimetype": "text/x-python",
   "name": "python",
   "nbconvert_exporter": "python",
   "pygments_lexer": "ipython3",
   "version": "3.7.4"
  }
 },
 "nbformat": 4,
 "nbformat_minor": 4
}
