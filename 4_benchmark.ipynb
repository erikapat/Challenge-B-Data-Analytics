{
 "cells": [
  {
   "cell_type": "code",
   "execution_count": null,
   "metadata": {},
   "outputs": [],
   "source": []
  },
  {
   "cell_type": "markdown",
   "metadata": {},
   "source": [
    "## **Define the bechmark of the model**\n",
    "\n",
    "We will use the mean of the response variable"
   ]
  },
  {
   "cell_type": "code",
   "execution_count": 1,
   "metadata": {},
   "outputs": [],
   "source": [
    "## **LOAD PACKAGES**\n",
    "\n",
    "import pandas as pd\n",
    "import os\n",
    "from datetime import datetime\n",
    "import numpy as np\n",
    "\n",
    "#Sometimes I will use R functions (those I believe are the best ones)\n",
    "# Load in the r magic\n",
    "%load_ext rpy2.ipython"
   ]
  },
  {
   "cell_type": "code",
   "execution_count": 2,
   "metadata": {},
   "outputs": [],
   "source": [
    "#load treated and aggregated datas\n",
    "df = pd.read_csv('data/eng_data.csv') \n",
    "df_topic = pd.read_csv('data/topic_data.csv') "
   ]
  },
  {
   "cell_type": "code",
   "execution_count": 3,
   "metadata": {},
   "outputs": [
    {
     "name": "stdout",
     "output_type": "stream",
     "text": [
      "(9860, 21)\n",
      "(9860, 17)\n"
     ]
    }
   ],
   "source": [
    "df = pd.merge(df, df_topic, on = 'url_title', how = 'left')\n",
    "print(df.shape)\n",
    "df = df.select_dtypes(include=[np.int, np.float])\n",
    "print(df.shape)"
   ]
  },
  {
   "cell_type": "code",
   "execution_count": 4,
   "metadata": {},
   "outputs": [],
   "source": [
    "#topics in other languages\n",
    "df[\"Topic\"] = pd.to_numeric(df.Topic, errors='coerce').fillna(7).astype(int)\n",
    "df_copy = df.copy()\n",
    "#one hot encoding of topic\n",
    "df_topic = pd.get_dummies(df['Topic'],drop_first=True, prefix='Topic')\n",
    "# concatenate data.frames\n",
    "frames = [df, df_topic]\n",
    "df = pd.concat(frames, axis = 1) #, sort= True\n",
    "df = df.drop(columns = ['Topic'])"
   ]
  },
  {
   "cell_type": "code",
   "execution_count": 5,
   "metadata": {},
   "outputs": [],
   "source": [
    "## eliminate correlated columns\n",
    "df = df.drop(columns = ['Unique Page Views', 'Users'])"
   ]
  },
  {
   "cell_type": "code",
   "execution_count": 6,
   "metadata": {},
   "outputs": [],
   "source": [
    "#log transformations\n",
    "df['Avg_Time_Page'] = df['Avg. Time on Page']\n",
    "df['log_Avg_Time_Page'] = np.log(df['Avg_Time_Page'] + 10)\n",
    "df = df.drop(columns = ['Avg_Time_Page', 'Avg. Time on Page'])"
   ]
  },
  {
   "cell_type": "code",
   "execution_count": 7,
   "metadata": {},
   "outputs": [],
   "source": [
    "#division in training and test\n",
    "from sklearn.model_selection import train_test_split\n",
    "\n",
    "train, test = train_test_split(df, test_size=0.2)\n",
    "y_train = train['log_Avg_Time_Page'] \n",
    "x_train = train.drop(columns = ['log_Avg_Time_Page'])\n",
    "y_test  = test['log_Avg_Time_Page'] \n",
    "x_test  = test.drop(columns = ['log_Avg_Time_Page'])"
   ]
  },
  {
   "cell_type": "markdown",
   "metadata": {},
   "source": [
    "## **CONSIDERING ONLY THE MEAN**"
   ]
  },
  {
   "cell_type": "code",
   "execution_count": 8,
   "metadata": {},
   "outputs": [
    {
     "data": {
      "text/html": [
       "<div>\n",
       "<style scoped>\n",
       "    .dataframe tbody tr th:only-of-type {\n",
       "        vertical-align: middle;\n",
       "    }\n",
       "\n",
       "    .dataframe tbody tr th {\n",
       "        vertical-align: top;\n",
       "    }\n",
       "\n",
       "    .dataframe thead th {\n",
       "        text-align: right;\n",
       "    }\n",
       "</style>\n",
       "<table border=\"1\" class=\"dataframe\">\n",
       "  <thead>\n",
       "    <tr style=\"text-align: right;\">\n",
       "      <th></th>\n",
       "      <th>0</th>\n",
       "    </tr>\n",
       "  </thead>\n",
       "  <tbody>\n",
       "    <tr>\n",
       "      <td>0</td>\n",
       "      <td>1</td>\n",
       "    </tr>\n",
       "    <tr>\n",
       "      <td>1</td>\n",
       "      <td>1</td>\n",
       "    </tr>\n",
       "    <tr>\n",
       "      <td>2</td>\n",
       "      <td>1</td>\n",
       "    </tr>\n",
       "    <tr>\n",
       "      <td>3</td>\n",
       "      <td>1</td>\n",
       "    </tr>\n",
       "    <tr>\n",
       "      <td>4</td>\n",
       "      <td>1</td>\n",
       "    </tr>\n",
       "  </tbody>\n",
       "</table>\n",
       "</div>"
      ],
      "text/plain": [
       "   0\n",
       "0  1\n",
       "1  1\n",
       "2  1\n",
       "3  1\n",
       "4  1"
      ]
     },
     "execution_count": 8,
     "metadata": {},
     "output_type": "execute_result"
    }
   ],
   "source": [
    "d = pd.DataFrame(1, index=range(x_train.shape[0]), columns=range(1))\n",
    "d_test = pd.DataFrame(1, index=range(x_test.shape[0]), columns=range(1))\n",
    "d.head()"
   ]
  },
  {
   "cell_type": "code",
   "execution_count": 9,
   "metadata": {},
   "outputs": [],
   "source": [
    "from sklearn.linear_model import LinearRegression\n",
    "lm = LinearRegression()\n",
    "lm.fit(d,y_train)\n",
    "%matplotlib inline\n",
    "import matplotlib.pyplot as plt"
   ]
  },
  {
   "cell_type": "code",
   "execution_count": 10,
   "metadata": {},
   "outputs": [],
   "source": [
    "y_Train=list(y_train)\n",
    "y_predict=lm.predict(d)\n",
    "y_predict_test=lm.predict(d_test)"
   ]
  },
  {
   "cell_type": "code",
   "execution_count": 11,
   "metadata": {},
   "outputs": [],
   "source": [
    "def error_comparison(y_predict, y_Train, method = 'Ridge', data_t = 'training'):\n",
    "    \n",
    "    #transform\n",
    "    y_predict = np.exp(y_predict) - 10\n",
    "    y_Train = np.exp(y_Train) - 10\n",
    "    \n",
    "    \n",
    "    error=0\n",
    "    mae_sum = 0\n",
    "    mse_sum = 0\n",
    "    for i in range(len(y_Train)):\n",
    "        mae_sum += abs(y_Train[i]-y_predict[i])\n",
    "        #error+=(abs(y_Train[i]-y_predict[i])/y_predict[i])\n",
    "        mse_sum += (y_Train[i]-y_predict[i])**2\n",
    "    #train_error_ridge= 100 - error/len(y_Train)*100\n",
    "    mae = mae_sum/len(y_Train)\n",
    "    rmse = np.sqrt(mse_sum/len(y_Train))\n",
    "    #print(data_t + \" error = \"'{}'.format(train_error_ridge)+\" mape percent in \" + method + \" Regression\")\n",
    "    print(data_t + \" error = \"'{}'.format(mae)+\" mae in \" + method + \"Regression\")\n",
    "    print(data_t + \" error = \"'{}'.format(rmse)+\" rmse in \" + method + \"Regression\")\n",
    "\n",
    "    return 0, mae, rmse"
   ]
  },
  {
   "cell_type": "code",
   "execution_count": 12,
   "metadata": {},
   "outputs": [
    {
     "name": "stdout",
     "output_type": "stream",
     "text": [
      "training error = 85.74593719707444 mae in Regression\n",
      "training error = 217.83113873773326 rmse in Regression\n"
     ]
    },
    {
     "data": {
      "text/plain": [
       "(0, 85.74593719707444, 217.83113873773326)"
      ]
     },
     "execution_count": 12,
     "metadata": {},
     "output_type": "execute_result"
    }
   ],
   "source": [
    "error_comparison(y_predict, y_Train, '')"
   ]
  },
  {
   "cell_type": "code",
   "execution_count": 13,
   "metadata": {},
   "outputs": [
    {
     "name": "stdout",
     "output_type": "stream",
     "text": [
      "test error = 87.57624365100796 mae in regressionRegression\n",
      "test error = 229.17409102422468 rmse in regressionRegression\n"
     ]
    },
    {
     "data": {
      "text/plain": [
       "(0, 87.57624365100796, 229.17409102422468)"
      ]
     },
     "execution_count": 13,
     "metadata": {},
     "output_type": "execute_result"
    }
   ],
   "source": [
    "error_comparison(y_predict_test, list(y_test), method = 'regression', data_t = 'test')"
   ]
  },
  {
   "cell_type": "code",
   "execution_count": 14,
   "metadata": {},
   "outputs": [
    {
     "data": {
      "text/plain": [
       "3.261326246846019"
      ]
     },
     "execution_count": 14,
     "metadata": {},
     "output_type": "execute_result"
    }
   ],
   "source": [
    "y_train.mean()"
   ]
  },
  {
   "cell_type": "code",
   "execution_count": 15,
   "metadata": {},
   "outputs": [
    {
     "data": {
      "text/plain": [
       "1.3767328504878986"
      ]
     },
     "execution_count": 15,
     "metadata": {},
     "output_type": "execute_result"
    }
   ],
   "source": [
    "y_train.std()"
   ]
  },
  {
   "cell_type": "code",
   "execution_count": 16,
   "metadata": {},
   "outputs": [
    {
     "data": {
      "text/plain": [
       "array([3.26132625, 3.26132625, 3.26132625, ..., 3.26132625, 3.26132625,\n",
       "       3.26132625])"
      ]
     },
     "execution_count": 16,
     "metadata": {},
     "output_type": "execute_result"
    }
   ],
   "source": [
    "y_predict"
   ]
  },
  {
   "cell_type": "code",
   "execution_count": 17,
   "metadata": {},
   "outputs": [
    {
     "data": {
      "text/plain": [
       "array([3.26132625, 3.26132625, 3.26132625, ..., 3.26132625, 3.26132625,\n",
       "       3.26132625])"
      ]
     },
     "execution_count": 17,
     "metadata": {},
     "output_type": "execute_result"
    }
   ],
   "source": [
    "y_predict_test"
   ]
  },
  {
   "cell_type": "markdown",
   "metadata": {},
   "source": [
    "## **RANDOM ASSIGMENT**"
   ]
  },
  {
   "cell_type": "code",
   "execution_count": 18,
   "metadata": {},
   "outputs": [],
   "source": [
    "mu, sigma = 3.25, 1.37 # mean and standard deviation\n",
    "s = np.random.lognormal(mu, sigma, len(y_train))"
   ]
  },
  {
   "cell_type": "code",
   "execution_count": 19,
   "metadata": {},
   "outputs": [
    {
     "data": {
      "image/png": "[encoded data removed]",
      "text/plain": [
       "<Figure size 432x288 with 1 Axes>"
      ]
     },
     "metadata": {
      "needs_background": "light"
     },
     "output_type": "display_data"
    }
   ],
   "source": [
    "import matplotlib.pyplot as plt\n",
    "count, bins, ignored = plt.hist(s, 100, density=True, align='mid')\n",
    "x = np.linspace(min(bins), max(bins), len(y_train))\n",
    "pdf = (np.exp(-(np.log(x) - mu)**2 / (2 * sigma**2))\n",
    "        / (x * sigma * np.sqrt(2 * np.pi)))\n",
    "\n",
    "plt.plot(x, pdf, linewidth=2, color='r')\n",
    "plt.axis('tight')\n",
    "plt.show()"
   ]
  },
  {
   "cell_type": "code",
   "execution_count": 20,
   "metadata": {},
   "outputs": [
    {
     "data": {
      "image/png": "[encoded data removed]",
      "text/plain": [
       "<Figure size 432x288 with 1 Axes>"
      ]
     },
     "metadata": {
      "needs_background": "light"
     },
     "output_type": "display_data"
    }
   ],
   "source": [
    "xx =plt.hist((np.exp(y_train)-10), 100, density=True, align='mid')"
   ]
  },
  {
   "cell_type": "code",
   "execution_count": 21,
   "metadata": {},
   "outputs": [
    {
     "data": {
      "image/png": "[encoded data removed]",
      "text/plain": [
       "<Figure size 432x288 with 1 Axes>"
      ]
     },
     "metadata": {
      "needs_background": "light"
     },
     "output_type": "display_data"
    }
   ],
   "source": [
    "xx =plt.hist((np.exp(y_train)-10), 100, density=True, align='mid')\n",
    "plt.plot(x, pdf, linewidth=2, color='r')\n",
    "plt.axis('tight')\n",
    "plt.show()"
   ]
  },
  {
   "cell_type": "code",
   "execution_count": 22,
   "metadata": {},
   "outputs": [
    {
     "data": {
      "text/plain": [
       "[3, 4, 5]"
      ]
     },
     "execution_count": 22,
     "metadata": {},
     "output_type": "execute_result"
    }
   ],
   "source": [
    "mylist = [3, 4, 5, np.nan]\n",
    "l = [x for x in mylist if ~np.isnan(x)]\n",
    "l"
   ]
  },
  {
   "cell_type": "code",
   "execution_count": 23,
   "metadata": {},
   "outputs": [],
   "source": [
    "y_Train = list((np.exp(y_train)-10))\n",
    "y_Train=sorted(y_Train)\n",
    "s = sorted(s)"
   ]
  },
  {
   "cell_type": "code",
   "execution_count": 24,
   "metadata": {},
   "outputs": [
    {
     "name": "stdout",
     "output_type": "stream",
     "text": [
      "7888\n"
     ]
    },
    {
     "data": {
      "text/plain": [
       "7888"
      ]
     },
     "execution_count": 24,
     "metadata": {},
     "output_type": "execute_result"
    }
   ],
   "source": [
    "y_Train= [x for x in y_Train if ~np.isnan(x)]\n",
    "print(len(y_Train))\n",
    "s= [x for x in s if ~np.isnan(x)]\n",
    "len(s)"
   ]
  },
  {
   "cell_type": "code",
   "execution_count": 25,
   "metadata": {},
   "outputs": [],
   "source": [
    "s = s[0:6000]\n",
    "y_Train= y_Train[0:1000]"
   ]
  },
  {
   "cell_type": "code",
   "execution_count": 26,
   "metadata": {},
   "outputs": [
    {
     "data": {
      "text/plain": [
       "list"
      ]
     },
     "execution_count": 26,
     "metadata": {},
     "output_type": "execute_result"
    }
   ],
   "source": [
    "type(y_Train)"
   ]
  },
  {
   "cell_type": "code",
   "execution_count": 27,
   "metadata": {},
   "outputs": [
    {
     "data": {
      "text/plain": [
       "list"
      ]
     },
     "execution_count": 27,
     "metadata": {},
     "output_type": "execute_result"
    }
   ],
   "source": [
    "type(s)"
   ]
  },
  {
   "cell_type": "code",
   "execution_count": 28,
   "metadata": {},
   "outputs": [
    {
     "name": "stdout",
     "output_type": "stream",
     "text": [
      "training error = 50.844436068767806 mae in Regression\n",
      "training error = 76.4078097258224 rmse in Regression\n"
     ]
    },
    {
     "data": {
      "text/plain": [
       "(0, 50.844436068767806, 76.4078097258224)"
      ]
     },
     "execution_count": 28,
     "metadata": {},
     "output_type": "execute_result"
    }
   ],
   "source": [
    "error_comparison(s, y_Train, '')"
   ]
  },
  {
   "cell_type": "markdown",
   "metadata": {},
   "source": [
    "## **TSNE**"
   ]
  },
  {
   "cell_type": "code",
   "execution_count": 31,
   "metadata": {},
   "outputs": [
    {
     "data": {
      "text/html": [
       "<div>\n",
       "<style scoped>\n",
       "    .dataframe tbody tr th:only-of-type {\n",
       "        vertical-align: middle;\n",
       "    }\n",
       "\n",
       "    .dataframe tbody tr th {\n",
       "        vertical-align: top;\n",
       "    }\n",
       "\n",
       "    .dataframe thead th {\n",
       "        text-align: right;\n",
       "    }\n",
       "</style>\n",
       "<table border=\"1\" class=\"dataframe\">\n",
       "  <thead>\n",
       "    <tr style=\"text-align: right;\">\n",
       "      <th></th>\n",
       "      <th>Sessions</th>\n",
       "      <th>Avg. Time on Page</th>\n",
       "      <th>Bounce Rate</th>\n",
       "      <th>Page Views</th>\n",
       "      <th>Unique Page Views</th>\n",
       "      <th>Users</th>\n",
       "      <th>content_length</th>\n",
       "      <th>month</th>\n",
       "      <th>mobile</th>\n",
       "      <th>tablet</th>\n",
       "      <th>(direct)</th>\n",
       "      <th>goog</th>\n",
       "      <th>nkedin</th>\n",
       "      <th>t.co</th>\n",
       "      <th>spain</th>\n",
       "      <th>united states</th>\n",
       "      <th>Topic</th>\n",
       "    </tr>\n",
       "  </thead>\n",
       "  <tbody>\n",
       "    <tr>\n",
       "      <td>0</td>\n",
       "      <td>47.0</td>\n",
       "      <td>339</td>\n",
       "      <td>0.8511</td>\n",
       "      <td>64.0</td>\n",
       "      <td>50.0</td>\n",
       "      <td>28.0</td>\n",
       "      <td>15966</td>\n",
       "      <td>6</td>\n",
       "      <td>1</td>\n",
       "      <td>0</td>\n",
       "      <td>1</td>\n",
       "      <td>0</td>\n",
       "      <td>0</td>\n",
       "      <td>0</td>\n",
       "      <td>1</td>\n",
       "      <td>0</td>\n",
       "      <td>4</td>\n",
       "    </tr>\n",
       "    <tr>\n",
       "      <td>1</td>\n",
       "      <td>19.0</td>\n",
       "      <td>698</td>\n",
       "      <td>0.7368</td>\n",
       "      <td>30.0</td>\n",
       "      <td>25.0</td>\n",
       "      <td>20.0</td>\n",
       "      <td>15966</td>\n",
       "      <td>6</td>\n",
       "      <td>0</td>\n",
       "      <td>0</td>\n",
       "      <td>1</td>\n",
       "      <td>0</td>\n",
       "      <td>0</td>\n",
       "      <td>0</td>\n",
       "      <td>1</td>\n",
       "      <td>0</td>\n",
       "      <td>4</td>\n",
       "    </tr>\n",
       "    <tr>\n",
       "      <td>2</td>\n",
       "      <td>14.0</td>\n",
       "      <td>0</td>\n",
       "      <td>1.0000</td>\n",
       "      <td>14.0</td>\n",
       "      <td>14.0</td>\n",
       "      <td>5.0</td>\n",
       "      <td>15966</td>\n",
       "      <td>6</td>\n",
       "      <td>1</td>\n",
       "      <td>0</td>\n",
       "      <td>0</td>\n",
       "      <td>0</td>\n",
       "      <td>0</td>\n",
       "      <td>1</td>\n",
       "      <td>1</td>\n",
       "      <td>0</td>\n",
       "      <td>4</td>\n",
       "    </tr>\n",
       "    <tr>\n",
       "      <td>3</td>\n",
       "      <td>13.0</td>\n",
       "      <td>685</td>\n",
       "      <td>0.8462</td>\n",
       "      <td>16.0</td>\n",
       "      <td>14.0</td>\n",
       "      <td>12.0</td>\n",
       "      <td>15966</td>\n",
       "      <td>6</td>\n",
       "      <td>0</td>\n",
       "      <td>0</td>\n",
       "      <td>0</td>\n",
       "      <td>0</td>\n",
       "      <td>1</td>\n",
       "      <td>0</td>\n",
       "      <td>1</td>\n",
       "      <td>0</td>\n",
       "      <td>4</td>\n",
       "    </tr>\n",
       "    <tr>\n",
       "      <td>4</td>\n",
       "      <td>9.0</td>\n",
       "      <td>192</td>\n",
       "      <td>0.8889</td>\n",
       "      <td>13.0</td>\n",
       "      <td>12.0</td>\n",
       "      <td>8.0</td>\n",
       "      <td>15966</td>\n",
       "      <td>6</td>\n",
       "      <td>0</td>\n",
       "      <td>0</td>\n",
       "      <td>0</td>\n",
       "      <td>1</td>\n",
       "      <td>0</td>\n",
       "      <td>0</td>\n",
       "      <td>0</td>\n",
       "      <td>1</td>\n",
       "      <td>4</td>\n",
       "    </tr>\n",
       "  </tbody>\n",
       "</table>\n",
       "</div>"
      ],
      "text/plain": [
       "   Sessions  Avg. Time on Page  Bounce Rate  Page Views  Unique Page Views  \\\n",
       "0      47.0                339       0.8511        64.0               50.0   \n",
       "1      19.0                698       0.7368        30.0               25.0   \n",
       "2      14.0                  0       1.0000        14.0               14.0   \n",
       "3      13.0                685       0.8462        16.0               14.0   \n",
       "4       9.0                192       0.8889        13.0               12.0   \n",
       "\n",
       "   Users  content_length  month  mobile  tablet  (direct)  goog  nkedin  t.co  \\\n",
       "0   28.0           15966      6       1       0         1     0       0     0   \n",
       "1   20.0           15966      6       0       0         1     0       0     0   \n",
       "2    5.0           15966      6       1       0         0     0       0     1   \n",
       "3   12.0           15966      6       0       0         0     0       1     0   \n",
       "4    8.0           15966      6       0       0         0     1       0     0   \n",
       "\n",
       "   spain  united states  Topic  \n",
       "0      1              0      4  \n",
       "1      1              0      4  \n",
       "2      1              0      4  \n",
       "3      1              0      4  \n",
       "4      0              1      4  "
      ]
     },
     "execution_count": 31,
     "metadata": {},
     "output_type": "execute_result"
    }
   ],
   "source": [
    "df_copy.head()"
   ]
  },
  {
   "cell_type": "code",
   "execution_count": 33,
   "metadata": {},
   "outputs": [
    {
     "data": {
      "image/png": "[encoded data removed]",
      "text/plain": [
       "<Figure size 432x288 with 1 Axes>"
      ]
     },
     "metadata": {
      "needs_background": "light"
     },
     "output_type": "display_data"
    }
   ],
   "source": [
    "from sklearn.manifold import TSNE\n",
    "from sklearn.preprocessing import StandardScaler\n",
    "scaler = StandardScaler()\n",
    "\n",
    "X_scaled = scaler.fit_transform(df_copy.drop(['Topic'], axis=1))\n",
    "\n",
    "tsne = TSNE(random_state=17)\n",
    "tsne_repr = tsne.fit_transform(X_scaled)\n",
    "plt.scatter(tsne_repr[:, 0], tsne_repr[:, 1]);"
   ]
  },
  {
   "cell_type": "code",
   "execution_count": null,
   "metadata": {},
   "outputs": [],
   "source": [
    "plt.scatter(tsne_repr[:, 0], tsne_repr[:, 1], \n",
    "            c=df_copy['Topic'].map({0: 'green', 1: 'red', 2: 'gray', 3: 'purple',\n",
    "                                   4: 'black', 5: 'blue', 6: 'green', 7: 'red'}));"
   ]
  }
 ],
 "metadata": {
  "kernelspec": {
   "display_name": "Python 3",
   "language": "python",
   "name": "python3"
  },
  "language_info": {
   "codemirror_mode": {
    "name": "ipython",
    "version": 3
   },
   "file_extension": ".py",
   "mimetype": "text/x-python",
   "name": "python",
   "nbconvert_exporter": "python",
   "pygments_lexer": "ipython3",
   "version": "3.7.4"
  }
 },
 "nbformat": 4,
 "nbformat_minor": 4
}
